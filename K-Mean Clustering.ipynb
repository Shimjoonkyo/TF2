{
 "cells": [
  {
   "cell_type": "code",
   "execution_count": 1,
   "metadata": {},
   "outputs": [],
   "source": [
    "import pandas as pd\n",
    "import seaborn as sns\n",
    "import matplotlib.pyplot as plt\n",
    "import numpy as np"
   ]
  },
  {
   "cell_type": "code",
   "execution_count": 2,
   "metadata": {},
   "outputs": [],
   "source": [
    "from sklearn import datasets,metrics\n",
    "from sklearn.model_selection import train_test_split"
   ]
  },
  {
   "cell_type": "code",
   "execution_count": 15,
   "metadata": {},
   "outputs": [],
   "source": [
    "data=pd.read_csv('data/kmeandata.csv')"
   ]
  },
  {
   "cell_type": "code",
   "execution_count": 32,
   "metadata": {},
   "outputs": [
    {
     "data": {
      "text/html": [
       "<div>\n",
       "<style scoped>\n",
       "    .dataframe tbody tr th:only-of-type {\n",
       "        vertical-align: middle;\n",
       "    }\n",
       "\n",
       "    .dataframe tbody tr th {\n",
       "        vertical-align: top;\n",
       "    }\n",
       "\n",
       "    .dataframe thead th {\n",
       "        text-align: right;\n",
       "    }\n",
       "</style>\n",
       "<table border=\"1\" class=\"dataframe\">\n",
       "  <thead>\n",
       "    <tr style=\"text-align: right;\">\n",
       "      <th></th>\n",
       "      <th>x</th>\n",
       "      <th>y</th>\n",
       "      <th>cluster</th>\n",
       "    </tr>\n",
       "  </thead>\n",
       "  <tbody>\n",
       "    <tr>\n",
       "      <th>0</th>\n",
       "      <td>-8.482852</td>\n",
       "      <td>-5.603349</td>\n",
       "      <td>2</td>\n",
       "    </tr>\n",
       "    <tr>\n",
       "      <th>1</th>\n",
       "      <td>-7.751632</td>\n",
       "      <td>-8.405334</td>\n",
       "      <td>2</td>\n",
       "    </tr>\n",
       "    <tr>\n",
       "      <th>2</th>\n",
       "      <td>-10.967098</td>\n",
       "      <td>-9.032782</td>\n",
       "      <td>2</td>\n",
       "    </tr>\n",
       "    <tr>\n",
       "      <th>3</th>\n",
       "      <td>-11.999447</td>\n",
       "      <td>-7.606734</td>\n",
       "      <td>2</td>\n",
       "    </tr>\n",
       "    <tr>\n",
       "      <th>4</th>\n",
       "      <td>-1.736810</td>\n",
       "      <td>10.478015</td>\n",
       "      <td>1</td>\n",
       "    </tr>\n",
       "    <tr>\n",
       "      <th>...</th>\n",
       "      <td>...</td>\n",
       "      <td>...</td>\n",
       "      <td>...</td>\n",
       "    </tr>\n",
       "    <tr>\n",
       "      <th>195</th>\n",
       "      <td>-8.820126</td>\n",
       "      <td>-9.479259</td>\n",
       "      <td>2</td>\n",
       "    </tr>\n",
       "    <tr>\n",
       "      <th>196</th>\n",
       "      <td>-1.573419</td>\n",
       "      <td>-6.650994</td>\n",
       "      <td>0</td>\n",
       "    </tr>\n",
       "    <tr>\n",
       "      <th>197</th>\n",
       "      <td>-2.619581</td>\n",
       "      <td>8.269253</td>\n",
       "      <td>1</td>\n",
       "    </tr>\n",
       "    <tr>\n",
       "      <th>198</th>\n",
       "      <td>-2.634418</td>\n",
       "      <td>6.697531</td>\n",
       "      <td>1</td>\n",
       "    </tr>\n",
       "    <tr>\n",
       "      <th>199</th>\n",
       "      <td>-11.951634</td>\n",
       "      <td>-7.121327</td>\n",
       "      <td>2</td>\n",
       "    </tr>\n",
       "  </tbody>\n",
       "</table>\n",
       "<p>200 rows × 3 columns</p>\n",
       "</div>"
      ],
      "text/plain": [
       "             x          y  cluster\n",
       "0    -8.482852  -5.603349        2\n",
       "1    -7.751632  -8.405334        2\n",
       "2   -10.967098  -9.032782        2\n",
       "3   -11.999447  -7.606734        2\n",
       "4    -1.736810  10.478015        1\n",
       "..         ...        ...      ...\n",
       "195  -8.820126  -9.479259        2\n",
       "196  -1.573419  -6.650994        0\n",
       "197  -2.619581   8.269253        1\n",
       "198  -2.634418   6.697531        1\n",
       "199 -11.951634  -7.121327        2\n",
       "\n",
       "[200 rows x 3 columns]"
      ]
     },
     "execution_count": 32,
     "metadata": {},
     "output_type": "execute_result"
    }
   ],
   "source": [
    "data=data.iloc[:,0:3]\n",
    "data"
   ]
  },
  {
   "cell_type": "code",
   "execution_count": 34,
   "metadata": {},
   "outputs": [
    {
     "data": {
      "text/plain": [
       "1    67\n",
       "0    67\n",
       "2    66\n",
       "Name: cluster, dtype: int64"
      ]
     },
     "execution_count": 34,
     "metadata": {},
     "output_type": "execute_result"
    }
   ],
   "source": [
    "data['cluster'].value_counts()"
   ]
  },
  {
   "cell_type": "code",
   "execution_count": 35,
   "metadata": {},
   "outputs": [
    {
     "data": {
      "text/plain": [
       "<matplotlib.collections.PathCollection at 0x13ee68ce708>"
      ]
     },
     "execution_count": 35,
     "metadata": {},
     "output_type": "execute_result"
    },
    {
     "data": {
      "image/png": "[encoded data removed]",
      "text/plain": [
       "<Figure size 432x288 with 1 Axes>"
      ]
     },
     "metadata": {
      "needs_background": "light"
     },
     "output_type": "display_data"
    }
   ],
   "source": [
    "plt.scatter(data['x'],data['y'],c=data['cluster'],cmap='viridis')"
   ]
  },
  {
   "cell_type": "code",
   "execution_count": 37,
   "metadata": {},
   "outputs": [],
   "source": [
    "from sklearn.cluster import KMeans\n",
    "from sklearn.preprocessing import StandardScaler"
   ]
  },
  {
   "cell_type": "code",
   "execution_count": 42,
   "metadata": {},
   "outputs": [],
   "source": [
    "x=data[['x','y']]\n",
    "y=data['cluster']"
   ]
  },
  {
   "cell_type": "code",
   "execution_count": 43,
   "metadata": {},
   "outputs": [],
   "source": [
    "scaler=StandardScaler()\n",
    "x_scale=scaler.fit_transform(x)"
   ]
  },
  {
   "cell_type": "code",
   "execution_count": 52,
   "metadata": {},
   "outputs": [
    {
     "data": {
      "text/plain": [
       "array([[-1.01200363, -0.60606415],\n",
       "       [-0.86550679, -1.04265203],\n",
       "       [-1.5097118 , -1.14041707],\n",
       "       [-1.71653856, -0.91821912],\n",
       "       [ 0.33953731,  1.89963378],\n",
       "       [ 0.38183922,  1.1890842 ],\n",
       "       [ 0.24668446, -0.74232845],\n",
       "       [-1.44313178, -0.76182643],\n",
       "       [ 0.32130834, -0.75849023],\n",
       "       [ 0.83110494,  1.27684537],\n",
       "       [ 0.31775088, -0.39338956],\n",
       "       [ 1.20365218, -0.4290876 ],\n",
       "       [-0.07305683,  1.51966781],\n",
       "       [ 0.63827173,  0.98134203],\n",
       "       [ 1.52205697, -0.42280098],\n",
       "       [ 0.17043691,  1.06578799],\n",
       "       [ 1.5381542 , -0.52935538],\n",
       "       [ 0.27161133, -0.71651135],\n",
       "       [-1.35289151, -0.93641563],\n",
       "       [ 0.79308339, -0.35212834],\n",
       "       [ 0.14633873,  2.31330628],\n",
       "       [ 1.14228061, -0.30354302],\n",
       "       [ 1.12503491, -0.04177872],\n",
       "       [-1.17977302, -1.09578279],\n",
       "       [-2.01238779, -0.86540408],\n",
       "       [ 0.19152374,  1.57228952],\n",
       "       [ 0.83261025,  1.80799546],\n",
       "       [ 0.66508288, -0.6110459 ],\n",
       "       [-1.12827817, -0.15250042],\n",
       "       [ 0.52241815, -0.65585313],\n",
       "       [ 1.08583214,  0.93547726],\n",
       "       [-0.97693538, -0.88741691],\n",
       "       [-1.33595694, -0.63086238],\n",
       "       [ 0.19953335,  1.28083486],\n",
       "       [-0.94950185, -0.56065403],\n",
       "       [ 0.66982823, -0.13484351],\n",
       "       [ 0.771665  , -0.5499059 ],\n",
       "       [ 0.2774257 ,  1.22860396],\n",
       "       [-0.73472586, -1.2187408 ],\n",
       "       [-0.63187335, -1.00655651],\n",
       "       [-0.69416438, -1.0000677 ],\n",
       "       [ 0.83271023, -0.6731856 ],\n",
       "       [-1.23344655, -1.15789171],\n",
       "       [ 0.65096239, -0.19455043],\n",
       "       [-1.39325586, -1.1523753 ],\n",
       "       [-1.49484828, -0.92704231],\n",
       "       [-1.45695253, -0.70502951],\n",
       "       [ 0.5305949 ,  0.81280245],\n",
       "       [ 0.83400406, -0.42253729],\n",
       "       [ 0.48904363,  1.24633059],\n",
       "       [ 1.23175068, -0.82532629],\n",
       "       [ 0.69624505, -0.30159923],\n",
       "       [ 0.39391193, -0.396964  ],\n",
       "       [ 0.79094876,  1.60143791],\n",
       "       [ 0.15899074,  1.26432118],\n",
       "       [ 0.39413305,  1.76704755],\n",
       "       [ 0.86405762, -0.59555499],\n",
       "       [-2.03584663, -0.69245567],\n",
       "       [ 0.59854512,  1.21885094],\n",
       "       [ 0.46524738,  1.14933569],\n",
       "       [ 1.13205009, -0.79021258],\n",
       "       [-0.43326051,  1.24378251],\n",
       "       [ 1.18403178, -0.2105801 ],\n",
       "       [ 1.104018  , -0.45293091],\n",
       "       [ 0.90917625, -0.41741704],\n",
       "       [ 0.24940112,  1.47054385],\n",
       "       [-1.34378511, -0.96019197],\n",
       "       [-1.15864684, -0.53793509],\n",
       "       [-1.38106913, -1.24446575],\n",
       "       [ 1.32888112, -0.15656749],\n",
       "       [-1.97542172, -0.86113934],\n",
       "       [ 0.55709844,  0.94043404],\n",
       "       [-1.16375964, -1.04708045],\n",
       "       [-0.92116118, -0.60408404],\n",
       "       [ 0.19744613, -0.320971  ],\n",
       "       [-1.17058201, -0.94932292],\n",
       "       [-1.30394578, -0.6337949 ],\n",
       "       [-1.3764337 , -0.98303292],\n",
       "       [ 0.29643725, -0.16983389],\n",
       "       [-1.48660911, -1.07632091],\n",
       "       [ 0.88544854,  0.85471602],\n",
       "       [ 0.9006815 , -0.4157147 ],\n",
       "       [ 0.2206326 ,  1.52350226],\n",
       "       [ 1.13326512,  1.24514921],\n",
       "       [ 1.59514484, -0.57810326],\n",
       "       [ 0.15529192, -0.46145428],\n",
       "       [ 1.07078756, -0.73342709],\n",
       "       [-1.84390846, -0.81992791],\n",
       "       [ 0.90990583,  1.40916629],\n",
       "       [ 0.3576306 , -0.73136536],\n",
       "       [ 1.29042424, -0.89780574],\n",
       "       [-1.36084266, -0.77007109],\n",
       "       [-1.0236826 , -1.24868072],\n",
       "       [ 0.7946996 , -1.12120567],\n",
       "       [ 0.79884711,  1.66676256],\n",
       "       [ 0.99941321,  1.13889426],\n",
       "       [-1.36837982, -1.15198567],\n",
       "       [-0.3156759 , -1.46559894],\n",
       "       [ 0.70861868, -0.75627388],\n",
       "       [-0.21082427, -0.41430294],\n",
       "       [ 0.32589705,  1.68264012],\n",
       "       [ 0.66619897,  1.21855463],\n",
       "       [ 0.49361345,  0.86887702],\n",
       "       [ 0.5068162 , -0.32337893],\n",
       "       [ 0.74177357, -0.61694863],\n",
       "       [-1.2885399 , -0.96008709],\n",
       "       [ 1.02551131,  1.48533141],\n",
       "       [ 0.43201879,  1.6076944 ],\n",
       "       [ 1.08249537, -0.21716763],\n",
       "       [-0.15265406,  0.0228466 ],\n",
       "       [ 0.97586982, -0.63467294],\n",
       "       [-1.10238107, -0.75993911],\n",
       "       [ 0.24621536, -0.32010977],\n",
       "       [ 0.53736804,  1.0345916 ],\n",
       "       [ 1.21425236,  1.07790672],\n",
       "       [-0.00967353,  1.27374229],\n",
       "       [ 0.53207638,  1.10912864],\n",
       "       [-2.00277598, -1.07059812],\n",
       "       [ 1.33013807, -0.90971954],\n",
       "       [-1.25463745, -1.18101253],\n",
       "       [ 0.53775645,  1.29669311],\n",
       "       [ 0.27952731, -0.01116382],\n",
       "       [ 0.32201814,  1.62673894],\n",
       "       [ 0.4329941 , -0.57783171],\n",
       "       [ 0.57365299,  1.3368478 ],\n",
       "       [ 0.65082523,  1.46367753],\n",
       "       [ 0.65445327,  1.46194122],\n",
       "       [ 0.30583921,  0.15038392],\n",
       "       [ 0.58866226, -0.19466067],\n",
       "       [ 0.77058657, -0.65992081],\n",
       "       [-1.73473402, -0.85951427],\n",
       "       [ 1.21530606, -0.27942699],\n",
       "       [ 0.37146484,  1.57464784],\n",
       "       [ 0.13101932,  1.17557222],\n",
       "       [ 0.55048135, -0.073215  ],\n",
       "       [ 0.65268228, -0.76005108],\n",
       "       [-0.12524786,  1.16172152],\n",
       "       [ 0.9416221 , -0.8284188 ],\n",
       "       [ 0.72962605, -0.78012446],\n",
       "       [-0.7595301 , -1.02429527],\n",
       "       [ 0.42537401,  2.05365336],\n",
       "       [ 0.41686597,  1.17237934],\n",
       "       [-1.36156287, -0.58182547],\n",
       "       [-1.63215702, -0.80053828],\n",
       "       [ 0.16868097,  1.78349137],\n",
       "       [-1.25198849, -1.21104408],\n",
       "       [ 0.45461854,  1.24370166],\n",
       "       [-1.99356038, -0.90548851],\n",
       "       [ 0.84572607,  1.2164603 ],\n",
       "       [ 1.11029307, -0.23099879],\n",
       "       [-0.56892205, -0.70265972],\n",
       "       [ 0.93402653,  1.29095874],\n",
       "       [ 0.94118216, -0.72375673],\n",
       "       [ 0.23509561,  0.96041989],\n",
       "       [ 0.60301693,  1.08704203],\n",
       "       [-1.1171891 , -1.21457231],\n",
       "       [ 1.21399433,  1.29509665],\n",
       "       [-1.25249385, -0.47819655],\n",
       "       [-0.986743  , -0.98144191],\n",
       "       [-1.7860204 , -1.39231882],\n",
       "       [ 0.55320627,  1.41715403],\n",
       "       [-2.0662249 , -0.69934998],\n",
       "       [-1.29343007, -0.77757608],\n",
       "       [ 0.27276956,  0.9418664 ],\n",
       "       [ 0.5434236 , -0.41841969],\n",
       "       [ 1.44526084,  0.0087187 ],\n",
       "       [-0.34167386,  1.31912378],\n",
       "       [-1.77472219, -0.84542156],\n",
       "       [ 0.8071665 ,  1.92415722],\n",
       "       [-1.41813112, -0.95059979],\n",
       "       [ 0.26971005,  1.01953102],\n",
       "       [ 0.90067843, -0.28122456],\n",
       "       [ 0.65661936,  0.89004119],\n",
       "       [ 0.42245075, -0.4677546 ],\n",
       "       [-1.75542164, -0.6517002 ],\n",
       "       [ 0.57522939,  1.23645334],\n",
       "       [ 0.4217509 ,  1.70837732],\n",
       "       [-1.23985549, -0.31419264],\n",
       "       [-1.50342086, -0.14237115],\n",
       "       [ 0.77945616,  1.27706047],\n",
       "       [ 0.9279614 , -0.16082871],\n",
       "       [-1.39989229, -0.77754158],\n",
       "       [ 0.94719192, -0.41984737],\n",
       "       [-2.06564945, -0.83849631],\n",
       "       [-0.71883787, -0.62819834],\n",
       "       [-1.17765783, -1.01506935],\n",
       "       [ 0.70341832, -0.73729614],\n",
       "       [-1.26359243, -0.85907062],\n",
       "       [-1.08899436, -0.88801288],\n",
       "       [ 1.132047  , -0.55152432],\n",
       "       [ 0.52620981,  1.43321291],\n",
       "       [ 0.74377108, -0.4080321 ],\n",
       "       [ 0.77533462, -0.82445019],\n",
       "       [ 1.43342856, -0.2291756 ],\n",
       "       [ 0.72870678,  1.06563353],\n",
       "       [-1.07957503, -1.20998434],\n",
       "       [ 0.37227198, -0.76930174],\n",
       "       [ 0.16267793,  1.55547825],\n",
       "       [ 0.15970539,  1.31058228],\n",
       "       [-1.7069593 , -0.84258607]])"
      ]
     },
     "execution_count": 52,
     "metadata": {},
     "output_type": "execute_result"
    }
   ],
   "source": [
    "x_scale"
   ]
  },
  {
   "cell_type": "code",
   "execution_count": 53,
   "metadata": {},
   "outputs": [],
   "source": [
    "data[['x','y']]=x_scale"
   ]
  },
  {
   "cell_type": "code",
   "execution_count": 75,
   "metadata": {},
   "outputs": [
    {
     "data": {
      "text/html": [
       "<div>\n",
       "<style scoped>\n",
       "    .dataframe tbody tr th:only-of-type {\n",
       "        vertical-align: middle;\n",
       "    }\n",
       "\n",
       "    .dataframe tbody tr th {\n",
       "        vertical-align: top;\n",
       "    }\n",
       "\n",
       "    .dataframe thead th {\n",
       "        text-align: right;\n",
       "    }\n",
       "</style>\n",
       "<table border=\"1\" class=\"dataframe\">\n",
       "  <thead>\n",
       "    <tr style=\"text-align: right;\">\n",
       "      <th></th>\n",
       "      <th>x</th>\n",
       "      <th>y</th>\n",
       "      <th>cluster</th>\n",
       "    </tr>\n",
       "  </thead>\n",
       "  <tbody>\n",
       "    <tr>\n",
       "      <th>0</th>\n",
       "      <td>-1.012004</td>\n",
       "      <td>-0.606064</td>\n",
       "      <td>2</td>\n",
       "    </tr>\n",
       "    <tr>\n",
       "      <th>1</th>\n",
       "      <td>-0.865507</td>\n",
       "      <td>-1.042652</td>\n",
       "      <td>2</td>\n",
       "    </tr>\n",
       "    <tr>\n",
       "      <th>2</th>\n",
       "      <td>-1.509712</td>\n",
       "      <td>-1.140417</td>\n",
       "      <td>2</td>\n",
       "    </tr>\n",
       "    <tr>\n",
       "      <th>3</th>\n",
       "      <td>-1.716539</td>\n",
       "      <td>-0.918219</td>\n",
       "      <td>2</td>\n",
       "    </tr>\n",
       "    <tr>\n",
       "      <th>4</th>\n",
       "      <td>0.339537</td>\n",
       "      <td>1.899634</td>\n",
       "      <td>1</td>\n",
       "    </tr>\n",
       "    <tr>\n",
       "      <th>...</th>\n",
       "      <td>...</td>\n",
       "      <td>...</td>\n",
       "      <td>...</td>\n",
       "    </tr>\n",
       "    <tr>\n",
       "      <th>195</th>\n",
       "      <td>-1.079575</td>\n",
       "      <td>-1.209984</td>\n",
       "      <td>2</td>\n",
       "    </tr>\n",
       "    <tr>\n",
       "      <th>196</th>\n",
       "      <td>0.372272</td>\n",
       "      <td>-0.769302</td>\n",
       "      <td>0</td>\n",
       "    </tr>\n",
       "    <tr>\n",
       "      <th>197</th>\n",
       "      <td>0.162678</td>\n",
       "      <td>1.555478</td>\n",
       "      <td>1</td>\n",
       "    </tr>\n",
       "    <tr>\n",
       "      <th>198</th>\n",
       "      <td>0.159705</td>\n",
       "      <td>1.310582</td>\n",
       "      <td>1</td>\n",
       "    </tr>\n",
       "    <tr>\n",
       "      <th>199</th>\n",
       "      <td>-1.706959</td>\n",
       "      <td>-0.842586</td>\n",
       "      <td>2</td>\n",
       "    </tr>\n",
       "  </tbody>\n",
       "</table>\n",
       "<p>200 rows × 3 columns</p>\n",
       "</div>"
      ],
      "text/plain": [
       "            x         y  cluster\n",
       "0   -1.012004 -0.606064        2\n",
       "1   -0.865507 -1.042652        2\n",
       "2   -1.509712 -1.140417        2\n",
       "3   -1.716539 -0.918219        2\n",
       "4    0.339537  1.899634        1\n",
       "..        ...       ...      ...\n",
       "195 -1.079575 -1.209984        2\n",
       "196  0.372272 -0.769302        0\n",
       "197  0.162678  1.555478        1\n",
       "198  0.159705  1.310582        1\n",
       "199 -1.706959 -0.842586        2\n",
       "\n",
       "[200 rows x 3 columns]"
      ]
     },
     "execution_count": 75,
     "metadata": {},
     "output_type": "execute_result"
    }
   ],
   "source": [
    "data"
   ]
  },
  {
   "cell_type": "code",
   "execution_count": 76,
   "metadata": {},
   "outputs": [
    {
     "data": {
      "text/plain": [
       "array([[-1.01200363, -0.60606415],\n",
       "       [-0.86550679, -1.04265203],\n",
       "       [-1.5097118 , -1.14041707],\n",
       "       [-1.71653856, -0.91821912],\n",
       "       [ 0.33953731,  1.89963378],\n",
       "       [ 0.38183922,  1.1890842 ],\n",
       "       [ 0.24668446, -0.74232845],\n",
       "       [-1.44313178, -0.76182643],\n",
       "       [ 0.32130834, -0.75849023],\n",
       "       [ 0.83110494,  1.27684537],\n",
       "       [ 0.31775088, -0.39338956],\n",
       "       [ 1.20365218, -0.4290876 ],\n",
       "       [-0.07305683,  1.51966781],\n",
       "       [ 0.63827173,  0.98134203],\n",
       "       [ 1.52205697, -0.42280098],\n",
       "       [ 0.17043691,  1.06578799],\n",
       "       [ 1.5381542 , -0.52935538],\n",
       "       [ 0.27161133, -0.71651135],\n",
       "       [-1.35289151, -0.93641563],\n",
       "       [ 0.79308339, -0.35212834],\n",
       "       [ 0.14633873,  2.31330628],\n",
       "       [ 1.14228061, -0.30354302],\n",
       "       [ 1.12503491, -0.04177872],\n",
       "       [-1.17977302, -1.09578279],\n",
       "       [-2.01238779, -0.86540408],\n",
       "       [ 0.19152374,  1.57228952],\n",
       "       [ 0.83261025,  1.80799546],\n",
       "       [ 0.66508288, -0.6110459 ],\n",
       "       [-1.12827817, -0.15250042],\n",
       "       [ 0.52241815, -0.65585313],\n",
       "       [ 1.08583214,  0.93547726],\n",
       "       [-0.97693538, -0.88741691],\n",
       "       [-1.33595694, -0.63086238],\n",
       "       [ 0.19953335,  1.28083486],\n",
       "       [-0.94950185, -0.56065403],\n",
       "       [ 0.66982823, -0.13484351],\n",
       "       [ 0.771665  , -0.5499059 ],\n",
       "       [ 0.2774257 ,  1.22860396],\n",
       "       [-0.73472586, -1.2187408 ],\n",
       "       [-0.63187335, -1.00655651],\n",
       "       [-0.69416438, -1.0000677 ],\n",
       "       [ 0.83271023, -0.6731856 ],\n",
       "       [-1.23344655, -1.15789171],\n",
       "       [ 0.65096239, -0.19455043],\n",
       "       [-1.39325586, -1.1523753 ],\n",
       "       [-1.49484828, -0.92704231],\n",
       "       [-1.45695253, -0.70502951],\n",
       "       [ 0.5305949 ,  0.81280245],\n",
       "       [ 0.83400406, -0.42253729],\n",
       "       [ 0.48904363,  1.24633059],\n",
       "       [ 1.23175068, -0.82532629],\n",
       "       [ 0.69624505, -0.30159923],\n",
       "       [ 0.39391193, -0.396964  ],\n",
       "       [ 0.79094876,  1.60143791],\n",
       "       [ 0.15899074,  1.26432118],\n",
       "       [ 0.39413305,  1.76704755],\n",
       "       [ 0.86405762, -0.59555499],\n",
       "       [-2.03584663, -0.69245567],\n",
       "       [ 0.59854512,  1.21885094],\n",
       "       [ 0.46524738,  1.14933569],\n",
       "       [ 1.13205009, -0.79021258],\n",
       "       [-0.43326051,  1.24378251],\n",
       "       [ 1.18403178, -0.2105801 ],\n",
       "       [ 1.104018  , -0.45293091],\n",
       "       [ 0.90917625, -0.41741704],\n",
       "       [ 0.24940112,  1.47054385],\n",
       "       [-1.34378511, -0.96019197],\n",
       "       [-1.15864684, -0.53793509],\n",
       "       [-1.38106913, -1.24446575],\n",
       "       [ 1.32888112, -0.15656749],\n",
       "       [-1.97542172, -0.86113934],\n",
       "       [ 0.55709844,  0.94043404],\n",
       "       [-1.16375964, -1.04708045],\n",
       "       [-0.92116118, -0.60408404],\n",
       "       [ 0.19744613, -0.320971  ],\n",
       "       [-1.17058201, -0.94932292],\n",
       "       [-1.30394578, -0.6337949 ],\n",
       "       [-1.3764337 , -0.98303292],\n",
       "       [ 0.29643725, -0.16983389],\n",
       "       [-1.48660911, -1.07632091],\n",
       "       [ 0.88544854,  0.85471602],\n",
       "       [ 0.9006815 , -0.4157147 ],\n",
       "       [ 0.2206326 ,  1.52350226],\n",
       "       [ 1.13326512,  1.24514921],\n",
       "       [ 1.59514484, -0.57810326],\n",
       "       [ 0.15529192, -0.46145428],\n",
       "       [ 1.07078756, -0.73342709],\n",
       "       [-1.84390846, -0.81992791],\n",
       "       [ 0.90990583,  1.40916629],\n",
       "       [ 0.3576306 , -0.73136536],\n",
       "       [ 1.29042424, -0.89780574],\n",
       "       [-1.36084266, -0.77007109],\n",
       "       [-1.0236826 , -1.24868072],\n",
       "       [ 0.7946996 , -1.12120567],\n",
       "       [ 0.79884711,  1.66676256],\n",
       "       [ 0.99941321,  1.13889426],\n",
       "       [-1.36837982, -1.15198567],\n",
       "       [-0.3156759 , -1.46559894],\n",
       "       [ 0.70861868, -0.75627388],\n",
       "       [-0.21082427, -0.41430294],\n",
       "       [ 0.32589705,  1.68264012],\n",
       "       [ 0.66619897,  1.21855463],\n",
       "       [ 0.49361345,  0.86887702],\n",
       "       [ 0.5068162 , -0.32337893],\n",
       "       [ 0.74177357, -0.61694863],\n",
       "       [-1.2885399 , -0.96008709],\n",
       "       [ 1.02551131,  1.48533141],\n",
       "       [ 0.43201879,  1.6076944 ],\n",
       "       [ 1.08249537, -0.21716763],\n",
       "       [-0.15265406,  0.0228466 ],\n",
       "       [ 0.97586982, -0.63467294],\n",
       "       [-1.10238107, -0.75993911],\n",
       "       [ 0.24621536, -0.32010977],\n",
       "       [ 0.53736804,  1.0345916 ],\n",
       "       [ 1.21425236,  1.07790672],\n",
       "       [-0.00967353,  1.27374229],\n",
       "       [ 0.53207638,  1.10912864],\n",
       "       [-2.00277598, -1.07059812],\n",
       "       [ 1.33013807, -0.90971954],\n",
       "       [-1.25463745, -1.18101253],\n",
       "       [ 0.53775645,  1.29669311],\n",
       "       [ 0.27952731, -0.01116382],\n",
       "       [ 0.32201814,  1.62673894],\n",
       "       [ 0.4329941 , -0.57783171],\n",
       "       [ 0.57365299,  1.3368478 ],\n",
       "       [ 0.65082523,  1.46367753],\n",
       "       [ 0.65445327,  1.46194122],\n",
       "       [ 0.30583921,  0.15038392],\n",
       "       [ 0.58866226, -0.19466067],\n",
       "       [ 0.77058657, -0.65992081],\n",
       "       [-1.73473402, -0.85951427],\n",
       "       [ 1.21530606, -0.27942699],\n",
       "       [ 0.37146484,  1.57464784],\n",
       "       [ 0.13101932,  1.17557222],\n",
       "       [ 0.55048135, -0.073215  ],\n",
       "       [ 0.65268228, -0.76005108],\n",
       "       [-0.12524786,  1.16172152],\n",
       "       [ 0.9416221 , -0.8284188 ],\n",
       "       [ 0.72962605, -0.78012446],\n",
       "       [-0.7595301 , -1.02429527],\n",
       "       [ 0.42537401,  2.05365336],\n",
       "       [ 0.41686597,  1.17237934],\n",
       "       [-1.36156287, -0.58182547],\n",
       "       [-1.63215702, -0.80053828],\n",
       "       [ 0.16868097,  1.78349137],\n",
       "       [-1.25198849, -1.21104408],\n",
       "       [ 0.45461854,  1.24370166],\n",
       "       [-1.99356038, -0.90548851],\n",
       "       [ 0.84572607,  1.2164603 ],\n",
       "       [ 1.11029307, -0.23099879],\n",
       "       [-0.56892205, -0.70265972],\n",
       "       [ 0.93402653,  1.29095874],\n",
       "       [ 0.94118216, -0.72375673],\n",
       "       [ 0.23509561,  0.96041989],\n",
       "       [ 0.60301693,  1.08704203],\n",
       "       [-1.1171891 , -1.21457231],\n",
       "       [ 1.21399433,  1.29509665],\n",
       "       [-1.25249385, -0.47819655],\n",
       "       [-0.986743  , -0.98144191],\n",
       "       [-1.7860204 , -1.39231882],\n",
       "       [ 0.55320627,  1.41715403],\n",
       "       [-2.0662249 , -0.69934998],\n",
       "       [-1.29343007, -0.77757608],\n",
       "       [ 0.27276956,  0.9418664 ],\n",
       "       [ 0.5434236 , -0.41841969],\n",
       "       [ 1.44526084,  0.0087187 ],\n",
       "       [-0.34167386,  1.31912378],\n",
       "       [-1.77472219, -0.84542156],\n",
       "       [ 0.8071665 ,  1.92415722],\n",
       "       [-1.41813112, -0.95059979],\n",
       "       [ 0.26971005,  1.01953102],\n",
       "       [ 0.90067843, -0.28122456],\n",
       "       [ 0.65661936,  0.89004119],\n",
       "       [ 0.42245075, -0.4677546 ],\n",
       "       [-1.75542164, -0.6517002 ],\n",
       "       [ 0.57522939,  1.23645334],\n",
       "       [ 0.4217509 ,  1.70837732],\n",
       "       [-1.23985549, -0.31419264],\n",
       "       [-1.50342086, -0.14237115],\n",
       "       [ 0.77945616,  1.27706047],\n",
       "       [ 0.9279614 , -0.16082871],\n",
       "       [-1.39989229, -0.77754158],\n",
       "       [ 0.94719192, -0.41984737],\n",
       "       [-2.06564945, -0.83849631],\n",
       "       [-0.71883787, -0.62819834],\n",
       "       [-1.17765783, -1.01506935],\n",
       "       [ 0.70341832, -0.73729614],\n",
       "       [-1.26359243, -0.85907062],\n",
       "       [-1.08899436, -0.88801288],\n",
       "       [ 1.132047  , -0.55152432],\n",
       "       [ 0.52620981,  1.43321291],\n",
       "       [ 0.74377108, -0.4080321 ],\n",
       "       [ 0.77533462, -0.82445019],\n",
       "       [ 1.43342856, -0.2291756 ],\n",
       "       [ 0.72870678,  1.06563353],\n",
       "       [-1.07957503, -1.20998434],\n",
       "       [ 0.37227198, -0.76930174],\n",
       "       [ 0.16267793,  1.55547825],\n",
       "       [ 0.15970539,  1.31058228],\n",
       "       [-1.7069593 , -0.84258607]])"
      ]
     },
     "execution_count": 76,
     "metadata": {},
     "output_type": "execute_result"
    }
   ],
   "source": [
    "x_scale"
   ]
  },
  {
   "cell_type": "code",
   "execution_count": 67,
   "metadata": {},
   "outputs": [
    {
     "data": {
      "text/plain": [
       "KMeans(n_clusters=2, random_state=42)"
      ]
     },
     "execution_count": 67,
     "metadata": {},
     "output_type": "execute_result"
    }
   ],
   "source": [
    "kmeans=KMeans(n_clusters=2,random_state=42)\n",
    "kmeans.fit(x_scale)"
   ]
  },
  {
   "cell_type": "code",
   "execution_count": 68,
   "metadata": {},
   "outputs": [
    {
     "data": {
      "text/plain": [
       "array([0, 0, 0, 0, 1, 1, 1, 0, 1, 1, 1, 1, 1, 1, 1, 1, 1, 1, 0, 1, 1, 1,\n",
       "       1, 0, 0, 1, 1, 1, 0, 1, 1, 0, 0, 1, 0, 1, 1, 1, 0, 0, 0, 1, 0, 1,\n",
       "       0, 0, 0, 1, 1, 1, 1, 1, 1, 1, 1, 1, 1, 0, 1, 1, 1, 1, 1, 1, 1, 1,\n",
       "       0, 0, 0, 1, 0, 1, 0, 0, 1, 0, 0, 0, 1, 0, 1, 1, 1, 1, 1, 1, 1, 0,\n",
       "       1, 1, 1, 0, 0, 1, 1, 1, 0, 0, 1, 0, 1, 1, 1, 1, 1, 0, 1, 1, 1, 1,\n",
       "       1, 0, 1, 1, 1, 1, 1, 0, 1, 0, 1, 1, 1, 1, 1, 1, 1, 1, 1, 1, 0, 1,\n",
       "       1, 1, 1, 1, 1, 1, 1, 0, 1, 1, 0, 0, 1, 0, 1, 0, 1, 1, 0, 1, 1, 1,\n",
       "       1, 0, 1, 0, 0, 0, 1, 0, 0, 1, 1, 1, 1, 0, 1, 0, 1, 1, 1, 1, 0, 1,\n",
       "       1, 0, 0, 1, 1, 0, 1, 0, 0, 0, 1, 0, 0, 1, 1, 1, 1, 1, 1, 0, 1, 1,\n",
       "       1, 0])"
      ]
     },
     "execution_count": 68,
     "metadata": {},
     "output_type": "execute_result"
    }
   ],
   "source": [
    "kmeans.labels_"
   ]
  },
  {
   "cell_type": "code",
   "execution_count": 69,
   "metadata": {},
   "outputs": [
    {
     "data": {
      "text/plain": [
       "<matplotlib.collections.PathCollection at 0x13ee76f74c8>"
      ]
     },
     "execution_count": 69,
     "metadata": {},
     "output_type": "execute_result"
    },
    {
     "data": {
      "image/png": "[encoded data removed]",
      "text/plain": [
       "<Figure size 432x288 with 1 Axes>"
      ]
     },
     "metadata": {
      "needs_background": "light"
     },
     "output_type": "display_data"
    }
   ],
   "source": [
    "plt.scatter(data['x'],data['y'],c=kmeans.labels_,cmap='viridis')"
   ]
  },
  {
   "cell_type": "code",
   "execution_count": 70,
   "metadata": {},
   "outputs": [
    {
     "data": {
      "text/plain": [
       "array([[-1.30618271, -0.87560626],\n",
       "       [ 0.64334372,  0.43126875]])"
      ]
     },
     "execution_count": 70,
     "metadata": {},
     "output_type": "execute_result"
    }
   ],
   "source": [
    "kmeans.cluster_centers_"
   ]
  },
  {
   "cell_type": "code",
   "execution_count": null,
   "metadata": {},
   "outputs": [],
   "source": []
  },
  {
   "cell_type": "code",
   "execution_count": 71,
   "metadata": {},
   "outputs": [
    {
     "data": {
      "text/plain": [
       "KMeans(n_clusters=3, random_state=42)"
      ]
     },
     "execution_count": 71,
     "metadata": {},
     "output_type": "execute_result"
    }
   ],
   "source": [
    "kmeans=KMeans(n_clusters=3,random_state=42)\n",
    "kmeans.fit(x_scale)"
   ]
  },
  {
   "cell_type": "code",
   "execution_count": 72,
   "metadata": {},
   "outputs": [
    {
     "data": {
      "text/plain": [
       "array([1, 1, 1, 1, 2, 2, 0, 1, 0, 2, 0, 0, 2, 2, 0, 2, 0, 0, 1, 0, 2, 0,\n",
       "       0, 1, 1, 2, 2, 0, 1, 0, 2, 1, 1, 2, 1, 0, 0, 2, 1, 1, 1, 0, 1, 0,\n",
       "       1, 1, 1, 2, 0, 2, 0, 0, 0, 2, 2, 2, 0, 1, 2, 2, 0, 2, 0, 0, 0, 2,\n",
       "       1, 1, 1, 0, 1, 2, 1, 1, 0, 1, 1, 1, 0, 1, 2, 0, 2, 2, 0, 0, 0, 1,\n",
       "       2, 0, 0, 1, 1, 0, 2, 2, 1, 1, 0, 0, 2, 2, 2, 0, 0, 1, 2, 2, 0, 0,\n",
       "       0, 1, 0, 2, 2, 2, 2, 1, 0, 1, 2, 0, 2, 0, 2, 2, 2, 0, 0, 0, 1, 0,\n",
       "       2, 2, 0, 0, 2, 0, 0, 1, 2, 2, 1, 1, 2, 1, 2, 1, 2, 0, 1, 2, 0, 2,\n",
       "       2, 1, 2, 1, 1, 1, 2, 1, 1, 2, 0, 0, 2, 1, 2, 1, 2, 0, 2, 0, 1, 2,\n",
       "       2, 1, 1, 2, 0, 1, 0, 1, 1, 1, 0, 1, 1, 0, 2, 0, 0, 0, 2, 1, 0, 2,\n",
       "       2, 1])"
      ]
     },
     "execution_count": 72,
     "metadata": {},
     "output_type": "execute_result"
    }
   ],
   "source": [
    "kmeans.labels_"
   ]
  },
  {
   "cell_type": "code",
   "execution_count": 73,
   "metadata": {},
   "outputs": [
    {
     "data": {
      "text/plain": [
       "<matplotlib.collections.PathCollection at 0x13ee7774048>"
      ]
     },
     "execution_count": 73,
     "metadata": {},
     "output_type": "execute_result"
    },
    {
     "data": {
      "image/png": "[encoded data removed]",
      "text/plain": [
       "<Figure size 432x288 with 1 Axes>"
      ]
     },
     "metadata": {
      "needs_background": "light"
     },
     "output_type": "display_data"
    }
   ],
   "source": [
    "plt.scatter(data['x'],data['y'],c=kmeans.labels_,cmap='viridis')"
   ]
  },
  {
   "cell_type": "code",
   "execution_count": 74,
   "metadata": {},
   "outputs": [
    {
     "data": {
      "text/plain": [
       "array([[ 0.77978594, -0.46921203],\n",
       "       [-1.32303438, -0.88270323],\n",
       "       [ 0.49211628,  1.33256907]])"
      ]
     },
     "execution_count": 74,
     "metadata": {},
     "output_type": "execute_result"
    }
   ],
   "source": [
    "kmeans.cluster_centers_"
   ]
  },
  {
   "cell_type": "code",
   "execution_count": null,
   "metadata": {},
   "outputs": [],
   "source": []
  },
  {
   "cell_type": "markdown",
   "metadata": {},
   "source": [
    "How to choose K : elbow point of SSE graph"
   ]
  },
  {
   "cell_type": "code",
   "execution_count": 77,
   "metadata": {},
   "outputs": [
    {
     "name": "stdout",
     "output_type": "stream",
     "text": [
      "400.0\n",
      "156.41078579550265\n",
      "44.057048453226486\n",
      "36.72638711856167\n",
      "31.016427615478516\n",
      "25.399590471964878\n",
      "22.54718472776428\n",
      "19.923438178690066\n",
      "17.295836404976814\n"
     ]
    }
   ],
   "source": [
    "SSE=[]\n",
    "index=range(1,10)\n",
    "for i in index:\n",
    "    kmeans=KMeans(n_clusters=i,random_state=42)\n",
    "    kmeans.fit(x_scale)\n",
    "    SSE.append(kmeans.inertia_)\n",
    "    print(kmeans.inertia_)"
   ]
  },
  {
   "cell_type": "code",
   "execution_count": 78,
   "metadata": {},
   "outputs": [
    {
     "data": {
      "image/png": "[encoded data removed]",
      "text/plain": [
       "<Figure size 432x288 with 1 Axes>"
      ]
     },
     "metadata": {
      "needs_background": "light"
     },
     "output_type": "display_data"
    }
   ],
   "source": [
    "plt.plot(index,SSE)\n",
    "plt.xlabel('K')\n",
    "plt.ylabel('SSE')\n",
    "plt.show()"
   ]
  },
  {
   "cell_type": "code",
   "execution_count": null,
   "metadata": {},
   "outputs": [],
   "source": []
  },
  {
   "cell_type": "markdown",
   "metadata": {},
   "source": [
    "Test with iris dataset"
   ]
  },
  {
   "cell_type": "code",
   "execution_count": 83,
   "metadata": {},
   "outputs": [
    {
     "data": {
      "text/plain": [
       "dict_keys(['data', 'target', 'frame', 'target_names', 'DESCR', 'feature_names', 'filename'])"
      ]
     },
     "execution_count": 83,
     "metadata": {},
     "output_type": "execute_result"
    }
   ],
   "source": [
    "iris=datasets.load_iris()\n",
    "iris.keys()"
   ]
  },
  {
   "cell_type": "code",
   "execution_count": 85,
   "metadata": {},
   "outputs": [
    {
     "data": {
      "text/plain": [
       "['sepal length (cm)',\n",
       " 'sepal width (cm)',\n",
       " 'petal length (cm)',\n",
       " 'petal width (cm)']"
      ]
     },
     "execution_count": 85,
     "metadata": {},
     "output_type": "execute_result"
    }
   ],
   "source": [
    "iris.feature_names"
   ]
  },
  {
   "cell_type": "code",
   "execution_count": 86,
   "metadata": {},
   "outputs": [],
   "source": [
    "x=iris.data\n",
    "y=iris.target"
   ]
  },
  {
   "cell_type": "code",
   "execution_count": 87,
   "metadata": {},
   "outputs": [
    {
     "data": {
      "text/html": [
       "<div>\n",
       "<style scoped>\n",
       "    .dataframe tbody tr th:only-of-type {\n",
       "        vertical-align: middle;\n",
       "    }\n",
       "\n",
       "    .dataframe tbody tr th {\n",
       "        vertical-align: top;\n",
       "    }\n",
       "\n",
       "    .dataframe thead th {\n",
       "        text-align: right;\n",
       "    }\n",
       "</style>\n",
       "<table border=\"1\" class=\"dataframe\">\n",
       "  <thead>\n",
       "    <tr style=\"text-align: right;\">\n",
       "      <th></th>\n",
       "      <th>sepal length (cm)</th>\n",
       "      <th>sepal width (cm)</th>\n",
       "      <th>petal length (cm)</th>\n",
       "      <th>petal width (cm)</th>\n",
       "      <th>target</th>\n",
       "    </tr>\n",
       "  </thead>\n",
       "  <tbody>\n",
       "    <tr>\n",
       "      <th>0</th>\n",
       "      <td>5.1</td>\n",
       "      <td>3.5</td>\n",
       "      <td>1.4</td>\n",
       "      <td>0.2</td>\n",
       "      <td>0</td>\n",
       "    </tr>\n",
       "    <tr>\n",
       "      <th>1</th>\n",
       "      <td>4.9</td>\n",
       "      <td>3.0</td>\n",
       "      <td>1.4</td>\n",
       "      <td>0.2</td>\n",
       "      <td>0</td>\n",
       "    </tr>\n",
       "    <tr>\n",
       "      <th>2</th>\n",
       "      <td>4.7</td>\n",
       "      <td>3.2</td>\n",
       "      <td>1.3</td>\n",
       "      <td>0.2</td>\n",
       "      <td>0</td>\n",
       "    </tr>\n",
       "    <tr>\n",
       "      <th>3</th>\n",
       "      <td>4.6</td>\n",
       "      <td>3.1</td>\n",
       "      <td>1.5</td>\n",
       "      <td>0.2</td>\n",
       "      <td>0</td>\n",
       "    </tr>\n",
       "    <tr>\n",
       "      <th>4</th>\n",
       "      <td>5.0</td>\n",
       "      <td>3.6</td>\n",
       "      <td>1.4</td>\n",
       "      <td>0.2</td>\n",
       "      <td>0</td>\n",
       "    </tr>\n",
       "    <tr>\n",
       "      <th>...</th>\n",
       "      <td>...</td>\n",
       "      <td>...</td>\n",
       "      <td>...</td>\n",
       "      <td>...</td>\n",
       "      <td>...</td>\n",
       "    </tr>\n",
       "    <tr>\n",
       "      <th>145</th>\n",
       "      <td>6.7</td>\n",
       "      <td>3.0</td>\n",
       "      <td>5.2</td>\n",
       "      <td>2.3</td>\n",
       "      <td>2</td>\n",
       "    </tr>\n",
       "    <tr>\n",
       "      <th>146</th>\n",
       "      <td>6.3</td>\n",
       "      <td>2.5</td>\n",
       "      <td>5.0</td>\n",
       "      <td>1.9</td>\n",
       "      <td>2</td>\n",
       "    </tr>\n",
       "    <tr>\n",
       "      <th>147</th>\n",
       "      <td>6.5</td>\n",
       "      <td>3.0</td>\n",
       "      <td>5.2</td>\n",
       "      <td>2.0</td>\n",
       "      <td>2</td>\n",
       "    </tr>\n",
       "    <tr>\n",
       "      <th>148</th>\n",
       "      <td>6.2</td>\n",
       "      <td>3.4</td>\n",
       "      <td>5.4</td>\n",
       "      <td>2.3</td>\n",
       "      <td>2</td>\n",
       "    </tr>\n",
       "    <tr>\n",
       "      <th>149</th>\n",
       "      <td>5.9</td>\n",
       "      <td>3.0</td>\n",
       "      <td>5.1</td>\n",
       "      <td>1.8</td>\n",
       "      <td>2</td>\n",
       "    </tr>\n",
       "  </tbody>\n",
       "</table>\n",
       "<p>150 rows × 5 columns</p>\n",
       "</div>"
      ],
      "text/plain": [
       "     sepal length (cm)  sepal width (cm)  petal length (cm)  petal width (cm)  \\\n",
       "0                  5.1               3.5                1.4               0.2   \n",
       "1                  4.9               3.0                1.4               0.2   \n",
       "2                  4.7               3.2                1.3               0.2   \n",
       "3                  4.6               3.1                1.5               0.2   \n",
       "4                  5.0               3.6                1.4               0.2   \n",
       "..                 ...               ...                ...               ...   \n",
       "145                6.7               3.0                5.2               2.3   \n",
       "146                6.3               2.5                5.0               1.9   \n",
       "147                6.5               3.0                5.2               2.0   \n",
       "148                6.2               3.4                5.4               2.3   \n",
       "149                5.9               3.0                5.1               1.8   \n",
       "\n",
       "     target  \n",
       "0         0  \n",
       "1         0  \n",
       "2         0  \n",
       "3         0  \n",
       "4         0  \n",
       "..      ...  \n",
       "145       2  \n",
       "146       2  \n",
       "147       2  \n",
       "148       2  \n",
       "149       2  \n",
       "\n",
       "[150 rows x 5 columns]"
      ]
     },
     "execution_count": 87,
     "metadata": {},
     "output_type": "execute_result"
    }
   ],
   "source": [
    "df=pd.DataFrame(x,columns=iris.feature_names)\n",
    "df['target']=y\n",
    "df"
   ]
  },
  {
   "cell_type": "code",
   "execution_count": 89,
   "metadata": {},
   "outputs": [],
   "source": [
    "scaler=StandardScaler()\n",
    "x_scale=scaler.fit_transform(x)"
   ]
  },
  {
   "cell_type": "code",
   "execution_count": 90,
   "metadata": {},
   "outputs": [
    {
     "name": "stdout",
     "output_type": "stream",
     "text": [
      "600.0\n",
      "222.36170496502302\n",
      "139.82049635974974\n",
      "114.41256181896094\n",
      "90.92751382392049\n",
      "80.0224959955744\n",
      "71.81624598106144\n",
      "62.28749580350205\n",
      "54.8110520315013\n"
     ]
    }
   ],
   "source": [
    "SSE=[]\n",
    "index=range(1,10)\n",
    "for i in index:\n",
    "    kmeans=KMeans(n_clusters=i,random_state=42)\n",
    "    kmeans.fit(x_scale)\n",
    "    SSE.append(kmeans.inertia_)\n",
    "    print(kmeans.inertia_)"
   ]
  },
  {
   "cell_type": "code",
   "execution_count": 91,
   "metadata": {},
   "outputs": [
    {
     "data": {
      "image/png": "[encoded data removed]",
      "text/plain": [
       "<Figure size 432x288 with 1 Axes>"
      ]
     },
     "metadata": {
      "needs_background": "light"
     },
     "output_type": "display_data"
    }
   ],
   "source": [
    "plt.plot(index,SSE)\n",
    "plt.xlabel('K')\n",
    "plt.ylabel('SSE')\n",
    "plt.show()"
   ]
  },
  {
   "cell_type": "code",
   "execution_count": null,
   "metadata": {},
   "outputs": [],
   "source": []
  }
 ],
 "metadata": {
  "kernelspec": {
   "display_name": "Python 3",
   "language": "python",
   "name": "python3"
  },
  "language_info": {
   "codemirror_mode": {
    "name": "ipython",
    "version": 3
   },
   "file_extension": ".py",
   "mimetype": "text/x-python",
   "name": "python",
   "nbconvert_exporter": "python",
   "pygments_lexer": "ipython3",
   "version": "3.7.9"
  }
 },
 "nbformat": 4,
 "nbformat_minor": 4
}
