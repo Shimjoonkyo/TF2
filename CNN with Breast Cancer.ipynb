{
 "cells": [
  {
   "cell_type": "code",
   "execution_count": 9,
   "metadata": {},
   "outputs": [],
   "source": [
    "import tensorflow as tf\n",
    "from tensorflow.keras.models import Sequential\n",
    "from tensorflow.keras.layers import Dense, Dropout, Flatten, BatchNormalization\n",
    "from tensorflow.keras.layers import Conv1D, MaxPooling1D\n",
    "from tensorflow.keras.preprocessing.image import ImageDataGenerator\n",
    "from tensorflow.keras.optimizers import Adam\n",
    "import numpy as np\n",
    "import pandas as pd\n",
    "import matplotlib.pyplot as plt\n",
    "import seaborn as sns"
   ]
  },
  {
   "cell_type": "code",
   "execution_count": 12,
   "metadata": {},
   "outputs": [],
   "source": [
    "from sklearn import datasets, metrics\n",
    "from sklearn.model_selection import train_test_split\n",
    "from sklearn.preprocessing import StandardScaler"
   ]
  },
  {
   "cell_type": "code",
   "execution_count": 123,
   "metadata": {},
   "outputs": [],
   "source": [
    "dataset = pd.read_csv('data/breastcancel.csv')"
   ]
  },
  {
   "cell_type": "code",
   "execution_count": 124,
   "metadata": {},
   "outputs": [
    {
     "data": {
      "text/html": [
       "<div>\n",
       "<style scoped>\n",
       "    .dataframe tbody tr th:only-of-type {\n",
       "        vertical-align: middle;\n",
       "    }\n",
       "\n",
       "    .dataframe tbody tr th {\n",
       "        vertical-align: top;\n",
       "    }\n",
       "\n",
       "    .dataframe thead th {\n",
       "        text-align: right;\n",
       "    }\n",
       "</style>\n",
       "<table border=\"1\" class=\"dataframe\">\n",
       "  <thead>\n",
       "    <tr style=\"text-align: right;\">\n",
       "      <th></th>\n",
       "      <th>id</th>\n",
       "      <th>diagnosis</th>\n",
       "      <th>radius_mean</th>\n",
       "      <th>texture_mean</th>\n",
       "      <th>perimeter_mean</th>\n",
       "      <th>area_mean</th>\n",
       "      <th>smoothness_mean</th>\n",
       "      <th>compactness_mean</th>\n",
       "      <th>concavity_mean</th>\n",
       "      <th>concave points_mean</th>\n",
       "      <th>...</th>\n",
       "      <th>texture_worst</th>\n",
       "      <th>perimeter_worst</th>\n",
       "      <th>area_worst</th>\n",
       "      <th>smoothness_worst</th>\n",
       "      <th>compactness_worst</th>\n",
       "      <th>concavity_worst</th>\n",
       "      <th>concave points_worst</th>\n",
       "      <th>symmetry_worst</th>\n",
       "      <th>fractal_dimension_worst</th>\n",
       "      <th>Unnamed: 32</th>\n",
       "    </tr>\n",
       "  </thead>\n",
       "  <tbody>\n",
       "    <tr>\n",
       "      <th>0</th>\n",
       "      <td>842302</td>\n",
       "      <td>M</td>\n",
       "      <td>17.99</td>\n",
       "      <td>10.38</td>\n",
       "      <td>122.80</td>\n",
       "      <td>1001.0</td>\n",
       "      <td>0.11840</td>\n",
       "      <td>0.27760</td>\n",
       "      <td>0.3001</td>\n",
       "      <td>0.14710</td>\n",
       "      <td>...</td>\n",
       "      <td>17.33</td>\n",
       "      <td>184.60</td>\n",
       "      <td>2019.0</td>\n",
       "      <td>0.1622</td>\n",
       "      <td>0.6656</td>\n",
       "      <td>0.7119</td>\n",
       "      <td>0.2654</td>\n",
       "      <td>0.4601</td>\n",
       "      <td>0.11890</td>\n",
       "      <td>NaN</td>\n",
       "    </tr>\n",
       "    <tr>\n",
       "      <th>1</th>\n",
       "      <td>842517</td>\n",
       "      <td>M</td>\n",
       "      <td>20.57</td>\n",
       "      <td>17.77</td>\n",
       "      <td>132.90</td>\n",
       "      <td>1326.0</td>\n",
       "      <td>0.08474</td>\n",
       "      <td>0.07864</td>\n",
       "      <td>0.0869</td>\n",
       "      <td>0.07017</td>\n",
       "      <td>...</td>\n",
       "      <td>23.41</td>\n",
       "      <td>158.80</td>\n",
       "      <td>1956.0</td>\n",
       "      <td>0.1238</td>\n",
       "      <td>0.1866</td>\n",
       "      <td>0.2416</td>\n",
       "      <td>0.1860</td>\n",
       "      <td>0.2750</td>\n",
       "      <td>0.08902</td>\n",
       "      <td>NaN</td>\n",
       "    </tr>\n",
       "    <tr>\n",
       "      <th>2</th>\n",
       "      <td>84300903</td>\n",
       "      <td>M</td>\n",
       "      <td>19.69</td>\n",
       "      <td>21.25</td>\n",
       "      <td>130.00</td>\n",
       "      <td>1203.0</td>\n",
       "      <td>0.10960</td>\n",
       "      <td>0.15990</td>\n",
       "      <td>0.1974</td>\n",
       "      <td>0.12790</td>\n",
       "      <td>...</td>\n",
       "      <td>25.53</td>\n",
       "      <td>152.50</td>\n",
       "      <td>1709.0</td>\n",
       "      <td>0.1444</td>\n",
       "      <td>0.4245</td>\n",
       "      <td>0.4504</td>\n",
       "      <td>0.2430</td>\n",
       "      <td>0.3613</td>\n",
       "      <td>0.08758</td>\n",
       "      <td>NaN</td>\n",
       "    </tr>\n",
       "    <tr>\n",
       "      <th>3</th>\n",
       "      <td>84348301</td>\n",
       "      <td>M</td>\n",
       "      <td>11.42</td>\n",
       "      <td>20.38</td>\n",
       "      <td>77.58</td>\n",
       "      <td>386.1</td>\n",
       "      <td>0.14250</td>\n",
       "      <td>0.28390</td>\n",
       "      <td>0.2414</td>\n",
       "      <td>0.10520</td>\n",
       "      <td>...</td>\n",
       "      <td>26.50</td>\n",
       "      <td>98.87</td>\n",
       "      <td>567.7</td>\n",
       "      <td>0.2098</td>\n",
       "      <td>0.8663</td>\n",
       "      <td>0.6869</td>\n",
       "      <td>0.2575</td>\n",
       "      <td>0.6638</td>\n",
       "      <td>0.17300</td>\n",
       "      <td>NaN</td>\n",
       "    </tr>\n",
       "    <tr>\n",
       "      <th>4</th>\n",
       "      <td>84358402</td>\n",
       "      <td>M</td>\n",
       "      <td>20.29</td>\n",
       "      <td>14.34</td>\n",
       "      <td>135.10</td>\n",
       "      <td>1297.0</td>\n",
       "      <td>0.10030</td>\n",
       "      <td>0.13280</td>\n",
       "      <td>0.1980</td>\n",
       "      <td>0.10430</td>\n",
       "      <td>...</td>\n",
       "      <td>16.67</td>\n",
       "      <td>152.20</td>\n",
       "      <td>1575.0</td>\n",
       "      <td>0.1374</td>\n",
       "      <td>0.2050</td>\n",
       "      <td>0.4000</td>\n",
       "      <td>0.1625</td>\n",
       "      <td>0.2364</td>\n",
       "      <td>0.07678</td>\n",
       "      <td>NaN</td>\n",
       "    </tr>\n",
       "  </tbody>\n",
       "</table>\n",
       "<p>5 rows × 33 columns</p>\n",
       "</div>"
      ],
      "text/plain": [
       "         id diagnosis  radius_mean  texture_mean  perimeter_mean  area_mean  \\\n",
       "0    842302         M        17.99         10.38          122.80     1001.0   \n",
       "1    842517         M        20.57         17.77          132.90     1326.0   \n",
       "2  84300903         M        19.69         21.25          130.00     1203.0   \n",
       "3  84348301         M        11.42         20.38           77.58      386.1   \n",
       "4  84358402         M        20.29         14.34          135.10     1297.0   \n",
       "\n",
       "   smoothness_mean  compactness_mean  concavity_mean  concave points_mean  \\\n",
       "0          0.11840           0.27760          0.3001              0.14710   \n",
       "1          0.08474           0.07864          0.0869              0.07017   \n",
       "2          0.10960           0.15990          0.1974              0.12790   \n",
       "3          0.14250           0.28390          0.2414              0.10520   \n",
       "4          0.10030           0.13280          0.1980              0.10430   \n",
       "\n",
       "   ...  texture_worst  perimeter_worst  area_worst  smoothness_worst  \\\n",
       "0  ...          17.33           184.60      2019.0            0.1622   \n",
       "1  ...          23.41           158.80      1956.0            0.1238   \n",
       "2  ...          25.53           152.50      1709.0            0.1444   \n",
       "3  ...          26.50            98.87       567.7            0.2098   \n",
       "4  ...          16.67           152.20      1575.0            0.1374   \n",
       "\n",
       "   compactness_worst  concavity_worst  concave points_worst  symmetry_worst  \\\n",
       "0             0.6656           0.7119                0.2654          0.4601   \n",
       "1             0.1866           0.2416                0.1860          0.2750   \n",
       "2             0.4245           0.4504                0.2430          0.3613   \n",
       "3             0.8663           0.6869                0.2575          0.6638   \n",
       "4             0.2050           0.4000                0.1625          0.2364   \n",
       "\n",
       "   fractal_dimension_worst  Unnamed: 32  \n",
       "0                  0.11890          NaN  \n",
       "1                  0.08902          NaN  \n",
       "2                  0.08758          NaN  \n",
       "3                  0.17300          NaN  \n",
       "4                  0.07678          NaN  \n",
       "\n",
       "[5 rows x 33 columns]"
      ]
     },
     "execution_count": 124,
     "metadata": {},
     "output_type": "execute_result"
    }
   ],
   "source": [
    "dataset.head()\n",
    "#M : malignant 악성\n",
    "#B : benign 양성"
   ]
  },
  {
   "cell_type": "code",
   "execution_count": 125,
   "metadata": {},
   "outputs": [],
   "source": [
    "diagnosis_mapping = {\"M\": 0, \"B\": 1}\n",
    "for feature in [dataset]:\n",
    "    feature['diagnosis'] = feature['diagnosis'].map(diagnosis_mapping)"
   ]
  },
  {
   "cell_type": "code",
   "execution_count": 126,
   "metadata": {},
   "outputs": [],
   "source": [
    "x_data=dataset.iloc[:,2:32]\n",
    "y_data=dataset.iloc[:,1]"
   ]
  },
  {
   "cell_type": "code",
   "execution_count": 127,
   "metadata": {},
   "outputs": [
    {
     "data": {
      "text/plain": [
       "((569, 30), (569,))"
      ]
     },
     "execution_count": 127,
     "metadata": {},
     "output_type": "execute_result"
    }
   ],
   "source": [
    "x_data.shape , y_data.shape"
   ]
  },
  {
   "cell_type": "code",
   "execution_count": 128,
   "metadata": {},
   "outputs": [],
   "source": [
    "x_train, x_test, y_train, y_test = train_test_split(x_data, y_data, test_size = 0.2, random_state=0)"
   ]
  },
  {
   "cell_type": "code",
   "execution_count": 129,
   "metadata": {},
   "outputs": [
    {
     "data": {
      "text/plain": [
       "((455, 30), (455,), (114, 30), (114,))"
      ]
     },
     "execution_count": 129,
     "metadata": {},
     "output_type": "execute_result"
    }
   ],
   "source": [
    "x_train.shape , y_train.shape, x_test.shape, y_test.shape"
   ]
  },
  {
   "cell_type": "code",
   "execution_count": 138,
   "metadata": {},
   "outputs": [],
   "source": [
    "scaler=StandardScaler()\n",
    "x_train=scaler.fit_transform(x_train)\n",
    "x_test=scaler.transform(x_test)"
   ]
  },
  {
   "cell_type": "code",
   "execution_count": 139,
   "metadata": {},
   "outputs": [
    {
     "data": {
      "text/plain": [
       "array([[-1.15036482, -0.39064196, -1.12855021, ..., -0.75798367,\n",
       "        -0.01614761, -0.38503402],\n",
       "       [-0.93798972,  0.68051405, -0.94820146, ..., -0.60687023,\n",
       "         0.09669004, -0.38615797],\n",
       "       [ 0.574121  , -1.03333557,  0.51394098, ..., -0.02371948,\n",
       "        -0.20050207, -0.75144254],\n",
       "       ...,\n",
       "       [-1.32422924, -0.20048168, -1.31754581, ..., -0.97974953,\n",
       "        -0.71542314, -0.11978123],\n",
       "       [-1.24380987, -0.2245526 , -1.28007609, ..., -1.75401433,\n",
       "        -1.58157125, -1.00601779],\n",
       "       [-0.73694129,  1.14989702, -0.71226578, ..., -0.27460457,\n",
       "        -1.25895095,  0.21515662]])"
      ]
     },
     "execution_count": 139,
     "metadata": {},
     "output_type": "execute_result"
    }
   ],
   "source": [
    "x_train"
   ]
  },
  {
   "cell_type": "code",
   "execution_count": 147,
   "metadata": {},
   "outputs": [
    {
     "data": {
      "text/plain": [
       "array([[[-0.20175604],\n",
       "        [ 0.3290786 ],\n",
       "        [-0.13086754],\n",
       "        ...,\n",
       "        [ 1.3893291 ],\n",
       "        [ 1.08203284],\n",
       "        [ 1.54029664]],\n",
       "\n",
       "       [[-0.25555773],\n",
       "        [ 1.46763319],\n",
       "        [-0.31780437],\n",
       "        ...,\n",
       "        [-0.83369364],\n",
       "        [-0.73131577],\n",
       "        [-0.87732522]],\n",
       "\n",
       "       [[-0.02619262],\n",
       "        [-0.8407682 ],\n",
       "        [-0.09175081],\n",
       "        ...,\n",
       "        [-0.49483785],\n",
       "        [-1.22080864],\n",
       "        [-0.92115937]],\n",
       "\n",
       "       ...,\n",
       "\n",
       "       [[ 1.71811488],\n",
       "        [ 0.09318356],\n",
       "        [ 1.7286186 ],\n",
       "        ...,\n",
       "        [ 1.57630515],\n",
       "        [ 0.20317063],\n",
       "        [-0.15406178]],\n",
       "\n",
       "       [[ 1.18859296],\n",
       "        [ 0.34352115],\n",
       "        [ 1.19333694],\n",
       "        ...,\n",
       "        [ 0.56019755],\n",
       "        [ 0.26991966],\n",
       "        [-0.27320074]],\n",
       "\n",
       "       [[ 0.26263752],\n",
       "        [-0.58080224],\n",
       "        [ 0.28459338],\n",
       "        ...,\n",
       "        [-0.19383705],\n",
       "        [-1.15564888],\n",
       "        [ 0.11231497]]])"
      ]
     },
     "execution_count": 147,
     "metadata": {},
     "output_type": "execute_result"
    }
   ],
   "source": [
    "x_test"
   ]
  },
  {
   "cell_type": "code",
   "execution_count": 142,
   "metadata": {},
   "outputs": [],
   "source": [
    "x_train=x_train.reshape(455,30,1)\n",
    "x_test=x_test.reshape(114,30,1)"
   ]
  },
  {
   "cell_type": "code",
   "execution_count": 152,
   "metadata": {},
   "outputs": [],
   "source": [
    "y_train=np.array(y_train)\n",
    "y_test=np.array(y_test)"
   ]
  },
  {
   "cell_type": "code",
   "execution_count": 153,
   "metadata": {},
   "outputs": [],
   "source": [
    "model=Sequential()\n",
    "model.add(Conv1D(filters=32,kernel_size=2,activation='relu',input_shape=(30,1)))\n",
    "model.add(BatchNormalization())\n",
    "model.add(Dropout(0.2))\n",
    "\n",
    "model.add(Conv1D(filters=64,kernel_size=2,activation='relu'))\n",
    "model.add(BatchNormalization())\n",
    "model.add(Dropout(0.5))\n",
    "\n",
    "model.add(Flatten())\n",
    "model.add(Dense(64,activation='relu'))\n",
    "model.add(Dropout(0.5))\n",
    "\n",
    "model.add(Dense(1,activation='sigmoid'))"
   ]
  },
  {
   "cell_type": "code",
   "execution_count": 154,
   "metadata": {},
   "outputs": [
    {
     "name": "stdout",
     "output_type": "stream",
     "text": [
      "Model: \"sequential_1\"\n",
      "_________________________________________________________________\n",
      "Layer (type)                 Output Shape              Param #   \n",
      "=================================================================\n",
      "conv1d_2 (Conv1D)            (None, 29, 32)            96        \n",
      "_________________________________________________________________\n",
      "batch_normalization_2 (Batch (None, 29, 32)            128       \n",
      "_________________________________________________________________\n",
      "dropout_3 (Dropout)          (None, 29, 32)            0         \n",
      "_________________________________________________________________\n",
      "conv1d_3 (Conv1D)            (None, 28, 64)            4160      \n",
      "_________________________________________________________________\n",
      "batch_normalization_3 (Batch (None, 28, 64)            256       \n",
      "_________________________________________________________________\n",
      "dropout_4 (Dropout)          (None, 28, 64)            0         \n",
      "_________________________________________________________________\n",
      "flatten_1 (Flatten)          (None, 1792)              0         \n",
      "_________________________________________________________________\n",
      "dense_2 (Dense)              (None, 64)                114752    \n",
      "_________________________________________________________________\n",
      "dropout_5 (Dropout)          (None, 64)                0         \n",
      "_________________________________________________________________\n",
      "dense_3 (Dense)              (None, 1)                 65        \n",
      "=================================================================\n",
      "Total params: 119,457\n",
      "Trainable params: 119,265\n",
      "Non-trainable params: 192\n",
      "_________________________________________________________________\n"
     ]
    }
   ],
   "source": [
    "model.summary()"
   ]
  },
  {
   "cell_type": "code",
   "execution_count": 155,
   "metadata": {},
   "outputs": [],
   "source": [
    "model.compile(optimizer=Adam(learning_rate=0.00005),loss='binary_crossentropy',metrics=['accuracy'])"
   ]
  },
  {
   "cell_type": "code",
   "execution_count": 156,
   "metadata": {},
   "outputs": [
    {
     "name": "stdout",
     "output_type": "stream",
     "text": [
      "Train on 364 samples, validate on 91 samples\n",
      "Epoch 1/50\n",
      "364/364 [==============================] - 2s 4ms/sample - loss: 1.1450 - accuracy: 0.5302 - val_loss: 0.6874 - val_accuracy: 0.5714\n",
      "Epoch 2/50\n",
      "364/364 [==============================] - 0s 168us/sample - loss: 0.8328 - accuracy: 0.6319 - val_loss: 0.6601 - val_accuracy: 0.7802\n",
      "Epoch 3/50\n",
      "364/364 [==============================] - 0s 183us/sample - loss: 0.7269 - accuracy: 0.6951 - val_loss: 0.6346 - val_accuracy: 0.8022\n",
      "Epoch 4/50\n",
      "364/364 [==============================] - 0s 183us/sample - loss: 0.5344 - accuracy: 0.7610 - val_loss: 0.6125 - val_accuracy: 0.7802\n",
      "Epoch 5/50\n",
      "364/364 [==============================] - 0s 185us/sample - loss: 0.5112 - accuracy: 0.7885 - val_loss: 0.5903 - val_accuracy: 0.7692\n",
      "Epoch 6/50\n",
      "364/364 [==============================] - 0s 220us/sample - loss: 0.4615 - accuracy: 0.8352 - val_loss: 0.5667 - val_accuracy: 0.7802\n",
      "Epoch 7/50\n",
      "364/364 [==============================] - 0s 183us/sample - loss: 0.4607 - accuracy: 0.8077 - val_loss: 0.5427 - val_accuracy: 0.8242\n",
      "Epoch 8/50\n",
      "364/364 [==============================] - 0s 185us/sample - loss: 0.4392 - accuracy: 0.8187 - val_loss: 0.5154 - val_accuracy: 0.8352\n",
      "Epoch 9/50\n",
      "364/364 [==============================] - 0s 214us/sample - loss: 0.4377 - accuracy: 0.8187 - val_loss: 0.4880 - val_accuracy: 0.8571\n",
      "Epoch 10/50\n",
      "364/364 [==============================] - 0s 186us/sample - loss: 0.2562 - accuracy: 0.8984 - val_loss: 0.4623 - val_accuracy: 0.8791\n",
      "Epoch 11/50\n",
      "364/364 [==============================] - 0s 185us/sample - loss: 0.3203 - accuracy: 0.8764 - val_loss: 0.4369 - val_accuracy: 0.8901\n",
      "Epoch 12/50\n",
      "364/364 [==============================] - 0s 186us/sample - loss: 0.2682 - accuracy: 0.8901 - val_loss: 0.4108 - val_accuracy: 0.8901\n",
      "Epoch 13/50\n",
      "364/364 [==============================] - 0s 205us/sample - loss: 0.2976 - accuracy: 0.8846 - val_loss: 0.3848 - val_accuracy: 0.9231\n",
      "Epoch 14/50\n",
      "364/364 [==============================] - 0s 205us/sample - loss: 0.2835 - accuracy: 0.8791 - val_loss: 0.3593 - val_accuracy: 0.9121\n",
      "Epoch 15/50\n",
      "364/364 [==============================] - 0s 200us/sample - loss: 0.2811 - accuracy: 0.8654 - val_loss: 0.3341 - val_accuracy: 0.9231\n",
      "Epoch 16/50\n",
      "364/364 [==============================] - 0s 186us/sample - loss: 0.2924 - accuracy: 0.8791 - val_loss: 0.3100 - val_accuracy: 0.9341\n",
      "Epoch 17/50\n",
      "364/364 [==============================] - 0s 199us/sample - loss: 0.2401 - accuracy: 0.9176 - val_loss: 0.2883 - val_accuracy: 0.9341\n",
      "Epoch 18/50\n",
      "364/364 [==============================] - 0s 175us/sample - loss: 0.2517 - accuracy: 0.9038 - val_loss: 0.2668 - val_accuracy: 0.9560\n",
      "Epoch 19/50\n",
      "364/364 [==============================] - 0s 200us/sample - loss: 0.2078 - accuracy: 0.8984 - val_loss: 0.2476 - val_accuracy: 0.9560\n",
      "Epoch 20/50\n",
      "364/364 [==============================] - 0s 162us/sample - loss: 0.2084 - accuracy: 0.9121 - val_loss: 0.2301 - val_accuracy: 0.9451\n",
      "Epoch 21/50\n",
      "364/364 [==============================] - 0s 206us/sample - loss: 0.2068 - accuracy: 0.9313 - val_loss: 0.2129 - val_accuracy: 0.9560\n",
      "Epoch 22/50\n",
      "364/364 [==============================] - 0s 205us/sample - loss: 0.2272 - accuracy: 0.9038 - val_loss: 0.1976 - val_accuracy: 0.9780\n",
      "Epoch 23/50\n",
      "364/364 [==============================] - 0s 194us/sample - loss: 0.1784 - accuracy: 0.9286 - val_loss: 0.1834 - val_accuracy: 0.9780\n",
      "Epoch 24/50\n",
      "364/364 [==============================] - 0s 200us/sample - loss: 0.2033 - accuracy: 0.9203 - val_loss: 0.1720 - val_accuracy: 0.9560\n",
      "Epoch 25/50\n",
      "364/364 [==============================] - 0s 186us/sample - loss: 0.1671 - accuracy: 0.9313 - val_loss: 0.1621 - val_accuracy: 0.9560\n",
      "Epoch 26/50\n",
      "364/364 [==============================] - 0s 182us/sample - loss: 0.2292 - accuracy: 0.9066 - val_loss: 0.1512 - val_accuracy: 0.9560\n",
      "Epoch 27/50\n",
      "364/364 [==============================] - 0s 199us/sample - loss: 0.2011 - accuracy: 0.9231 - val_loss: 0.1415 - val_accuracy: 0.9560\n",
      "Epoch 28/50\n",
      "364/364 [==============================] - 0s 205us/sample - loss: 0.1724 - accuracy: 0.9423 - val_loss: 0.1338 - val_accuracy: 0.9560\n",
      "Epoch 29/50\n",
      "364/364 [==============================] - 0s 182us/sample - loss: 0.2223 - accuracy: 0.9093 - val_loss: 0.1274 - val_accuracy: 0.9560\n",
      "Epoch 30/50\n",
      "364/364 [==============================] - 0s 198us/sample - loss: 0.1773 - accuracy: 0.9368 - val_loss: 0.1202 - val_accuracy: 0.9560\n",
      "Epoch 31/50\n",
      "364/364 [==============================] - 0s 167us/sample - loss: 0.1419 - accuracy: 0.9313 - val_loss: 0.1142 - val_accuracy: 0.9560\n",
      "Epoch 32/50\n",
      "364/364 [==============================] - 0s 182us/sample - loss: 0.1779 - accuracy: 0.9231 - val_loss: 0.1094 - val_accuracy: 0.9670\n",
      "Epoch 33/50\n",
      "364/364 [==============================] - 0s 232us/sample - loss: 0.1312 - accuracy: 0.9396 - val_loss: 0.1049 - val_accuracy: 0.9670\n",
      "Epoch 34/50\n",
      "364/364 [==============================] - 0s 227us/sample - loss: 0.1317 - accuracy: 0.9451 - val_loss: 0.1010 - val_accuracy: 0.9670\n",
      "Epoch 35/50\n",
      "364/364 [==============================] - 0s 189us/sample - loss: 0.1409 - accuracy: 0.9505 - val_loss: 0.0986 - val_accuracy: 0.9670\n",
      "Epoch 36/50\n",
      "364/364 [==============================] - 0s 189us/sample - loss: 0.1496 - accuracy: 0.9341 - val_loss: 0.0941 - val_accuracy: 0.9670\n",
      "Epoch 37/50\n",
      "364/364 [==============================] - 0s 189us/sample - loss: 0.1542 - accuracy: 0.9341 - val_loss: 0.0901 - val_accuracy: 0.9670\n",
      "Epoch 38/50\n",
      "364/364 [==============================] - 0s 189us/sample - loss: 0.1537 - accuracy: 0.9451 - val_loss: 0.0866 - val_accuracy: 0.9670\n",
      "Epoch 39/50\n",
      "364/364 [==============================] - 0s 181us/sample - loss: 0.1623 - accuracy: 0.9203 - val_loss: 0.0829 - val_accuracy: 0.9670\n",
      "Epoch 40/50\n",
      "364/364 [==============================] - 0s 180us/sample - loss: 0.1434 - accuracy: 0.9423 - val_loss: 0.0810 - val_accuracy: 0.9670\n",
      "Epoch 41/50\n",
      "364/364 [==============================] - 0s 183us/sample - loss: 0.1516 - accuracy: 0.9423 - val_loss: 0.0799 - val_accuracy: 0.9670\n",
      "Epoch 42/50\n",
      "364/364 [==============================] - 0s 184us/sample - loss: 0.1690 - accuracy: 0.9231 - val_loss: 0.0781 - val_accuracy: 0.9670\n",
      "Epoch 43/50\n",
      "364/364 [==============================] - 0s 183us/sample - loss: 0.1354 - accuracy: 0.9505 - val_loss: 0.0766 - val_accuracy: 0.9670\n",
      "Epoch 44/50\n",
      "364/364 [==============================] - 0s 178us/sample - loss: 0.1396 - accuracy: 0.9615 - val_loss: 0.0768 - val_accuracy: 0.9670\n",
      "Epoch 45/50\n",
      "364/364 [==============================] - 0s 183us/sample - loss: 0.1235 - accuracy: 0.9588 - val_loss: 0.0764 - val_accuracy: 0.9670\n",
      "Epoch 46/50\n",
      "364/364 [==============================] - 0s 202us/sample - loss: 0.1097 - accuracy: 0.9505 - val_loss: 0.0748 - val_accuracy: 0.9670\n",
      "Epoch 47/50\n",
      "364/364 [==============================] - 0s 192us/sample - loss: 0.1639 - accuracy: 0.9505 - val_loss: 0.0727 - val_accuracy: 0.9670\n",
      "Epoch 48/50\n",
      "364/364 [==============================] - 0s 208us/sample - loss: 0.1131 - accuracy: 0.9643 - val_loss: 0.0709 - val_accuracy: 0.9670\n",
      "Epoch 49/50\n",
      "364/364 [==============================] - 0s 194us/sample - loss: 0.1148 - accuracy: 0.9478 - val_loss: 0.0685 - val_accuracy: 0.9670\n",
      "Epoch 50/50\n",
      "364/364 [==============================] - 0s 201us/sample - loss: 0.1059 - accuracy: 0.9643 - val_loss: 0.0666 - val_accuracy: 0.9670\n"
     ]
    }
   ],
   "source": [
    "hist=model.fit(x_train,y_train, epochs=50,validation_split=0.2,verbose=1)"
   ]
  },
  {
   "cell_type": "code",
   "execution_count": 161,
   "metadata": {},
   "outputs": [
    {
     "name": "stdout",
     "output_type": "stream",
     "text": [
      "\r",
      "114/1 [============================================================================================================================================================================================================================================================================================================================================================================================================================================================================================================================================================================================================================================================================================================================================================================================================================================================================================================================================================================================================================================================================================================================================================================================================================================================================================================================================================================================================================================================================================================================================================================================================================================================================================================================================================================================================================================================================================================================================================================================================================================================================================================================================================================================================================================================================================================================================================================================================================================================================================================================================================================================================================================================================================================================================================================================================================================================================================================================================================================================================================================================================================================================================================================================================================================================================================================================================================================================================================================================================================================================================================] - 0s 87us/sample - loss: 0.1867 - accuracy: 0.9386\n"
     ]
    },
    {
     "data": {
      "text/plain": [
       "[0.11476883344482958, 0.9385965]"
      ]
     },
     "execution_count": 161,
     "metadata": {},
     "output_type": "execute_result"
    }
   ],
   "source": [
    "model.evaluate(x_test,y_test)"
   ]
  },
  {
   "cell_type": "code",
   "execution_count": 159,
   "metadata": {},
   "outputs": [
    {
     "data": {
      "image/png": "[encoded data removed]",
      "text/plain": [
       "<Figure size 432x288 with 1 Axes>"
      ]
     },
     "metadata": {
      "needs_background": "light"
     },
     "output_type": "display_data"
    }
   ],
   "source": [
    "plt.title('Loss')\n",
    "plt.xlabel('epochs')\n",
    "plt.ylabel('loss')\n",
    "plt.grid()\n",
    "\n",
    "plt.plot(hist.history['loss'], label='train loss')\n",
    "plt.plot(hist.history['val_loss'], label='validation loss')\n",
    "\n",
    "plt.legend(loc='best')\n",
    "\n",
    "plt.show()"
   ]
  },
  {
   "cell_type": "code",
   "execution_count": 158,
   "metadata": {},
   "outputs": [
    {
     "data": {
      "image/png": "[encoded data removed]",
      "text/plain": [
       "<Figure size 432x288 with 1 Axes>"
      ]
     },
     "metadata": {
      "needs_background": "light"
     },
     "output_type": "display_data"
    }
   ],
   "source": [
    "plt.title('Accuracy')\n",
    "plt.xlabel('epochs')\n",
    "plt.ylabel('accuracy')\n",
    "plt.grid()\n",
    "\n",
    "plt.plot(hist.history['accuracy'], label='train accuracy')\n",
    "plt.plot(hist.history['val_accuracy'], label='validation accuracy')\n",
    "\n",
    "plt.legend(loc='best')\n",
    "\n",
    "plt.show()"
   ]
  },
  {
   "cell_type": "code",
   "execution_count": 164,
   "metadata": {},
   "outputs": [],
   "source": [
    "from mlxtend.plotting import plot_confusion_matrix\n",
    "from sklearn.metrics import confusion_matrix"
   ]
  },
  {
   "cell_type": "code",
   "execution_count": 170,
   "metadata": {},
   "outputs": [],
   "source": [
    "y_pred=model.predict_classes(x_test)"
   ]
  },
  {
   "cell_type": "code",
   "execution_count": 171,
   "metadata": {},
   "outputs": [
    {
     "data": {
      "text/plain": [
       "array([0, 1, 1, 1, 1, 1, 1, 1, 1, 1, 1, 1, 1, 1, 1, 0, 1, 0, 0, 0, 0, 0,\n",
       "       1, 1, 0, 1, 1, 0, 1, 0, 1, 0, 1, 0, 1, 0, 1, 0, 1, 0, 0, 1, 0, 1,\n",
       "       1, 0, 1, 1, 1, 0, 0, 0, 0, 1, 1, 1, 1, 1, 1, 0, 0, 0, 1, 1, 0, 1,\n",
       "       0, 0, 0, 1, 1, 0, 1, 0, 0, 1, 1, 1, 1, 1, 0, 0, 0, 1, 0, 1, 1, 1,\n",
       "       0, 0, 1, 0, 1, 0, 1, 1, 0, 1, 1, 1, 1, 1, 1, 1, 0, 1, 0, 1, 0, 0,\n",
       "       1, 0, 0, 1], dtype=int64)"
      ]
     },
     "execution_count": 171,
     "metadata": {},
     "output_type": "execute_result"
    }
   ],
   "source": [
    "y_test"
   ]
  },
  {
   "cell_type": "code",
   "execution_count": 172,
   "metadata": {},
   "outputs": [
    {
     "data": {
      "text/plain": [
       "array([[0],\n",
       "       [1],\n",
       "       [1],\n",
       "       [1],\n",
       "       [1],\n",
       "       [1],\n",
       "       [1],\n",
       "       [1],\n",
       "       [1],\n",
       "       [1],\n",
       "       [1],\n",
       "       [1],\n",
       "       [1],\n",
       "       [0],\n",
       "       [0],\n",
       "       [0],\n",
       "       [1],\n",
       "       [0],\n",
       "       [0],\n",
       "       [0],\n",
       "       [0],\n",
       "       [0],\n",
       "       [1],\n",
       "       [1],\n",
       "       [0],\n",
       "       [1],\n",
       "       [1],\n",
       "       [0],\n",
       "       [1],\n",
       "       [0],\n",
       "       [1],\n",
       "       [0],\n",
       "       [1],\n",
       "       [0],\n",
       "       [1],\n",
       "       [0],\n",
       "       [1],\n",
       "       [0],\n",
       "       [1],\n",
       "       [0],\n",
       "       [1],\n",
       "       [1],\n",
       "       [0],\n",
       "       [1],\n",
       "       [1],\n",
       "       [0],\n",
       "       [1],\n",
       "       [1],\n",
       "       [1],\n",
       "       [0],\n",
       "       [0],\n",
       "       [0],\n",
       "       [0],\n",
       "       [1],\n",
       "       [1],\n",
       "       [1],\n",
       "       [1],\n",
       "       [1],\n",
       "       [1],\n",
       "       [0],\n",
       "       [0],\n",
       "       [0],\n",
       "       [1],\n",
       "       [1],\n",
       "       [0],\n",
       "       [1],\n",
       "       [0],\n",
       "       [0],\n",
       "       [0],\n",
       "       [1],\n",
       "       [1],\n",
       "       [0],\n",
       "       [1],\n",
       "       [0],\n",
       "       [0],\n",
       "       [1],\n",
       "       [1],\n",
       "       [1],\n",
       "       [1],\n",
       "       [1],\n",
       "       [0],\n",
       "       [0],\n",
       "       [0],\n",
       "       [1],\n",
       "       [0],\n",
       "       [1],\n",
       "       [1],\n",
       "       [1],\n",
       "       [0],\n",
       "       [0],\n",
       "       [1],\n",
       "       [1],\n",
       "       [0],\n",
       "       [0],\n",
       "       [1],\n",
       "       [1],\n",
       "       [0],\n",
       "       [1],\n",
       "       [1],\n",
       "       [1],\n",
       "       [1],\n",
       "       [1],\n",
       "       [1],\n",
       "       [1],\n",
       "       [0],\n",
       "       [1],\n",
       "       [0],\n",
       "       [1],\n",
       "       [0],\n",
       "       [1],\n",
       "       [1],\n",
       "       [0],\n",
       "       [0],\n",
       "       [0]])"
      ]
     },
     "execution_count": 172,
     "metadata": {},
     "output_type": "execute_result"
    }
   ],
   "source": [
    "y_pred"
   ]
  },
  {
   "cell_type": "code",
   "execution_count": 165,
   "metadata": {},
   "outputs": [],
   "source": [
    "mat=confusion_matrix(y_test,y_pred)"
   ]
  },
  {
   "cell_type": "code",
   "execution_count": 167,
   "metadata": {},
   "outputs": [
    {
     "data": {
      "text/plain": [
       "array([[44,  3],\n",
       "       [ 4, 63]], dtype=int64)"
      ]
     },
     "execution_count": 167,
     "metadata": {},
     "output_type": "execute_result"
    }
   ],
   "source": [
    "mat"
   ]
  },
  {
   "cell_type": "code",
   "execution_count": 174,
   "metadata": {},
   "outputs": [
    {
     "data": {
      "text/plain": [
       "(<Figure size 288x288 with 1 Axes>,\n",
       " <AxesSubplot:xlabel='predicted label', ylabel='true label'>)"
      ]
     },
     "execution_count": 174,
     "metadata": {},
     "output_type": "execute_result"
    },
    {
     "data": {
      "image/png": "[encoded data removed]",
      "text/plain": [
       "<Figure size 288x288 with 1 Axes>"
      ]
     },
     "metadata": {
      "needs_background": "light"
     },
     "output_type": "display_data"
    }
   ],
   "source": [
    "plot_confusion_matrix(mat,figsize=(4,4),class_names=['M','B'],show_normed=True)"
   ]
  }
 ],
 "metadata": {
  "kernelspec": {
   "display_name": "Python 3",
   "language": "python",
   "name": "python3"
  },
  "language_info": {
   "codemirror_mode": {
    "name": "ipython",
    "version": 3
   },
   "file_extension": ".py",
   "mimetype": "text/x-python",
   "name": "python",
   "nbconvert_exporter": "python",
   "pygments_lexer": "ipython3",
   "version": "3.7.9"
  }
 },
 "nbformat": 4,
 "nbformat_minor": 4
}
