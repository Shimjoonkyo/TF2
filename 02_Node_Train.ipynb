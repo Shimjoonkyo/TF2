{
 "cells": [
  {
   "cell_type": "markdown",
   "metadata": {
    "id": "yPtDpM0i-vfQ"
   },
   "source": [
    "<a href=\"https://colab.research.google.com/github/minsuk-heo/tf2/blob/master/jupyter_notebooks/02.Node_Train.ipynb\" target=\"_parent\"><img src=\"https://colab.research.google.com/assets/colab-badge.svg\" alt=\"Open In Colab\"/></a>"
   ]
  },
  {
   "cell_type": "markdown",
   "metadata": {
    "id": "8ArDzoFN-vfR"
   },
   "source": [
    "# Node\n",
    "Node can do simple logic such as AND operation, OR operation.\n",
    "Let's practice with Tensorflow2."
   ]
  },
  {
   "cell_type": "code",
   "execution_count": 13,
   "metadata": {
    "id": "gqxDL7be-vfS"
   },
   "outputs": [],
   "source": [
    "from __future__ import absolute_import, division, print_function, unicode_literals\n",
    "\n",
    "try:\n",
    "  %tensorflow_version 2.x\n",
    "except Exception:\n",
    "  pass"
   ]
  },
  {
   "cell_type": "code",
   "execution_count": 26,
   "metadata": {
    "id": "brTo3t3r-vfX"
   },
   "outputs": [],
   "source": [
    "import tensorflow as tf\n",
    "import numpy as np\n",
    "\n",
    "# random seed for always same result from TF2\n",
    "tf.random.set_seed(1)\n",
    "np.random.seed(1)"
   ]
  },
  {
   "cell_type": "code",
   "execution_count": 33,
   "metadata": {
    "id": "JLSdnX5a-vfZ"
   },
   "outputs": [],
   "source": [
    "class Node:\n",
    "    def __init__(self):\n",
    "        self.w = tf.Variable(tf.random.normal([2, 1]))\n",
    "        self.b = tf.Variable(tf.random.normal([1, 1]))\n",
    "        \n",
    "    def __call__(self, x):\n",
    "        return self.preds(x)\n",
    "    \n",
    "    def preds(self,x):\n",
    "        # forward propagation\n",
    "        out = tf.matmul(x,self.w)\n",
    "        out = tf.add(out, self.b)\n",
    "        out = tf.nn.sigmoid(out)\n",
    "        return out\n",
    "    \n",
    "    def loss(self,y_pred, y):\n",
    "        return tf.reduce_mean(tf.square(y_pred - y))\n",
    "   \n",
    "    def train(self, inputs, outputs, learning_rate):\n",
    "        epochs = range(10000)\n",
    "        for i, epoch in enumerate(epochs):\n",
    "            with tf.GradientTape() as t:\n",
    "                current_loss = self.loss(self.preds(inputs), outputs)\n",
    "                if i % 1000 == 0:\n",
    "                    print(str(i) + \" epoch, loss: \"+str(current_loss.numpy()))\n",
    "                # back propagation\n",
    "                dW, db = t.gradient(current_loss, [self.w, self.b])\n",
    "                self.w.assign_sub(learning_rate * dW)\n",
    "                self.b.assign_sub(learning_rate * db)"
   ]
  },
  {
   "cell_type": "code",
   "execution_count": 48,
   "metadata": {
    "id": "qlXeWImh-vfc",
    "outputId": "170d2cab-34b1-463c-8e07-8f9a1bef2c1d"
   },
   "outputs": [
    {
     "name": "stdout",
     "output_type": "stream",
     "text": [
      "0 epoch, loss: 0.370301\n",
      "1000 epoch, loss: 0.23720664\n",
      "2000 epoch, loss: 0.18113744\n",
      "3000 epoch, loss: 0.14663187\n",
      "4000 epoch, loss: 0.12296036\n",
      "5000 epoch, loss: 0.10613414\n",
      "6000 epoch, loss: 0.093567565\n",
      "7000 epoch, loss: 0.08375209\n",
      "8000 epoch, loss: 0.07581043\n",
      "9000 epoch, loss: 0.069212146\n"
     ]
    }
   ],
   "source": [
    "# AND operation\n",
    "inputs = tf.constant([[0.0,0.0], [0.0,1.0], [1.0,0.0], [1.0,1.0]])\n",
    "outputs = tf.constant([[0.0], [0.0], [0.0], [1.0]])\n",
    "\n",
    "node = Node()\n",
    "# train\n",
    "node.train(inputs, outputs, 0.01)\n",
    "# test\n",
    "assert node([[0.0,0.0]]).numpy()[0][0] < 0.5\n",
    "assert node([[0.0,1.0]]).numpy()[0][0] < 0.5\n",
    "assert node([[1.0,0.0]]).numpy()[0][0] < 0.5\n",
    "assert node([[1.0,1.0]]).numpy()[0][0] >= 0.5"
   ]
  },
  {
   "cell_type": "code",
   "execution_count": 50,
   "metadata": {},
   "outputs": [
    {
     "name": "stdout",
     "output_type": "stream",
     "text": [
      "Node Weights:  [[1.6890329]\n",
      " [1.7463508]]\n"
     ]
    }
   ],
   "source": [
    "print(\"Node Weights: \",node.w.numpy())"
   ]
  },
  {
   "cell_type": "code",
   "execution_count": 51,
   "metadata": {},
   "outputs": [
    {
     "name": "stdout",
     "output_type": "stream",
     "text": [
      "Node Bias:  [[-2.7413213]]\n"
     ]
    }
   ],
   "source": [
    "print(\"Node Bias: \",node.b.numpy())"
   ]
  },
  {
   "cell_type": "code",
   "execution_count": null,
   "metadata": {},
   "outputs": [],
   "source": []
  },
  {
   "cell_type": "code",
   "execution_count": 20,
   "metadata": {
    "id": "R0A1bjMH-vff",
    "outputId": "ee60838c-7a6c-40f1-ceb4-417f6ef30062"
   },
   "outputs": [
    {
     "name": "stdout",
     "output_type": "stream",
     "text": [
      "0 epoch, loss: 0.29322585\n",
      "1000 epoch, loss: 0.08768979\n",
      "2000 epoch, loss: 0.071268216\n",
      "3000 epoch, loss: 0.061903954\n",
      "4000 epoch, loss: 0.054545276\n",
      "5000 epoch, loss: 0.048518144\n",
      "6000 epoch, loss: 0.04351106\n",
      "7000 epoch, loss: 0.039306317\n",
      "8000 epoch, loss: 0.0357409\n",
      "9000 epoch, loss: 0.03269053\n"
     ]
    }
   ],
   "source": [
    "# OR operation\n",
    "inputs = tf.constant([[0.0,0.0], [0.0,1.0], [1.0,0.0], [1.0,1.0]])\n",
    "outputs = tf.constant([[0.0], [1.0], [1.0], [1.0]])\n",
    "\n",
    "node = Node()\n",
    "# train\n",
    "node.train(inputs, outputs, 0.01)\n",
    "# test\n",
    "assert node([[0.0,0.0]]).numpy()[0][0] < 0.5\n",
    "assert node([[0.0,1.0]]).numpy()[0][0] >= 0.5\n",
    "assert node([[1.0,0.0]]).numpy()[0][0] >= 0.5\n",
    "assert node([[1.0,1.0]]).numpy()[0][0] >= 0.5"
   ]
  },
  {
   "cell_type": "code",
   "execution_count": 21,
   "metadata": {
    "id": "FAG7uQDY-vfi",
    "outputId": "6e2f784d-8a4e-4818-f69d-3fe1b0b846f6"
   },
   "outputs": [
    {
     "name": "stdout",
     "output_type": "stream",
     "text": [
      "Node Weights:  [[2.7046537]\n",
      " [2.6919966]]\n"
     ]
    }
   ],
   "source": [
    "print(\"Node Weights: \",node.w.numpy())"
   ]
  },
  {
   "cell_type": "code",
   "execution_count": 22,
   "metadata": {
    "id": "Trnqmh5g-vfk",
    "outputId": "8e4a97a5-7ae1-451a-9ead-efa783e8323c"
   },
   "outputs": [
    {
     "name": "stdout",
     "output_type": "stream",
     "text": [
      "Node Bias:  [[-1.0040259]]\n"
     ]
    }
   ],
   "source": [
    "print(\"Node Bias: \",node.b.numpy())"
   ]
  }
 ],
 "metadata": {
  "colab": {
   "name": "02.Node_Train.ipynb",
   "provenance": []
  },
  "kernelspec": {
   "display_name": "Python 3",
   "language": "python",
   "name": "python3"
  },
  "language_info": {
   "codemirror_mode": {
    "name": "ipython",
    "version": 3
   },
   "file_extension": ".py",
   "mimetype": "text/x-python",
   "name": "python",
   "nbconvert_exporter": "python",
   "pygments_lexer": "ipython3",
   "version": "3.7.9"
  }
 },
 "nbformat": 4,
 "nbformat_minor": 1
}
