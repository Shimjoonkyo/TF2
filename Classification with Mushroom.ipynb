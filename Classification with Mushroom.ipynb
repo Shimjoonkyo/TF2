{
 "cells": [
  {
   "cell_type": "code",
   "execution_count": 5,
   "metadata": {},
   "outputs": [],
   "source": [
    "import numpy as np\n",
    "import pandas as pd\n",
    "dataset = pd.read_csv('data/mushrooms.csv')"
   ]
  },
  {
   "cell_type": "code",
   "execution_count": 6,
   "metadata": {},
   "outputs": [
    {
     "data": {
      "text/html": [
       "<div>\n",
       "<style scoped>\n",
       "    .dataframe tbody tr th:only-of-type {\n",
       "        vertical-align: middle;\n",
       "    }\n",
       "\n",
       "    .dataframe tbody tr th {\n",
       "        vertical-align: top;\n",
       "    }\n",
       "\n",
       "    .dataframe thead th {\n",
       "        text-align: right;\n",
       "    }\n",
       "</style>\n",
       "<table border=\"1\" class=\"dataframe\">\n",
       "  <thead>\n",
       "    <tr style=\"text-align: right;\">\n",
       "      <th></th>\n",
       "      <th>class</th>\n",
       "      <th>cap-shape</th>\n",
       "      <th>cap-surface</th>\n",
       "      <th>cap-color</th>\n",
       "      <th>bruises</th>\n",
       "      <th>odor</th>\n",
       "      <th>gill-attachment</th>\n",
       "      <th>gill-spacing</th>\n",
       "      <th>gill-size</th>\n",
       "      <th>gill-color</th>\n",
       "      <th>...</th>\n",
       "      <th>stalk-surface-below-ring</th>\n",
       "      <th>stalk-color-above-ring</th>\n",
       "      <th>stalk-color-below-ring</th>\n",
       "      <th>veil-type</th>\n",
       "      <th>veil-color</th>\n",
       "      <th>ring-number</th>\n",
       "      <th>ring-type</th>\n",
       "      <th>spore-print-color</th>\n",
       "      <th>population</th>\n",
       "      <th>habitat</th>\n",
       "    </tr>\n",
       "  </thead>\n",
       "  <tbody>\n",
       "    <tr>\n",
       "      <th>0</th>\n",
       "      <td>p</td>\n",
       "      <td>x</td>\n",
       "      <td>s</td>\n",
       "      <td>n</td>\n",
       "      <td>t</td>\n",
       "      <td>p</td>\n",
       "      <td>f</td>\n",
       "      <td>c</td>\n",
       "      <td>n</td>\n",
       "      <td>k</td>\n",
       "      <td>...</td>\n",
       "      <td>s</td>\n",
       "      <td>w</td>\n",
       "      <td>w</td>\n",
       "      <td>p</td>\n",
       "      <td>w</td>\n",
       "      <td>o</td>\n",
       "      <td>p</td>\n",
       "      <td>k</td>\n",
       "      <td>s</td>\n",
       "      <td>u</td>\n",
       "    </tr>\n",
       "    <tr>\n",
       "      <th>1</th>\n",
       "      <td>e</td>\n",
       "      <td>x</td>\n",
       "      <td>s</td>\n",
       "      <td>y</td>\n",
       "      <td>t</td>\n",
       "      <td>a</td>\n",
       "      <td>f</td>\n",
       "      <td>c</td>\n",
       "      <td>b</td>\n",
       "      <td>k</td>\n",
       "      <td>...</td>\n",
       "      <td>s</td>\n",
       "      <td>w</td>\n",
       "      <td>w</td>\n",
       "      <td>p</td>\n",
       "      <td>w</td>\n",
       "      <td>o</td>\n",
       "      <td>p</td>\n",
       "      <td>n</td>\n",
       "      <td>n</td>\n",
       "      <td>g</td>\n",
       "    </tr>\n",
       "    <tr>\n",
       "      <th>2</th>\n",
       "      <td>e</td>\n",
       "      <td>b</td>\n",
       "      <td>s</td>\n",
       "      <td>w</td>\n",
       "      <td>t</td>\n",
       "      <td>l</td>\n",
       "      <td>f</td>\n",
       "      <td>c</td>\n",
       "      <td>b</td>\n",
       "      <td>n</td>\n",
       "      <td>...</td>\n",
       "      <td>s</td>\n",
       "      <td>w</td>\n",
       "      <td>w</td>\n",
       "      <td>p</td>\n",
       "      <td>w</td>\n",
       "      <td>o</td>\n",
       "      <td>p</td>\n",
       "      <td>n</td>\n",
       "      <td>n</td>\n",
       "      <td>m</td>\n",
       "    </tr>\n",
       "    <tr>\n",
       "      <th>3</th>\n",
       "      <td>p</td>\n",
       "      <td>x</td>\n",
       "      <td>y</td>\n",
       "      <td>w</td>\n",
       "      <td>t</td>\n",
       "      <td>p</td>\n",
       "      <td>f</td>\n",
       "      <td>c</td>\n",
       "      <td>n</td>\n",
       "      <td>n</td>\n",
       "      <td>...</td>\n",
       "      <td>s</td>\n",
       "      <td>w</td>\n",
       "      <td>w</td>\n",
       "      <td>p</td>\n",
       "      <td>w</td>\n",
       "      <td>o</td>\n",
       "      <td>p</td>\n",
       "      <td>k</td>\n",
       "      <td>s</td>\n",
       "      <td>u</td>\n",
       "    </tr>\n",
       "    <tr>\n",
       "      <th>4</th>\n",
       "      <td>e</td>\n",
       "      <td>x</td>\n",
       "      <td>s</td>\n",
       "      <td>g</td>\n",
       "      <td>f</td>\n",
       "      <td>n</td>\n",
       "      <td>f</td>\n",
       "      <td>w</td>\n",
       "      <td>b</td>\n",
       "      <td>k</td>\n",
       "      <td>...</td>\n",
       "      <td>s</td>\n",
       "      <td>w</td>\n",
       "      <td>w</td>\n",
       "      <td>p</td>\n",
       "      <td>w</td>\n",
       "      <td>o</td>\n",
       "      <td>e</td>\n",
       "      <td>n</td>\n",
       "      <td>a</td>\n",
       "      <td>g</td>\n",
       "    </tr>\n",
       "  </tbody>\n",
       "</table>\n",
       "<p>5 rows × 23 columns</p>\n",
       "</div>"
      ],
      "text/plain": [
       "  class cap-shape cap-surface cap-color bruises odor gill-attachment  \\\n",
       "0     p         x           s         n       t    p               f   \n",
       "1     e         x           s         y       t    a               f   \n",
       "2     e         b           s         w       t    l               f   \n",
       "3     p         x           y         w       t    p               f   \n",
       "4     e         x           s         g       f    n               f   \n",
       "\n",
       "  gill-spacing gill-size gill-color  ... stalk-surface-below-ring  \\\n",
       "0            c         n          k  ...                        s   \n",
       "1            c         b          k  ...                        s   \n",
       "2            c         b          n  ...                        s   \n",
       "3            c         n          n  ...                        s   \n",
       "4            w         b          k  ...                        s   \n",
       "\n",
       "  stalk-color-above-ring stalk-color-below-ring veil-type veil-color  \\\n",
       "0                      w                      w         p          w   \n",
       "1                      w                      w         p          w   \n",
       "2                      w                      w         p          w   \n",
       "3                      w                      w         p          w   \n",
       "4                      w                      w         p          w   \n",
       "\n",
       "  ring-number ring-type spore-print-color population habitat  \n",
       "0           o         p                 k          s       u  \n",
       "1           o         p                 n          n       g  \n",
       "2           o         p                 n          n       m  \n",
       "3           o         p                 k          s       u  \n",
       "4           o         e                 n          a       g  \n",
       "\n",
       "[5 rows x 23 columns]"
      ]
     },
     "execution_count": 6,
     "metadata": {},
     "output_type": "execute_result"
    }
   ],
   "source": [
    "dataset.head()"
   ]
  },
  {
   "cell_type": "code",
   "execution_count": 7,
   "metadata": {},
   "outputs": [
    {
     "name": "stdout",
     "output_type": "stream",
     "text": [
      "<class 'pandas.core.frame.DataFrame'>\n",
      "RangeIndex: 8124 entries, 0 to 8123\n",
      "Data columns (total 23 columns):\n",
      " #   Column                    Non-Null Count  Dtype \n",
      "---  ------                    --------------  ----- \n",
      " 0   class                     8124 non-null   object\n",
      " 1   cap-shape                 8124 non-null   object\n",
      " 2   cap-surface               8124 non-null   object\n",
      " 3   cap-color                 8124 non-null   object\n",
      " 4   bruises                   8124 non-null   object\n",
      " 5   odor                      8124 non-null   object\n",
      " 6   gill-attachment           8124 non-null   object\n",
      " 7   gill-spacing              8124 non-null   object\n",
      " 8   gill-size                 8124 non-null   object\n",
      " 9   gill-color                8124 non-null   object\n",
      " 10  stalk-shape               8124 non-null   object\n",
      " 11  stalk-root                8124 non-null   object\n",
      " 12  stalk-surface-above-ring  8124 non-null   object\n",
      " 13  stalk-surface-below-ring  8124 non-null   object\n",
      " 14  stalk-color-above-ring    8124 non-null   object\n",
      " 15  stalk-color-below-ring    8124 non-null   object\n",
      " 16  veil-type                 8124 non-null   object\n",
      " 17  veil-color                8124 non-null   object\n",
      " 18  ring-number               8124 non-null   object\n",
      " 19  ring-type                 8124 non-null   object\n",
      " 20  spore-print-color         8124 non-null   object\n",
      " 21  population                8124 non-null   object\n",
      " 22  habitat                   8124 non-null   object\n",
      "dtypes: object(23)\n",
      "memory usage: 1.4+ MB\n"
     ]
    }
   ],
   "source": [
    "dataset.info()"
   ]
  },
  {
   "cell_type": "code",
   "execution_count": 8,
   "metadata": {},
   "outputs": [],
   "source": [
    "data=[dataset]"
   ]
  },
  {
   "cell_type": "code",
   "execution_count": 9,
   "metadata": {},
   "outputs": [],
   "source": [
    "poison_mapping = {\"p\": 0, \"e\": 1}\n",
    "for feature in data:\n",
    "    feature['class'] = feature['class'].map(poison_mapping)"
   ]
  },
  {
   "cell_type": "code",
   "execution_count": 10,
   "metadata": {},
   "outputs": [
    {
     "data": {
      "text/plain": [
       "[      class cap-shape cap-surface cap-color bruises odor gill-attachment  \\\n",
       " 0         0         x           s         n       t    p               f   \n",
       " 1         1         x           s         y       t    a               f   \n",
       " 2         1         b           s         w       t    l               f   \n",
       " 3         0         x           y         w       t    p               f   \n",
       " 4         1         x           s         g       f    n               f   \n",
       " ...     ...       ...         ...       ...     ...  ...             ...   \n",
       " 8119      1         k           s         n       f    n               a   \n",
       " 8120      1         x           s         n       f    n               a   \n",
       " 8121      1         f           s         n       f    n               a   \n",
       " 8122      0         k           y         n       f    y               f   \n",
       " 8123      1         x           s         n       f    n               a   \n",
       " \n",
       "      gill-spacing gill-size gill-color  ... stalk-surface-below-ring  \\\n",
       " 0               c         n          k  ...                        s   \n",
       " 1               c         b          k  ...                        s   \n",
       " 2               c         b          n  ...                        s   \n",
       " 3               c         n          n  ...                        s   \n",
       " 4               w         b          k  ...                        s   \n",
       " ...           ...       ...        ...  ...                      ...   \n",
       " 8119            c         b          y  ...                        s   \n",
       " 8120            c         b          y  ...                        s   \n",
       " 8121            c         b          n  ...                        s   \n",
       " 8122            c         n          b  ...                        k   \n",
       " 8123            c         b          y  ...                        s   \n",
       " \n",
       "      stalk-color-above-ring stalk-color-below-ring veil-type veil-color  \\\n",
       " 0                         w                      w         p          w   \n",
       " 1                         w                      w         p          w   \n",
       " 2                         w                      w         p          w   \n",
       " 3                         w                      w         p          w   \n",
       " 4                         w                      w         p          w   \n",
       " ...                     ...                    ...       ...        ...   \n",
       " 8119                      o                      o         p          o   \n",
       " 8120                      o                      o         p          n   \n",
       " 8121                      o                      o         p          o   \n",
       " 8122                      w                      w         p          w   \n",
       " 8123                      o                      o         p          o   \n",
       " \n",
       "      ring-number ring-type spore-print-color population habitat  \n",
       " 0              o         p                 k          s       u  \n",
       " 1              o         p                 n          n       g  \n",
       " 2              o         p                 n          n       m  \n",
       " 3              o         p                 k          s       u  \n",
       " 4              o         e                 n          a       g  \n",
       " ...          ...       ...               ...        ...     ...  \n",
       " 8119           o         p                 b          c       l  \n",
       " 8120           o         p                 b          v       l  \n",
       " 8121           o         p                 b          c       l  \n",
       " 8122           o         e                 w          v       l  \n",
       " 8123           o         p                 o          c       l  \n",
       " \n",
       " [8124 rows x 23 columns]]"
      ]
     },
     "execution_count": 10,
     "metadata": {},
     "output_type": "execute_result"
    }
   ],
   "source": [
    "data"
   ]
  },
  {
   "cell_type": "code",
   "execution_count": 11,
   "metadata": {},
   "outputs": [],
   "source": [
    "import matplotlib.pyplot as plt\n",
    "import seaborn as sns"
   ]
  },
  {
   "cell_type": "code",
   "execution_count": 12,
   "metadata": {},
   "outputs": [
    {
     "name": "stdout",
     "output_type": "stream",
     "text": [
      "class\n",
      "[0 1]\n",
      "cap-shape\n",
      "['x' 'b' 's' 'f' 'k' 'c']\n",
      "cap-surface\n",
      "['s' 'y' 'f' 'g']\n",
      "cap-color\n",
      "['n' 'y' 'w' 'g' 'e' 'p' 'b' 'u' 'c' 'r']\n",
      "bruises\n",
      "['t' 'f']\n",
      "odor\n",
      "['p' 'a' 'l' 'n' 'f' 'c' 'y' 's' 'm']\n",
      "gill-attachment\n",
      "['f' 'a']\n",
      "gill-spacing\n",
      "['c' 'w']\n",
      "gill-size\n",
      "['n' 'b']\n",
      "gill-color\n",
      "['k' 'n' 'g' 'p' 'w' 'h' 'u' 'e' 'b' 'r' 'y' 'o']\n",
      "stalk-shape\n",
      "['e' 't']\n",
      "stalk-root\n",
      "['e' 'c' 'b' 'r' '?']\n",
      "stalk-surface-above-ring\n",
      "['s' 'f' 'k' 'y']\n",
      "stalk-surface-below-ring\n",
      "['s' 'f' 'y' 'k']\n",
      "stalk-color-above-ring\n",
      "['w' 'g' 'p' 'n' 'b' 'e' 'o' 'c' 'y']\n",
      "stalk-color-below-ring\n",
      "['w' 'p' 'g' 'b' 'n' 'e' 'y' 'o' 'c']\n",
      "veil-type\n",
      "['p']\n",
      "veil-color\n",
      "['w' 'n' 'o' 'y']\n",
      "ring-number\n",
      "['o' 't' 'n']\n",
      "ring-type\n",
      "['p' 'e' 'l' 'f' 'n']\n",
      "spore-print-color\n",
      "['k' 'n' 'u' 'h' 'w' 'r' 'o' 'y' 'b']\n",
      "population\n",
      "['s' 'n' 'a' 'v' 'y' 'c']\n",
      "habitat\n",
      "['u' 'g' 'm' 'd' 'p' 'w' 'l']\n"
     ]
    }
   ],
   "source": [
    "column_list = dataset.columns.values.tolist()\n",
    "#print(column_list)\n",
    "for column_name in column_list:\n",
    "    print(column_name)\n",
    "    print(dataset[column_name].unique())"
   ]
  },
  {
   "cell_type": "code",
   "execution_count": 13,
   "metadata": {},
   "outputs": [
    {
     "data": {
      "text/plain": [
       "array([['x', 's', 'n', ..., 'k', 's', 'u'],\n",
       "       ['x', 's', 'y', ..., 'n', 'n', 'g'],\n",
       "       ['b', 's', 'w', ..., 'n', 'n', 'm'],\n",
       "       ...,\n",
       "       ['f', 's', 'n', ..., 'b', 'c', 'l'],\n",
       "       ['k', 'y', 'n', ..., 'w', 'v', 'l'],\n",
       "       ['x', 's', 'n', ..., 'o', 'c', 'l']], dtype=object)"
      ]
     },
     "execution_count": 13,
     "metadata": {},
     "output_type": "execute_result"
    }
   ],
   "source": [
    "x = dataset.iloc[:,1:].values\n",
    "x"
   ]
  },
  {
   "cell_type": "code",
   "execution_count": 14,
   "metadata": {},
   "outputs": [],
   "source": [
    "y = dataset.iloc[:,0].values"
   ]
  },
  {
   "cell_type": "code",
   "execution_count": 15,
   "metadata": {},
   "outputs": [],
   "source": [
    "def bar_chart(feature):\n",
    "    poisonous = dataset[dataset['class']==0][feature].value_counts()\n",
    "    edible = dataset[dataset['class']==1][feature].value_counts()\n",
    "    df = pd.DataFrame([poisonous,edible])\n",
    "    df.index = ['Poisonous','Edible']\n",
    "    df.plot(kind='bar',stacked=True, figsize=(8,4))"
   ]
  },
  {
   "cell_type": "code",
   "execution_count": 16,
   "metadata": {},
   "outputs": [
    {
     "data": {
      "image/png": "[encoded data removed]",
      "text/plain": [
       "<Figure size 576x288 with 1 Axes>"
      ]
     },
     "metadata": {
      "needs_background": "light"
     },
     "output_type": "display_data"
    }
   ],
   "source": [
    "bar_chart('cap-shape')"
   ]
  },
  {
   "cell_type": "code",
   "execution_count": 21,
   "metadata": {},
   "outputs": [],
   "source": [
    "#capshape_mapping = {\"x\": 3, \"f\": 3,\"k\":1,\"b\":1,\"c\":0.1,\"s\":0.1}\n",
    "#for feature in data:\n",
    "    #feature['cap-shape'] = feature['cap-shape'].map(capshape_mapping)"
   ]
  },
  {
   "cell_type": "code",
   "execution_count": 26,
   "metadata": {},
   "outputs": [],
   "source": [
    "#labelencoder 써도됨\n",
    "#from sklearn.preprocessing import LabelEncoder\n",
    "#label = LabelEncoder()\n",
    "#dataset['cap-shape'] = label.fit_transform(dataset['cap-shape'])\n",
    "#label = LabelEncoder()\n"
   ]
  },
  {
   "cell_type": "code",
   "execution_count": 303,
   "metadata": {},
   "outputs": [
    {
     "data": {
      "image/png": "[encoded data removed]",
      "text/plain": [
       "<Figure size 576x288 with 1 Axes>"
      ]
     },
     "metadata": {
      "needs_background": "light"
     },
     "output_type": "display_data"
    }
   ],
   "source": [
    "bar_chart('cap-surface')"
   ]
  },
  {
   "cell_type": "code",
   "execution_count": 304,
   "metadata": {},
   "outputs": [],
   "source": [
    "capsurface_mapping = {\"y\":3,\"s\":2,\"f\":2,\"g\":0.1}\n",
    "for feature in data:\n",
    "    feature['cap-surface'] = feature['cap-surface'].map(capsurface_mapping)"
   ]
  },
  {
   "cell_type": "code",
   "execution_count": 305,
   "metadata": {},
   "outputs": [
    {
     "data": {
      "image/png": "[encoded data removed]",
      "text/plain": [
       "<Figure size 576x288 with 1 Axes>"
      ]
     },
     "metadata": {
      "needs_background": "light"
     },
     "output_type": "display_data"
    }
   ],
   "source": [
    "bar_chart('cap-color')"
   ]
  },
  {
   "cell_type": "code",
   "execution_count": 306,
   "metadata": {},
   "outputs": [],
   "source": [
    "capcolor_mapping = {\"n\":2,\"e\":2,\"g\":2,\"y\":1,\"w\":1,\"b\":0.5,\"p\":0.5,\"c\":0.1,\"u\":0.1,\"r\":0.1}\n",
    "for feature in data:\n",
    "    feature['cap-color'] = feature['cap-color'].map(capcolor_mapping)"
   ]
  },
  {
   "cell_type": "code",
   "execution_count": 307,
   "metadata": {},
   "outputs": [
    {
     "data": {
      "image/png": "[encoded data removed]",
      "text/plain": [
       "<Figure size 576x288 with 1 Axes>"
      ]
     },
     "metadata": {
      "needs_background": "light"
     },
     "output_type": "display_data"
    }
   ],
   "source": [
    "bar_chart('bruises')"
   ]
  },
  {
   "cell_type": "code",
   "execution_count": 308,
   "metadata": {},
   "outputs": [],
   "source": [
    "bruises_mapping = {\"f\":4,\"t\":4}\n",
    "for feature in data:\n",
    "    feature['bruises'] = feature['bruises'].map(bruises_mapping)"
   ]
  },
  {
   "cell_type": "code",
   "execution_count": 309,
   "metadata": {},
   "outputs": [
    {
     "data": {
      "image/png": "[encoded data removed]",
      "text/plain": [
       "<Figure size 576x288 with 1 Axes>"
      ]
     },
     "metadata": {
      "needs_background": "light"
     },
     "output_type": "display_data"
    }
   ],
   "source": [
    "bar_chart('odor')"
   ]
  },
  {
   "cell_type": "code",
   "execution_count": 310,
   "metadata": {},
   "outputs": [],
   "source": [
    "odor_mapping = {\"f\":3,\"s\":2,\"y\":2,\"p\":1,\"c\":1,\"n\":4,\"m\":0.1,\"a\":1,\"l\":1}\n",
    "for feature in data:\n",
    "    feature['odor'] = feature['odor'].map(odor_mapping)"
   ]
  },
  {
   "cell_type": "code",
   "execution_count": 311,
   "metadata": {},
   "outputs": [
    {
     "data": {
      "image/png": "[encoded data removed]",
      "text/plain": [
       "<Figure size 576x288 with 1 Axes>"
      ]
     },
     "metadata": {
      "needs_background": "light"
     },
     "output_type": "display_data"
    }
   ],
   "source": [
    "bar_chart('gill-attachment')"
   ]
  },
  {
   "cell_type": "code",
   "execution_count": 312,
   "metadata": {},
   "outputs": [],
   "source": [
    "gillattachment_mapping = {\"f\":5,\"a\":0.5}\n",
    "for feature in data:\n",
    "    feature['gill-attachment'] = feature['gill-attachment'].map(gillattachment_mapping)"
   ]
  },
  {
   "cell_type": "code",
   "execution_count": 313,
   "metadata": {},
   "outputs": [
    {
     "data": {
      "image/png": "[encoded data removed]",
      "text/plain": [
       "<Figure size 576x288 with 1 Axes>"
      ]
     },
     "metadata": {
      "needs_background": "light"
     },
     "output_type": "display_data"
    }
   ],
   "source": [
    "bar_chart('gill-spacing')"
   ]
  },
  {
   "cell_type": "code",
   "execution_count": 314,
   "metadata": {},
   "outputs": [],
   "source": [
    "gillspacing_mapping = {\"c\":4,\"w\":2}\n",
    "for feature in data:\n",
    "    feature['gill-spacing'] = feature['gill-spacing'].map(gillspacing_mapping)"
   ]
  },
  {
   "cell_type": "code",
   "execution_count": 315,
   "metadata": {},
   "outputs": [
    {
     "data": {
      "image/png": "[encoded data removed]",
      "text/plain": [
       "<Figure size 576x288 with 1 Axes>"
      ]
     },
     "metadata": {
      "needs_background": "light"
     },
     "output_type": "display_data"
    }
   ],
   "source": [
    "bar_chart('gill-size')"
   ]
  },
  {
   "cell_type": "code",
   "execution_count": 316,
   "metadata": {},
   "outputs": [],
   "source": [
    "gillsize_mapping = {\"n\":2,\"b\":4}\n",
    "for feature in data:\n",
    "    feature['gill-size'] = feature['gill-size'].map(gillsize_mapping)"
   ]
  },
  {
   "cell_type": "code",
   "execution_count": 317,
   "metadata": {},
   "outputs": [
    {
     "data": {
      "image/png": "[encoded data removed]",
      "text/plain": [
       "<Figure size 576x288 with 1 Axes>"
      ]
     },
     "metadata": {
      "needs_background": "light"
     },
     "output_type": "display_data"
    }
   ],
   "source": [
    "bar_chart('gill-color')"
   ]
  },
  {
   "cell_type": "code",
   "execution_count": 318,
   "metadata": {},
   "outputs": [],
   "source": [
    "gillcolor_mapping = {\"b\":2,\"p\":2,\"h\":1,\"g\":1,\"w\":2,\"n\":2,\"k\":1,\"u\":1,\"r\":0.1,\"y\":0.1,\"e\":0.1,\"o\":0.1}\n",
    "for feature in data:\n",
    "    feature['gill-color'] = feature['gill-color'].map(gillcolor_mapping)"
   ]
  },
  {
   "cell_type": "code",
   "execution_count": 319,
   "metadata": {},
   "outputs": [
    {
     "data": {
      "image/png": "[encoded data removed]",
      "text/plain": [
       "<Figure size 576x288 with 1 Axes>"
      ]
     },
     "metadata": {
      "needs_background": "light"
     },
     "output_type": "display_data"
    }
   ],
   "source": [
    "bar_chart('stalk-shape')"
   ]
  },
  {
   "cell_type": "code",
   "execution_count": 320,
   "metadata": {},
   "outputs": [],
   "source": [
    "stalkshape_mapping = {\"t\":3,\"e\":3}\n",
    "for feature in data:\n",
    "    feature['stalk-shape'] = feature['stalk-shape'].map(stalkshape_mapping)"
   ]
  },
  {
   "cell_type": "code",
   "execution_count": 321,
   "metadata": {},
   "outputs": [
    {
     "data": {
      "image/png": "[encoded data removed]",
      "text/plain": [
       "<Figure size 576x288 with 1 Axes>"
      ]
     },
     "metadata": {
      "needs_background": "light"
     },
     "output_type": "display_data"
    }
   ],
   "source": [
    "bar_chart('stalk-root')"
   ]
  },
  {
   "cell_type": "code",
   "execution_count": 322,
   "metadata": {},
   "outputs": [],
   "source": [
    "stalkroot_mapping = {\"b\":3,\"?\":0,\"e\":2,\"c\":1,\"r\":0.5}\n",
    "for feature in data:\n",
    "    feature['stalk-root'] = feature['stalk-root'].map(stalkroot_mapping)"
   ]
  },
  {
   "cell_type": "code",
   "execution_count": 323,
   "metadata": {},
   "outputs": [
    {
     "data": {
      "image/png": "[encoded data removed]",
      "text/plain": [
       "<Figure size 576x288 with 1 Axes>"
      ]
     },
     "metadata": {
      "needs_background": "light"
     },
     "output_type": "display_data"
    }
   ],
   "source": [
    "bar_chart('stalk-surface-above-ring')"
   ]
  },
  {
   "cell_type": "code",
   "execution_count": 324,
   "metadata": {},
   "outputs": [],
   "source": [
    "stalksurfaceabovering_mapping = {\"k\":3,\"s\":3,\"f\":1,\"y\":0.1}\n",
    "for feature in data:\n",
    "    feature['stalk-surface-above-ring'] = feature['stalk-surface-above-ring'].map(stalksurfaceabovering_mapping)"
   ]
  },
  {
   "cell_type": "code",
   "execution_count": 325,
   "metadata": {},
   "outputs": [
    {
     "data": {
      "image/png": "[encoded data removed]",
      "text/plain": [
       "<Figure size 576x288 with 1 Axes>"
      ]
     },
     "metadata": {
      "needs_background": "light"
     },
     "output_type": "display_data"
    }
   ],
   "source": [
    "bar_chart('stalk-surface-below-ring')"
   ]
  },
  {
   "cell_type": "code",
   "execution_count": 326,
   "metadata": {},
   "outputs": [],
   "source": [
    "stalksurfacebelowring_mapping = {\"k\":3,\"s\":3,\"f\":1,\"y\":0.1}\n",
    "for feature in data:\n",
    "    feature['stalk-surface-below-ring'] = feature['stalk-surface-below-ring'].map(stalksurfacebelowring_mapping)"
   ]
  },
  {
   "cell_type": "code",
   "execution_count": 327,
   "metadata": {},
   "outputs": [
    {
     "data": {
      "image/png": "[encoded data removed]",
      "text/plain": [
       "<Figure size 576x288 with 1 Axes>"
      ]
     },
     "metadata": {
      "needs_background": "light"
     },
     "output_type": "display_data"
    }
   ],
   "source": [
    "bar_chart('stalk-color-above-ring')"
   ]
  },
  {
   "cell_type": "code",
   "execution_count": 328,
   "metadata": {},
   "outputs": [],
   "source": [
    "stalkcolorabovering_mapping = {\"w\":3,\"p\":2,\"b\":1,\"n\":1,\"c\":0.1,\"y\":0.1,\"g\":1,\"o\":0.5,\"e\":0.1}\n",
    "for feature in data:\n",
    "    feature['stalk-color-above-ring'] = feature['stalk-color-above-ring'].map(stalkcolorabovering_mapping)"
   ]
  },
  {
   "cell_type": "code",
   "execution_count": 329,
   "metadata": {},
   "outputs": [
    {
     "data": {
      "image/png": "[encoded data removed]",
      "text/plain": [
       "<Figure size 576x288 with 1 Axes>"
      ]
     },
     "metadata": {
      "needs_background": "light"
     },
     "output_type": "display_data"
    }
   ],
   "source": [
    "bar_chart('stalk-color-below-ring')"
   ]
  },
  {
   "cell_type": "code",
   "execution_count": 330,
   "metadata": {},
   "outputs": [],
   "source": [
    "stalkcolorbelowring_mapping = {\"w\":3,\"p\":2,\"b\":1,\"n\":1,\"c\":0.1,\"y\":0.1,\"g\":1,\"o\":0.5,\"e\":0.1}\n",
    "for feature in data:\n",
    "    feature['stalk-color-below-ring'] = feature['stalk-color-below-ring'].map(stalkcolorbelowring_mapping)"
   ]
  },
  {
   "cell_type": "code",
   "execution_count": 331,
   "metadata": {},
   "outputs": [
    {
     "data": {
      "image/png": "[encoded data removed]",
      "text/plain": [
       "<Figure size 576x288 with 1 Axes>"
      ]
     },
     "metadata": {
      "needs_background": "light"
     },
     "output_type": "display_data"
    }
   ],
   "source": [
    "bar_chart('veil-type')"
   ]
  },
  {
   "cell_type": "code",
   "execution_count": 332,
   "metadata": {},
   "outputs": [],
   "source": [
    "veiltype_mapping = {\"p\":1}\n",
    "for feature in data:\n",
    "    feature['veil-type'] = feature['veil-type'].map(veiltype_mapping)"
   ]
  },
  {
   "cell_type": "code",
   "execution_count": 333,
   "metadata": {},
   "outputs": [
    {
     "data": {
      "image/png": "[encoded data removed]",
      "text/plain": [
       "<Figure size 576x288 with 1 Axes>"
      ]
     },
     "metadata": {
      "needs_background": "light"
     },
     "output_type": "display_data"
    }
   ],
   "source": [
    "bar_chart('veil-color')"
   ]
  },
  {
   "cell_type": "code",
   "execution_count": 334,
   "metadata": {},
   "outputs": [],
   "source": [
    "veilcolor_mapping = {\"w\":5,\"y\":0.1,\"o\":0.1,\"n\":0.1}\n",
    "for feature in data:\n",
    "    feature['veil-color'] = feature['veil-color'].map(veilcolor_mapping)"
   ]
  },
  {
   "cell_type": "code",
   "execution_count": 335,
   "metadata": {},
   "outputs": [
    {
     "data": {
      "image/png": "[encoded data removed]",
      "text/plain": [
       "<Figure size 576x288 with 1 Axes>"
      ]
     },
     "metadata": {
      "needs_background": "light"
     },
     "output_type": "display_data"
    }
   ],
   "source": [
    "bar_chart('ring-number')"
   ]
  },
  {
   "cell_type": "code",
   "execution_count": 336,
   "metadata": {},
   "outputs": [],
   "source": [
    "ringnumber_mapping = {\"o\":5,\"t\":1,\"n\":0.1}\n",
    "for feature in data:\n",
    "    feature['ring-number'] = feature['ring-number'].map(ringnumber_mapping)"
   ]
  },
  {
   "cell_type": "code",
   "execution_count": 337,
   "metadata": {},
   "outputs": [
    {
     "data": {
      "image/png": "[encoded data removed]",
      "text/plain": [
       "<Figure size 576x288 with 1 Axes>"
      ]
     },
     "metadata": {
      "needs_background": "light"
     },
     "output_type": "display_data"
    }
   ],
   "source": [
    "bar_chart('ring-type')"
   ]
  },
  {
   "cell_type": "code",
   "execution_count": 338,
   "metadata": {},
   "outputs": [],
   "source": [
    "ringtype_mapping = {\"e\":2,\"l\":1,\"p\":3,\"n\":0.1,\"f\":0.1}\n",
    "for feature in data:\n",
    "    feature['ring-type'] = feature['ring-type'].map(ringtype_mapping)"
   ]
  },
  {
   "cell_type": "code",
   "execution_count": 339,
   "metadata": {},
   "outputs": [
    {
     "data": {
      "image/png": "[encoded data removed]",
      "text/plain": [
       "<Figure size 576x288 with 1 Axes>"
      ]
     },
     "metadata": {
      "needs_background": "light"
     },
     "output_type": "display_data"
    }
   ],
   "source": [
    "bar_chart('spore-print-color')"
   ]
  },
  {
   "cell_type": "code",
   "execution_count": 340,
   "metadata": {},
   "outputs": [],
   "source": [
    "sporeprintcolor_mapping = {\"w\":2,\"h\":2,\"k\":2,\"n\":2,\"r\":0.1,\"u\":0.1,\"b\":0.1,\"o\":0.1,\"y\":0.1}\n",
    "for feature in data:\n",
    "    feature['spore-print-color'] = feature['spore-print-color'].map(sporeprintcolor_mapping)"
   ]
  },
  {
   "cell_type": "code",
   "execution_count": 341,
   "metadata": {},
   "outputs": [
    {
     "data": {
      "image/png": "[encoded data removed]",
      "text/plain": [
       "<Figure size 576x288 with 1 Axes>"
      ]
     },
     "metadata": {
      "needs_background": "light"
     },
     "output_type": "display_data"
    }
   ],
   "source": [
    "bar_chart('population')"
   ]
  },
  {
   "cell_type": "code",
   "execution_count": 342,
   "metadata": {},
   "outputs": [],
   "source": [
    "population_mapping = {\"v\":2,\"y\":2,\"s\":2,\"c\":1,\"n\":1,\"a\":1}\n",
    "for feature in data:\n",
    "    feature['population'] = feature['population'].map(population_mapping)"
   ]
  },
  {
   "cell_type": "code",
   "execution_count": 343,
   "metadata": {},
   "outputs": [
    {
     "data": {
      "image/png": "[encoded data removed]",
      "text/plain": [
       "<Figure size 576x288 with 1 Axes>"
      ]
     },
     "metadata": {
      "needs_background": "light"
     },
     "output_type": "display_data"
    }
   ],
   "source": [
    "bar_chart('habitat')"
   ]
  },
  {
   "cell_type": "code",
   "execution_count": 344,
   "metadata": {},
   "outputs": [],
   "source": [
    "habitat_mapping = {\"d\":2,\"p\":1,\"g\":2,\"l\":1,\"u\":0.5,\"m\":0.5,\"w\":0.1}\n",
    "for feature in data:\n",
    "    feature['habitat'] = feature['habitat'].map(habitat_mapping)"
   ]
  },
  {
   "cell_type": "code",
   "execution_count": 345,
   "metadata": {},
   "outputs": [
    {
     "data": {
      "text/plain": [
       "[      class  cap-shape  cap-surface  cap-color  bruises  odor  \\\n",
       " 0         0        3.0          2.0        2.0        4   1.0   \n",
       " 1         1        3.0          2.0        1.0        4   1.0   \n",
       " 2         1        1.0          2.0        1.0        4   1.0   \n",
       " 3         0        3.0          3.0        1.0        4   1.0   \n",
       " 4         1        3.0          2.0        2.0        4   4.0   \n",
       " ...     ...        ...          ...        ...      ...   ...   \n",
       " 8119      1        1.0          2.0        2.0        4   4.0   \n",
       " 8120      1        3.0          2.0        2.0        4   4.0   \n",
       " 8121      1        3.0          2.0        2.0        4   4.0   \n",
       " 8122      0        1.0          3.0        2.0        4   2.0   \n",
       " 8123      1        3.0          2.0        2.0        4   4.0   \n",
       " \n",
       "       gill-attachment  gill-spacing  gill-size  gill-color  ...  \\\n",
       " 0                 5.0             4          2         1.0  ...   \n",
       " 1                 5.0             4          4         1.0  ...   \n",
       " 2                 5.0             4          4         2.0  ...   \n",
       " 3                 5.0             4          2         2.0  ...   \n",
       " 4                 5.0             2          4         1.0  ...   \n",
       " ...               ...           ...        ...         ...  ...   \n",
       " 8119              0.5             4          4         0.1  ...   \n",
       " 8120              0.5             4          4         0.1  ...   \n",
       " 8121              0.5             4          4         2.0  ...   \n",
       " 8122              5.0             4          2         2.0  ...   \n",
       " 8123              0.5             4          4         0.1  ...   \n",
       " \n",
       "       stalk-surface-below-ring  stalk-color-above-ring  \\\n",
       " 0                          3.0                     3.0   \n",
       " 1                          3.0                     3.0   \n",
       " 2                          3.0                     3.0   \n",
       " 3                          3.0                     3.0   \n",
       " 4                          3.0                     3.0   \n",
       " ...                        ...                     ...   \n",
       " 8119                       3.0                     0.5   \n",
       " 8120                       3.0                     0.5   \n",
       " 8121                       3.0                     0.5   \n",
       " 8122                       3.0                     3.0   \n",
       " 8123                       3.0                     0.5   \n",
       " \n",
       "       stalk-color-below-ring  veil-type  veil-color  ring-number  ring-type  \\\n",
       " 0                        3.0          1         5.0          5.0        3.0   \n",
       " 1                        3.0          1         5.0          5.0        3.0   \n",
       " 2                        3.0          1         5.0          5.0        3.0   \n",
       " 3                        3.0          1         5.0          5.0        3.0   \n",
       " 4                        3.0          1         5.0          5.0        2.0   \n",
       " ...                      ...        ...         ...          ...        ...   \n",
       " 8119                     0.5          1         0.1          5.0        3.0   \n",
       " 8120                     0.5          1         0.1          5.0        3.0   \n",
       " 8121                     0.5          1         0.1          5.0        3.0   \n",
       " 8122                     3.0          1         5.0          5.0        2.0   \n",
       " 8123                     0.5          1         0.1          5.0        3.0   \n",
       " \n",
       "       spore-print-color  population  habitat  \n",
       " 0                   2.0           2      0.5  \n",
       " 1                   2.0           1      2.0  \n",
       " 2                   2.0           1      0.5  \n",
       " 3                   2.0           2      0.5  \n",
       " 4                   2.0           1      2.0  \n",
       " ...                 ...         ...      ...  \n",
       " 8119                0.1           1      1.0  \n",
       " 8120                0.1           2      1.0  \n",
       " 8121                0.1           1      1.0  \n",
       " 8122                2.0           2      1.0  \n",
       " 8123                0.1           1      1.0  \n",
       " \n",
       " [8124 rows x 23 columns]]"
      ]
     },
     "execution_count": 345,
     "metadata": {},
     "output_type": "execute_result"
    }
   ],
   "source": [
    "data"
   ]
  },
  {
   "cell_type": "code",
   "execution_count": 346,
   "metadata": {},
   "outputs": [
    {
     "data": {
      "text/html": [
       "<div>\n",
       "<style scoped>\n",
       "    .dataframe tbody tr th:only-of-type {\n",
       "        vertical-align: middle;\n",
       "    }\n",
       "\n",
       "    .dataframe tbody tr th {\n",
       "        vertical-align: top;\n",
       "    }\n",
       "\n",
       "    .dataframe thead th {\n",
       "        text-align: right;\n",
       "    }\n",
       "</style>\n",
       "<table border=\"1\" class=\"dataframe\">\n",
       "  <thead>\n",
       "    <tr style=\"text-align: right;\">\n",
       "      <th></th>\n",
       "      <th>class</th>\n",
       "      <th>cap-shape</th>\n",
       "      <th>cap-surface</th>\n",
       "      <th>cap-color</th>\n",
       "      <th>bruises</th>\n",
       "      <th>odor</th>\n",
       "      <th>gill-attachment</th>\n",
       "      <th>gill-spacing</th>\n",
       "      <th>gill-size</th>\n",
       "      <th>gill-color</th>\n",
       "      <th>...</th>\n",
       "      <th>stalk-surface-below-ring</th>\n",
       "      <th>stalk-color-above-ring</th>\n",
       "      <th>stalk-color-below-ring</th>\n",
       "      <th>veil-type</th>\n",
       "      <th>veil-color</th>\n",
       "      <th>ring-number</th>\n",
       "      <th>ring-type</th>\n",
       "      <th>spore-print-color</th>\n",
       "      <th>population</th>\n",
       "      <th>habitat</th>\n",
       "    </tr>\n",
       "  </thead>\n",
       "  <tbody>\n",
       "    <tr>\n",
       "      <th>0</th>\n",
       "      <td>0</td>\n",
       "      <td>3.0</td>\n",
       "      <td>2.0</td>\n",
       "      <td>2.0</td>\n",
       "      <td>4</td>\n",
       "      <td>1.0</td>\n",
       "      <td>5.0</td>\n",
       "      <td>4</td>\n",
       "      <td>2</td>\n",
       "      <td>1.0</td>\n",
       "      <td>...</td>\n",
       "      <td>3.0</td>\n",
       "      <td>3.0</td>\n",
       "      <td>3.0</td>\n",
       "      <td>1</td>\n",
       "      <td>5.0</td>\n",
       "      <td>5.0</td>\n",
       "      <td>3.0</td>\n",
       "      <td>2.0</td>\n",
       "      <td>2</td>\n",
       "      <td>0.5</td>\n",
       "    </tr>\n",
       "    <tr>\n",
       "      <th>1</th>\n",
       "      <td>1</td>\n",
       "      <td>3.0</td>\n",
       "      <td>2.0</td>\n",
       "      <td>1.0</td>\n",
       "      <td>4</td>\n",
       "      <td>1.0</td>\n",
       "      <td>5.0</td>\n",
       "      <td>4</td>\n",
       "      <td>4</td>\n",
       "      <td>1.0</td>\n",
       "      <td>...</td>\n",
       "      <td>3.0</td>\n",
       "      <td>3.0</td>\n",
       "      <td>3.0</td>\n",
       "      <td>1</td>\n",
       "      <td>5.0</td>\n",
       "      <td>5.0</td>\n",
       "      <td>3.0</td>\n",
       "      <td>2.0</td>\n",
       "      <td>1</td>\n",
       "      <td>2.0</td>\n",
       "    </tr>\n",
       "    <tr>\n",
       "      <th>2</th>\n",
       "      <td>1</td>\n",
       "      <td>1.0</td>\n",
       "      <td>2.0</td>\n",
       "      <td>1.0</td>\n",
       "      <td>4</td>\n",
       "      <td>1.0</td>\n",
       "      <td>5.0</td>\n",
       "      <td>4</td>\n",
       "      <td>4</td>\n",
       "      <td>2.0</td>\n",
       "      <td>...</td>\n",
       "      <td>3.0</td>\n",
       "      <td>3.0</td>\n",
       "      <td>3.0</td>\n",
       "      <td>1</td>\n",
       "      <td>5.0</td>\n",
       "      <td>5.0</td>\n",
       "      <td>3.0</td>\n",
       "      <td>2.0</td>\n",
       "      <td>1</td>\n",
       "      <td>0.5</td>\n",
       "    </tr>\n",
       "    <tr>\n",
       "      <th>3</th>\n",
       "      <td>0</td>\n",
       "      <td>3.0</td>\n",
       "      <td>3.0</td>\n",
       "      <td>1.0</td>\n",
       "      <td>4</td>\n",
       "      <td>1.0</td>\n",
       "      <td>5.0</td>\n",
       "      <td>4</td>\n",
       "      <td>2</td>\n",
       "      <td>2.0</td>\n",
       "      <td>...</td>\n",
       "      <td>3.0</td>\n",
       "      <td>3.0</td>\n",
       "      <td>3.0</td>\n",
       "      <td>1</td>\n",
       "      <td>5.0</td>\n",
       "      <td>5.0</td>\n",
       "      <td>3.0</td>\n",
       "      <td>2.0</td>\n",
       "      <td>2</td>\n",
       "      <td>0.5</td>\n",
       "    </tr>\n",
       "    <tr>\n",
       "      <th>4</th>\n",
       "      <td>1</td>\n",
       "      <td>3.0</td>\n",
       "      <td>2.0</td>\n",
       "      <td>2.0</td>\n",
       "      <td>4</td>\n",
       "      <td>4.0</td>\n",
       "      <td>5.0</td>\n",
       "      <td>2</td>\n",
       "      <td>4</td>\n",
       "      <td>1.0</td>\n",
       "      <td>...</td>\n",
       "      <td>3.0</td>\n",
       "      <td>3.0</td>\n",
       "      <td>3.0</td>\n",
       "      <td>1</td>\n",
       "      <td>5.0</td>\n",
       "      <td>5.0</td>\n",
       "      <td>2.0</td>\n",
       "      <td>2.0</td>\n",
       "      <td>1</td>\n",
       "      <td>2.0</td>\n",
       "    </tr>\n",
       "    <tr>\n",
       "      <th>...</th>\n",
       "      <td>...</td>\n",
       "      <td>...</td>\n",
       "      <td>...</td>\n",
       "      <td>...</td>\n",
       "      <td>...</td>\n",
       "      <td>...</td>\n",
       "      <td>...</td>\n",
       "      <td>...</td>\n",
       "      <td>...</td>\n",
       "      <td>...</td>\n",
       "      <td>...</td>\n",
       "      <td>...</td>\n",
       "      <td>...</td>\n",
       "      <td>...</td>\n",
       "      <td>...</td>\n",
       "      <td>...</td>\n",
       "      <td>...</td>\n",
       "      <td>...</td>\n",
       "      <td>...</td>\n",
       "      <td>...</td>\n",
       "      <td>...</td>\n",
       "    </tr>\n",
       "    <tr>\n",
       "      <th>8119</th>\n",
       "      <td>1</td>\n",
       "      <td>1.0</td>\n",
       "      <td>2.0</td>\n",
       "      <td>2.0</td>\n",
       "      <td>4</td>\n",
       "      <td>4.0</td>\n",
       "      <td>0.5</td>\n",
       "      <td>4</td>\n",
       "      <td>4</td>\n",
       "      <td>0.1</td>\n",
       "      <td>...</td>\n",
       "      <td>3.0</td>\n",
       "      <td>0.5</td>\n",
       "      <td>0.5</td>\n",
       "      <td>1</td>\n",
       "      <td>0.1</td>\n",
       "      <td>5.0</td>\n",
       "      <td>3.0</td>\n",
       "      <td>0.1</td>\n",
       "      <td>1</td>\n",
       "      <td>1.0</td>\n",
       "    </tr>\n",
       "    <tr>\n",
       "      <th>8120</th>\n",
       "      <td>1</td>\n",
       "      <td>3.0</td>\n",
       "      <td>2.0</td>\n",
       "      <td>2.0</td>\n",
       "      <td>4</td>\n",
       "      <td>4.0</td>\n",
       "      <td>0.5</td>\n",
       "      <td>4</td>\n",
       "      <td>4</td>\n",
       "      <td>0.1</td>\n",
       "      <td>...</td>\n",
       "      <td>3.0</td>\n",
       "      <td>0.5</td>\n",
       "      <td>0.5</td>\n",
       "      <td>1</td>\n",
       "      <td>0.1</td>\n",
       "      <td>5.0</td>\n",
       "      <td>3.0</td>\n",
       "      <td>0.1</td>\n",
       "      <td>2</td>\n",
       "      <td>1.0</td>\n",
       "    </tr>\n",
       "    <tr>\n",
       "      <th>8121</th>\n",
       "      <td>1</td>\n",
       "      <td>3.0</td>\n",
       "      <td>2.0</td>\n",
       "      <td>2.0</td>\n",
       "      <td>4</td>\n",
       "      <td>4.0</td>\n",
       "      <td>0.5</td>\n",
       "      <td>4</td>\n",
       "      <td>4</td>\n",
       "      <td>2.0</td>\n",
       "      <td>...</td>\n",
       "      <td>3.0</td>\n",
       "      <td>0.5</td>\n",
       "      <td>0.5</td>\n",
       "      <td>1</td>\n",
       "      <td>0.1</td>\n",
       "      <td>5.0</td>\n",
       "      <td>3.0</td>\n",
       "      <td>0.1</td>\n",
       "      <td>1</td>\n",
       "      <td>1.0</td>\n",
       "    </tr>\n",
       "    <tr>\n",
       "      <th>8122</th>\n",
       "      <td>0</td>\n",
       "      <td>1.0</td>\n",
       "      <td>3.0</td>\n",
       "      <td>2.0</td>\n",
       "      <td>4</td>\n",
       "      <td>2.0</td>\n",
       "      <td>5.0</td>\n",
       "      <td>4</td>\n",
       "      <td>2</td>\n",
       "      <td>2.0</td>\n",
       "      <td>...</td>\n",
       "      <td>3.0</td>\n",
       "      <td>3.0</td>\n",
       "      <td>3.0</td>\n",
       "      <td>1</td>\n",
       "      <td>5.0</td>\n",
       "      <td>5.0</td>\n",
       "      <td>2.0</td>\n",
       "      <td>2.0</td>\n",
       "      <td>2</td>\n",
       "      <td>1.0</td>\n",
       "    </tr>\n",
       "    <tr>\n",
       "      <th>8123</th>\n",
       "      <td>1</td>\n",
       "      <td>3.0</td>\n",
       "      <td>2.0</td>\n",
       "      <td>2.0</td>\n",
       "      <td>4</td>\n",
       "      <td>4.0</td>\n",
       "      <td>0.5</td>\n",
       "      <td>4</td>\n",
       "      <td>4</td>\n",
       "      <td>0.1</td>\n",
       "      <td>...</td>\n",
       "      <td>3.0</td>\n",
       "      <td>0.5</td>\n",
       "      <td>0.5</td>\n",
       "      <td>1</td>\n",
       "      <td>0.1</td>\n",
       "      <td>5.0</td>\n",
       "      <td>3.0</td>\n",
       "      <td>0.1</td>\n",
       "      <td>1</td>\n",
       "      <td>1.0</td>\n",
       "    </tr>\n",
       "  </tbody>\n",
       "</table>\n",
       "<p>8124 rows × 23 columns</p>\n",
       "</div>"
      ],
      "text/plain": [
       "      class  cap-shape  cap-surface  cap-color  bruises  odor  \\\n",
       "0         0        3.0          2.0        2.0        4   1.0   \n",
       "1         1        3.0          2.0        1.0        4   1.0   \n",
       "2         1        1.0          2.0        1.0        4   1.0   \n",
       "3         0        3.0          3.0        1.0        4   1.0   \n",
       "4         1        3.0          2.0        2.0        4   4.0   \n",
       "...     ...        ...          ...        ...      ...   ...   \n",
       "8119      1        1.0          2.0        2.0        4   4.0   \n",
       "8120      1        3.0          2.0        2.0        4   4.0   \n",
       "8121      1        3.0          2.0        2.0        4   4.0   \n",
       "8122      0        1.0          3.0        2.0        4   2.0   \n",
       "8123      1        3.0          2.0        2.0        4   4.0   \n",
       "\n",
       "      gill-attachment  gill-spacing  gill-size  gill-color  ...  \\\n",
       "0                 5.0             4          2         1.0  ...   \n",
       "1                 5.0             4          4         1.0  ...   \n",
       "2                 5.0             4          4         2.0  ...   \n",
       "3                 5.0             4          2         2.0  ...   \n",
       "4                 5.0             2          4         1.0  ...   \n",
       "...               ...           ...        ...         ...  ...   \n",
       "8119              0.5             4          4         0.1  ...   \n",
       "8120              0.5             4          4         0.1  ...   \n",
       "8121              0.5             4          4         2.0  ...   \n",
       "8122              5.0             4          2         2.0  ...   \n",
       "8123              0.5             4          4         0.1  ...   \n",
       "\n",
       "      stalk-surface-below-ring  stalk-color-above-ring  \\\n",
       "0                          3.0                     3.0   \n",
       "1                          3.0                     3.0   \n",
       "2                          3.0                     3.0   \n",
       "3                          3.0                     3.0   \n",
       "4                          3.0                     3.0   \n",
       "...                        ...                     ...   \n",
       "8119                       3.0                     0.5   \n",
       "8120                       3.0                     0.5   \n",
       "8121                       3.0                     0.5   \n",
       "8122                       3.0                     3.0   \n",
       "8123                       3.0                     0.5   \n",
       "\n",
       "      stalk-color-below-ring  veil-type  veil-color  ring-number  ring-type  \\\n",
       "0                        3.0          1         5.0          5.0        3.0   \n",
       "1                        3.0          1         5.0          5.0        3.0   \n",
       "2                        3.0          1         5.0          5.0        3.0   \n",
       "3                        3.0          1         5.0          5.0        3.0   \n",
       "4                        3.0          1         5.0          5.0        2.0   \n",
       "...                      ...        ...         ...          ...        ...   \n",
       "8119                     0.5          1         0.1          5.0        3.0   \n",
       "8120                     0.5          1         0.1          5.0        3.0   \n",
       "8121                     0.5          1         0.1          5.0        3.0   \n",
       "8122                     3.0          1         5.0          5.0        2.0   \n",
       "8123                     0.5          1         0.1          5.0        3.0   \n",
       "\n",
       "      spore-print-color  population  habitat  \n",
       "0                   2.0           2      0.5  \n",
       "1                   2.0           1      2.0  \n",
       "2                   2.0           1      0.5  \n",
       "3                   2.0           2      0.5  \n",
       "4                   2.0           1      2.0  \n",
       "...                 ...         ...      ...  \n",
       "8119                0.1           1      1.0  \n",
       "8120                0.1           2      1.0  \n",
       "8121                0.1           1      1.0  \n",
       "8122                2.0           2      1.0  \n",
       "8123                0.1           1      1.0  \n",
       "\n",
       "[8124 rows x 23 columns]"
      ]
     },
     "execution_count": 346,
     "metadata": {},
     "output_type": "execute_result"
    }
   ],
   "source": [
    "dataset"
   ]
  },
  {
   "cell_type": "code",
   "execution_count": 206,
   "metadata": {},
   "outputs": [],
   "source": [
    "#from sklearn.compose import ColumnTransformer\n",
    "#from sklearn.preprocessing import OneHotEncoder\n",
    "#onehotencoder = OneHotEncoder()\n",
    "#x = onehotencoder.fit_transform(x).toarray()"
   ]
  },
  {
   "cell_type": "code",
   "execution_count": 379,
   "metadata": {},
   "outputs": [
    {
     "data": {
      "text/plain": [
       "array([[3. , 2. , 2. , ..., 2. , 2. , 0.5],\n",
       "       [3. , 2. , 1. , ..., 2. , 1. , 2. ],\n",
       "       [1. , 2. , 1. , ..., 2. , 1. , 0.5],\n",
       "       ...,\n",
       "       [3. , 2. , 2. , ..., 0.1, 1. , 1. ],\n",
       "       [1. , 3. , 2. , ..., 2. , 2. , 1. ],\n",
       "       [3. , 2. , 2. , ..., 0.1, 1. , 1. ]])"
      ]
     },
     "execution_count": 379,
     "metadata": {},
     "output_type": "execute_result"
    }
   ],
   "source": [
    "x_std=dataset.iloc[:,1:].values\n",
    "x_std"
   ]
  },
  {
   "cell_type": "code",
   "execution_count": 380,
   "metadata": {},
   "outputs": [],
   "source": [
    "from sklearn.model_selection import train_test_split\n",
    "x_train, x_test, y_train, y_test = train_test_split(x_std, y, test_size = 0.2, random_state=0)"
   ]
  },
  {
   "cell_type": "code",
   "execution_count": 381,
   "metadata": {},
   "outputs": [
    {
     "data": {
      "text/plain": [
       "((6499, 22), (6499,), (1625, 22), (1625,))"
      ]
     },
     "execution_count": 381,
     "metadata": {},
     "output_type": "execute_result"
    }
   ],
   "source": [
    "x_train.shape, y_train.shape, x_test.shape, y_test.shape"
   ]
  },
  {
   "cell_type": "code",
   "execution_count": 382,
   "metadata": {},
   "outputs": [],
   "source": [
    "from tensorflow.keras.models import Sequential\n",
    "from tensorflow.keras.layers import Flatten,Dense\n",
    "from tensorflow.keras.optimizers import SGD, Adam\n",
    "from tensorflow.keras.losses import binary_crossentropy\n",
    "import matplotlib.pyplot as plt"
   ]
  },
  {
   "cell_type": "code",
   "execution_count": 383,
   "metadata": {},
   "outputs": [],
   "source": [
    "model=Sequential()\n",
    "model.add(Dense(1,input_shape=(x_train.shape[1],),activation='sigmoid'))\n",
    "model.compile(optimizer=SGD(learning_rate=0.01),loss='binary_crossentropy',metrics=['accuracy'])"
   ]
  },
  {
   "cell_type": "code",
   "execution_count": 384,
   "metadata": {},
   "outputs": [
    {
     "name": "stdout",
     "output_type": "stream",
     "text": [
      "Model: \"sequential_1\"\n",
      "_________________________________________________________________\n",
      "Layer (type)                 Output Shape              Param #   \n",
      "=================================================================\n",
      "dense_1 (Dense)              (None, 1)                 23        \n",
      "=================================================================\n",
      "Total params: 23\n",
      "Trainable params: 23\n",
      "Non-trainable params: 0\n",
      "_________________________________________________________________\n"
     ]
    }
   ],
   "source": [
    "model.summary()"
   ]
  },
  {
   "cell_type": "code",
   "execution_count": 385,
   "metadata": {},
   "outputs": [
    {
     "name": "stdout",
     "output_type": "stream",
     "text": [
      "Train on 5199 samples, validate on 1300 samples\n",
      "Epoch 1/100\n",
      "5199/5199 - 1s - loss: 0.6866 - accuracy: 0.6097 - val_loss: 0.4956 - val_accuracy: 0.8208\n",
      "Epoch 2/100\n",
      "5199/5199 - 0s - loss: 0.4343 - accuracy: 0.8684 - val_loss: 0.3879 - val_accuracy: 0.9008\n",
      "Epoch 3/100\n",
      "5199/5199 - 0s - loss: 0.3647 - accuracy: 0.9069 - val_loss: 0.3430 - val_accuracy: 0.9108\n",
      "Epoch 4/100\n",
      "5199/5199 - 0s - loss: 0.3292 - accuracy: 0.9138 - val_loss: 0.3162 - val_accuracy: 0.9115\n",
      "Epoch 5/100\n",
      "5199/5199 - 0s - loss: 0.3080 - accuracy: 0.9152 - val_loss: 0.3035 - val_accuracy: 0.9154\n",
      "Epoch 6/100\n",
      "5199/5199 - 0s - loss: 0.2930 - accuracy: 0.9163 - val_loss: 0.2899 - val_accuracy: 0.9162\n",
      "Epoch 7/100\n",
      "5199/5199 - 0s - loss: 0.2813 - accuracy: 0.9190 - val_loss: 0.2907 - val_accuracy: 0.9192\n",
      "Epoch 8/100\n",
      "5199/5199 - 0s - loss: 0.2724 - accuracy: 0.9196 - val_loss: 0.2725 - val_accuracy: 0.9162\n",
      "Epoch 9/100\n",
      "5199/5199 - 0s - loss: 0.2646 - accuracy: 0.9200 - val_loss: 0.2639 - val_accuracy: 0.9162\n",
      "Epoch 10/100\n",
      "5199/5199 - 0s - loss: 0.2587 - accuracy: 0.9206 - val_loss: 0.2599 - val_accuracy: 0.9162\n",
      "Epoch 11/100\n",
      "5199/5199 - 0s - loss: 0.2531 - accuracy: 0.9217 - val_loss: 0.2528 - val_accuracy: 0.9162\n",
      "Epoch 12/100\n",
      "5199/5199 - 0s - loss: 0.2483 - accuracy: 0.9208 - val_loss: 0.2483 - val_accuracy: 0.9162\n",
      "Epoch 13/100\n",
      "5199/5199 - 0s - loss: 0.2436 - accuracy: 0.9204 - val_loss: 0.2539 - val_accuracy: 0.9023\n",
      "Epoch 14/100\n",
      "5199/5199 - 0s - loss: 0.2398 - accuracy: 0.9200 - val_loss: 0.2472 - val_accuracy: 0.9146\n",
      "Epoch 15/100\n",
      "5199/5199 - 0s - loss: 0.2365 - accuracy: 0.9202 - val_loss: 0.2369 - val_accuracy: 0.9154\n",
      "Epoch 16/100\n",
      "5199/5199 - 0s - loss: 0.2332 - accuracy: 0.9209 - val_loss: 0.2348 - val_accuracy: 0.9115\n",
      "Epoch 17/100\n",
      "5199/5199 - 0s - loss: 0.2299 - accuracy: 0.9204 - val_loss: 0.2331 - val_accuracy: 0.9154\n",
      "Epoch 18/100\n",
      "5199/5199 - 0s - loss: 0.2270 - accuracy: 0.9211 - val_loss: 0.2270 - val_accuracy: 0.9154\n",
      "Epoch 19/100\n",
      "5199/5199 - 0s - loss: 0.2250 - accuracy: 0.9206 - val_loss: 0.2243 - val_accuracy: 0.9154\n",
      "Epoch 20/100\n",
      "5199/5199 - 0s - loss: 0.2224 - accuracy: 0.9208 - val_loss: 0.2233 - val_accuracy: 0.9154\n",
      "Epoch 21/100\n",
      "5199/5199 - 0s - loss: 0.2198 - accuracy: 0.9217 - val_loss: 0.2205 - val_accuracy: 0.9154\n",
      "Epoch 22/100\n",
      "5199/5199 - 0s - loss: 0.2177 - accuracy: 0.9213 - val_loss: 0.2216 - val_accuracy: 0.9154\n",
      "Epoch 23/100\n",
      "5199/5199 - 0s - loss: 0.2159 - accuracy: 0.9211 - val_loss: 0.2170 - val_accuracy: 0.9154\n",
      "Epoch 24/100\n",
      "5199/5199 - 0s - loss: 0.2141 - accuracy: 0.9221 - val_loss: 0.2128 - val_accuracy: 0.9154\n",
      "Epoch 25/100\n",
      "5199/5199 - 0s - loss: 0.2123 - accuracy: 0.9213 - val_loss: 0.2172 - val_accuracy: 0.9154\n",
      "Epoch 26/100\n",
      "5199/5199 - 0s - loss: 0.2105 - accuracy: 0.9225 - val_loss: 0.2127 - val_accuracy: 0.9154\n",
      "Epoch 27/100\n",
      "5199/5199 - 0s - loss: 0.2093 - accuracy: 0.9217 - val_loss: 0.2075 - val_accuracy: 0.9162\n",
      "Epoch 28/100\n",
      "5199/5199 - 0s - loss: 0.2069 - accuracy: 0.9209 - val_loss: 0.2057 - val_accuracy: 0.9162\n",
      "Epoch 29/100\n",
      "5199/5199 - 0s - loss: 0.2061 - accuracy: 0.9231 - val_loss: 0.2046 - val_accuracy: 0.9154\n",
      "Epoch 30/100\n",
      "5199/5199 - 0s - loss: 0.2047 - accuracy: 0.9231 - val_loss: 0.2083 - val_accuracy: 0.9154\n",
      "Epoch 31/100\n",
      "5199/5199 - 0s - loss: 0.2034 - accuracy: 0.9234 - val_loss: 0.2012 - val_accuracy: 0.9185\n",
      "Epoch 32/100\n",
      "5199/5199 - 0s - loss: 0.2021 - accuracy: 0.9236 - val_loss: 0.2001 - val_accuracy: 0.9185\n",
      "Epoch 33/100\n",
      "5199/5199 - 0s - loss: 0.2010 - accuracy: 0.9238 - val_loss: 0.1992 - val_accuracy: 0.9185\n",
      "Epoch 34/100\n",
      "5199/5199 - 0s - loss: 0.1995 - accuracy: 0.9236 - val_loss: 0.1969 - val_accuracy: 0.9238\n",
      "Epoch 35/100\n",
      "5199/5199 - 0s - loss: 0.1986 - accuracy: 0.9234 - val_loss: 0.1992 - val_accuracy: 0.9154\n",
      "Epoch 36/100\n",
      "5199/5199 - 0s - loss: 0.1978 - accuracy: 0.9242 - val_loss: 0.1965 - val_accuracy: 0.9192\n",
      "Epoch 37/100\n",
      "5199/5199 - 0s - loss: 0.1966 - accuracy: 0.9238 - val_loss: 0.1936 - val_accuracy: 0.9254\n",
      "Epoch 38/100\n",
      "5199/5199 - 0s - loss: 0.1958 - accuracy: 0.9234 - val_loss: 0.1924 - val_accuracy: 0.9262\n",
      "Epoch 39/100\n",
      "5199/5199 - 0s - loss: 0.1946 - accuracy: 0.9263 - val_loss: 0.1955 - val_accuracy: 0.9185\n",
      "Epoch 40/100\n",
      "5199/5199 - 0s - loss: 0.1937 - accuracy: 0.9244 - val_loss: 0.1920 - val_accuracy: 0.9338\n",
      "Epoch 41/100\n",
      "5199/5199 - 0s - loss: 0.1925 - accuracy: 0.9256 - val_loss: 0.1897 - val_accuracy: 0.9246\n",
      "Epoch 42/100\n",
      "5199/5199 - 0s - loss: 0.1916 - accuracy: 0.9273 - val_loss: 0.1912 - val_accuracy: 0.9223\n",
      "Epoch 43/100\n",
      "5199/5199 - 0s - loss: 0.1914 - accuracy: 0.9258 - val_loss: 0.1880 - val_accuracy: 0.9323\n",
      "Epoch 44/100\n",
      "5199/5199 - 0s - loss: 0.1903 - accuracy: 0.9277 - val_loss: 0.1877 - val_accuracy: 0.9246\n",
      "Epoch 45/100\n",
      "5199/5199 - 0s - loss: 0.1899 - accuracy: 0.9267 - val_loss: 0.1868 - val_accuracy: 0.9315\n",
      "Epoch 46/100\n",
      "5199/5199 - 0s - loss: 0.1887 - accuracy: 0.9283 - val_loss: 0.1922 - val_accuracy: 0.9169\n",
      "Epoch 47/100\n",
      "5199/5199 - 0s - loss: 0.1885 - accuracy: 0.9267 - val_loss: 0.1871 - val_accuracy: 0.9231\n",
      "Epoch 48/100\n",
      "5199/5199 - 0s - loss: 0.1875 - accuracy: 0.9281 - val_loss: 0.1911 - val_accuracy: 0.9154\n",
      "Epoch 49/100\n",
      "5199/5199 - 0s - loss: 0.1868 - accuracy: 0.9286 - val_loss: 0.1836 - val_accuracy: 0.9308\n",
      "Epoch 50/100\n",
      "5199/5199 - 0s - loss: 0.1864 - accuracy: 0.9286 - val_loss: 0.1831 - val_accuracy: 0.9300\n",
      "Epoch 51/100\n",
      "5199/5199 - 0s - loss: 0.1861 - accuracy: 0.9286 - val_loss: 0.1824 - val_accuracy: 0.9308\n",
      "Epoch 52/100\n",
      "5199/5199 - 0s - loss: 0.1855 - accuracy: 0.9292 - val_loss: 0.1834 - val_accuracy: 0.9246\n",
      "Epoch 53/100\n",
      "5199/5199 - 0s - loss: 0.1849 - accuracy: 0.9309 - val_loss: 0.1836 - val_accuracy: 0.9254\n",
      "Epoch 54/100\n",
      "5199/5199 - 0s - loss: 0.1842 - accuracy: 0.9294 - val_loss: 0.1807 - val_accuracy: 0.9308\n",
      "Epoch 55/100\n",
      "5199/5199 - 0s - loss: 0.1833 - accuracy: 0.9325 - val_loss: 0.1801 - val_accuracy: 0.9346\n",
      "Epoch 56/100\n",
      "5199/5199 - 0s - loss: 0.1832 - accuracy: 0.9321 - val_loss: 0.1837 - val_accuracy: 0.9215\n",
      "Epoch 57/100\n",
      "5199/5199 - 0s - loss: 0.1832 - accuracy: 0.9308 - val_loss: 0.1793 - val_accuracy: 0.9308\n",
      "Epoch 58/100\n",
      "5199/5199 - 0s - loss: 0.1823 - accuracy: 0.9315 - val_loss: 0.1807 - val_accuracy: 0.9285\n",
      "Epoch 59/100\n",
      "5199/5199 - 0s - loss: 0.1822 - accuracy: 0.9313 - val_loss: 0.1793 - val_accuracy: 0.9292\n",
      "Epoch 60/100\n",
      "5199/5199 - 0s - loss: 0.1814 - accuracy: 0.9319 - val_loss: 0.1791 - val_accuracy: 0.9292\n",
      "Epoch 61/100\n",
      "5199/5199 - 0s - loss: 0.1812 - accuracy: 0.9327 - val_loss: 0.1773 - val_accuracy: 0.9362\n",
      "Epoch 62/100\n",
      "5199/5199 - 0s - loss: 0.1808 - accuracy: 0.9338 - val_loss: 0.1769 - val_accuracy: 0.9362\n",
      "Epoch 63/100\n",
      "5199/5199 - 0s - loss: 0.1802 - accuracy: 0.9329 - val_loss: 0.1765 - val_accuracy: 0.9415\n",
      "Epoch 64/100\n",
      "5199/5199 - 0s - loss: 0.1798 - accuracy: 0.9334 - val_loss: 0.1776 - val_accuracy: 0.9308\n",
      "Epoch 65/100\n",
      "5199/5199 - 0s - loss: 0.1795 - accuracy: 0.9334 - val_loss: 0.1790 - val_accuracy: 0.9231\n",
      "Epoch 66/100\n",
      "5199/5199 - 0s - loss: 0.1791 - accuracy: 0.9334 - val_loss: 0.1753 - val_accuracy: 0.9415\n",
      "Epoch 67/100\n",
      "5199/5199 - 0s - loss: 0.1793 - accuracy: 0.9352 - val_loss: 0.1751 - val_accuracy: 0.9423\n",
      "Epoch 68/100\n",
      "5199/5199 - 0s - loss: 0.1785 - accuracy: 0.9342 - val_loss: 0.1749 - val_accuracy: 0.9431\n",
      "Epoch 69/100\n",
      "5199/5199 - 0s - loss: 0.1785 - accuracy: 0.9354 - val_loss: 0.1744 - val_accuracy: 0.9392\n",
      "Epoch 70/100\n",
      "5199/5199 - 0s - loss: 0.1779 - accuracy: 0.9344 - val_loss: 0.1747 - val_accuracy: 0.9346\n",
      "Epoch 71/100\n",
      "5199/5199 - 0s - loss: 0.1768 - accuracy: 0.9329 - val_loss: 0.1744 - val_accuracy: 0.9431\n",
      "Epoch 72/100\n",
      "5199/5199 - 0s - loss: 0.1775 - accuracy: 0.9359 - val_loss: 0.1760 - val_accuracy: 0.9292\n",
      "Epoch 73/100\n",
      "5199/5199 - 0s - loss: 0.1769 - accuracy: 0.9361 - val_loss: 0.1730 - val_accuracy: 0.9423\n",
      "Epoch 74/100\n",
      "5199/5199 - 0s - loss: 0.1763 - accuracy: 0.9363 - val_loss: 0.1735 - val_accuracy: 0.9400\n",
      "Epoch 75/100\n",
      "5199/5199 - 0s - loss: 0.1762 - accuracy: 0.9350 - val_loss: 0.1738 - val_accuracy: 0.9446\n",
      "Epoch 76/100\n",
      "5199/5199 - 0s - loss: 0.1763 - accuracy: 0.9346 - val_loss: 0.1757 - val_accuracy: 0.9269\n",
      "Epoch 77/100\n",
      "5199/5199 - 0s - loss: 0.1756 - accuracy: 0.9371 - val_loss: 0.1722 - val_accuracy: 0.9431\n",
      "Epoch 78/100\n",
      "5199/5199 - 0s - loss: 0.1757 - accuracy: 0.9346 - val_loss: 0.1720 - val_accuracy: 0.9438\n",
      "Epoch 79/100\n",
      "5199/5199 - 0s - loss: 0.1750 - accuracy: 0.9373 - val_loss: 0.1735 - val_accuracy: 0.9454\n"
     ]
    },
    {
     "name": "stdout",
     "output_type": "stream",
     "text": [
      "Epoch 80/100\n",
      "5199/5199 - 0s - loss: 0.1747 - accuracy: 0.9373 - val_loss: 0.1712 - val_accuracy: 0.9408\n",
      "Epoch 81/100\n",
      "5199/5199 - 0s - loss: 0.1745 - accuracy: 0.9359 - val_loss: 0.1710 - val_accuracy: 0.9408\n",
      "Epoch 82/100\n",
      "5199/5199 - 0s - loss: 0.1742 - accuracy: 0.9354 - val_loss: 0.1744 - val_accuracy: 0.9277\n",
      "Epoch 83/100\n",
      "5199/5199 - 0s - loss: 0.1744 - accuracy: 0.9334 - val_loss: 0.1706 - val_accuracy: 0.9438\n",
      "Epoch 84/100\n",
      "5199/5199 - 0s - loss: 0.1738 - accuracy: 0.9375 - val_loss: 0.1704 - val_accuracy: 0.9408\n",
      "Epoch 85/100\n",
      "5199/5199 - 0s - loss: 0.1732 - accuracy: 0.9346 - val_loss: 0.1701 - val_accuracy: 0.9408\n",
      "Epoch 86/100\n",
      "5199/5199 - 0s - loss: 0.1734 - accuracy: 0.9377 - val_loss: 0.1712 - val_accuracy: 0.9392\n",
      "Epoch 87/100\n",
      "5199/5199 - 0s - loss: 0.1732 - accuracy: 0.9365 - val_loss: 0.1700 - val_accuracy: 0.9446\n",
      "Epoch 88/100\n",
      "5199/5199 - 0s - loss: 0.1726 - accuracy: 0.9365 - val_loss: 0.1786 - val_accuracy: 0.9185\n",
      "Epoch 89/100\n",
      "5199/5199 - 0s - loss: 0.1727 - accuracy: 0.9369 - val_loss: 0.1694 - val_accuracy: 0.9408\n",
      "Epoch 90/100\n",
      "5199/5199 - 0s - loss: 0.1725 - accuracy: 0.9373 - val_loss: 0.1693 - val_accuracy: 0.9431\n",
      "Epoch 91/100\n",
      "5199/5199 - 0s - loss: 0.1726 - accuracy: 0.9365 - val_loss: 0.1689 - val_accuracy: 0.9438\n",
      "Epoch 92/100\n",
      "5199/5199 - 0s - loss: 0.1724 - accuracy: 0.9377 - val_loss: 0.1687 - val_accuracy: 0.9438\n",
      "Epoch 93/100\n",
      "5199/5199 - 0s - loss: 0.1724 - accuracy: 0.9363 - val_loss: 0.1687 - val_accuracy: 0.9408\n",
      "Epoch 94/100\n",
      "5199/5199 - 0s - loss: 0.1718 - accuracy: 0.9361 - val_loss: 0.1732 - val_accuracy: 0.9500\n",
      "Epoch 95/100\n",
      "5199/5199 - 0s - loss: 0.1720 - accuracy: 0.9375 - val_loss: 0.1683 - val_accuracy: 0.9446\n",
      "Epoch 96/100\n",
      "5199/5199 - 0s - loss: 0.1714 - accuracy: 0.9365 - val_loss: 0.1681 - val_accuracy: 0.9415\n",
      "Epoch 97/100\n",
      "5199/5199 - 0s - loss: 0.1714 - accuracy: 0.9384 - val_loss: 0.1679 - val_accuracy: 0.9415\n",
      "Epoch 98/100\n",
      "5199/5199 - 0s - loss: 0.1710 - accuracy: 0.9381 - val_loss: 0.1696 - val_accuracy: 0.9369\n",
      "Epoch 99/100\n",
      "5199/5199 - 0s - loss: 0.1710 - accuracy: 0.9371 - val_loss: 0.1675 - val_accuracy: 0.9446\n",
      "Epoch 100/100\n",
      "5199/5199 - 0s - loss: 0.1713 - accuracy: 0.9363 - val_loss: 0.1674 - val_accuracy: 0.9415\n"
     ]
    }
   ],
   "source": [
    "hist=model.fit(x_train,y_train,epochs=100,validation_split=0.2,verbose=2)"
   ]
  },
  {
   "cell_type": "code",
   "execution_count": 386,
   "metadata": {},
   "outputs": [
    {
     "data": {
      "text/plain": [
       "array([[0.01706395],\n",
       "       [0.96523654],\n",
       "       [0.93150115],\n",
       "       ...,\n",
       "       [0.14687586],\n",
       "       [0.8840755 ],\n",
       "       [0.9614888 ]], dtype=float32)"
      ]
     },
     "execution_count": 386,
     "metadata": {},
     "output_type": "execute_result"
    }
   ],
   "source": [
    "model.predict(x_test)"
   ]
  },
  {
   "cell_type": "code",
   "execution_count": 387,
   "metadata": {},
   "outputs": [
    {
     "name": "stdout",
     "output_type": "stream",
     "text": [
      "\r",
      "1625/1 [==============================================================================================================================================================================================================================================================================================================================================================================================================================================================================================================================================================================================================================================================================================================================================================================================================================================================================================================================================================================================================================================================================================================================================================================================================================================================================================================================================================================================================================================================================================================================================================================================================================================================================================================================================================================================================================================================================================================================================================================================================================================================================================================================================================================================================================================================================================================================================================================================================================================================================================================================================================================================================================================================================================================================================================================================================================================================================================================================================================================================================================================================================================================================================================================================================================================================================================================================================================================================================================================================================================================================================================================================================================================================================================================================================================================================================================================================================================================================================================================================================================================================================================================================================================================================================================================================================================================================================================================================================================================================================================================================================================================================================================================================================================================================================================================================================================================================================================================================================================================================================================================================================================================================================================================================================================================================================================================================================================================================================================================================================================================================================================================================================================================================================================================================================================================================================================================================================================================================================================================================================================================================================================================================================================================================================================================================================================================================================================================================================================================================================================================================================================================================================================================================================================================================================================================================================================================================================================================================================================================================================================================================================================================================================================================================================================================================================================================================================================================================================================================================================================================================================================================================================================================================================================================================================================================================================================================================================================================================================================================================================================================================================================================================================================================================================================================================================================================================================================================================================================================================================================================================================================================================================================================================================================================================================================================================================================================================================================================================================================================================================================================================================================================================================================================================================================================================================================================================================================================================================================================================================================================================================================================================================================================================================================================================================================================================================================================================================================================================================================================================================================================================================================================================================================================================================================================================================================================================================================================================================================================================================================================================================================================================================================================================================================================================================================================================================================================================================================================================================================================================================================================================================================================================================================================================================================================================================================================================================================================================================================================================================================================================================================================================================================================================================================================================================================================================================================================================================================================================================================================================================================================================================================================================================================================================================================================================================================================================================================================================================================================================================================================================================================================================================================================================================================================================================================================================================================================================================================================================================================================================================================================================================================================================================================================================================================================================================================================================================================================================================================================================================================================================================================================================================================================================================================================================================================================================================================================================================================================================================================================================================================================================================================================================================================================================================================================================================================================================================================================================================================================================================================================================================================================================================================================================================================================================================================================================================================================================================================================================================================================================================================================================================================================================================================================================================================================================================================================================================================================================================================================================================================================================================================================================================================================================================================================================================================================================================================================================================================================================================================================================================================================================================================================================================================================================================================================================================================================================================================================================================================================================================================================================================================================================================================================================================================================================================================================================================================================================================================================================================================================================================================================================================================================================================================================================================================================================================================================================================================================================================================================================================================================================================================================================================================================================================================================================================================================================================================================================================================================================================================================================================================================================================================================================================================================================================================================================================================================================================================================================================================================================================================================================================================================================================================================================================================================================================================================================================================================================================================================================================================================================================================================================================================================================================================================================================================================================================================================================================================================================================================================================================================================================================================================================================================================================================================================================================================================================================================================================================================================================================================================================================================================================================================================================================================================================================================================================================================================================================================================================================================================================================================================================================================================================================================================================================================================================================================================================================================================================================================================================================================================================================================================================================================================================================================================================================================================================================================================================================================================================================================================================================================================================================================================================================================================================================================================================================================================================================================================================================================================================================================================================================================================================================================================================================================================================================================================================================================================================================================================================================================================================================================================================================================================================================================================================================================================================================================================================================================================================================================================================================================================================================================================================================================================================================================================================================================================================================================================================================================================================================================================================================================================================================================================================================================================================================================================================================================================================================================================================================================================================================================================================================================================================================================================================================================================================================================================================================================================================================================================================================================================================================================================================================================================================================================================================================================================================================================================================================================================================================================================================================================================================================================================================================================================================================================================================================================================================================================================================================================================================================================================================================================================================================================================================================================================================================================================================================================================================================================================================================================================================================================================================================================================================================================================================================================================================================================================================================================================================================================================================================================================================================================================================================================================================================================================================================================================================================================================================================================================================================================================================================================================================================================================================================================================================================================================================================================================================================================================================================================================================================================================================================================================================================================================================================================================================================================================================================================================================================================================================================================================================================================================================================================================================================================================================================================================================================================================================================================================================================================================================================================================================================================================================================================================================================================================================================================================================================================================================================================================================================================================================================================================================================================================================================================================================================================================================================================================================================================================================================================================================================================================================================================================================================================================================================================================================================================================================================================================================================================================================================================================================================================================================================================================================================================================================================================================================================================================================================================================================================================================================================================================================================================================================================================================================================================================================================================================================================================================================================================================================================================================================================================================================================================================================================================================================================================================================================================================================================================================================================================================================================================================================================================================================================================================================================================================================================================================================================================================================================================================================================================================================================================================================================================================================================================================================================================================================================================================================================================================================================================================================================================================================================================================================================================================================================================================================================================================================================================================================================================================================================================================================================================================================================================================================================================================================================================================================================================================================================================================================================================================================================================================================================================================================================================================================================================================================================================================================================================================================================================================================================================================================================================================================================================================================================================================================================================================================================================================================================================================================================================================================================================================================================================================================================================================================================================================================================================================================================================================================================================================================================================================================================================================================================================================================================================================================================================================================================================================================================================================================================================================================================================================================================================================================================================================================================================================================================================================================================================================================================================================================================================================================================================================================================================================================================================================================================================================================================================================================================================================================================================================================================================================================================================================================================================================================================================================================================================================================================================================================================================================================================================================================================================================================================================================================================================================================================================================================================================================================================================================================================================================================================================================================================================================================================================================================================================================================================================================================================================================================================================================================================================================================================================================================================================================================================================================================================================================================================================================================================================================================================================================================================================================================================================================================================================================================================================================================================================================================================================================================================================================================================================================================================================================================================================================================================================================================================================================================================================================================================================================================================================================================================================================================================================================================================================================================================================================================================================================================================================================================================================================================================================================================================================================================================================================================================================================================================================================================================================================================================================================================================================================================================================================================================================================================================================================================================================================================================================================================================================================================================================================================================================================================================================================================================================================================================================================================================================================================================================================================================================================================================================================================================================================================================================================================================================================================================================================================================================================================================================================================================================================================================================================================================================================================================================================================================================================================================================================================================================================================================================================================================================================================================================================================================================================================================================================================================================================================================================================================================================================================================================================================================================================================================================================================================================================================================================================================================================================================================================================================================================================================================================================================================================================================================================================================================================================================================================================================================================================================================================================================================================================================================================================================================================================================================================================================================================================================================================================================================================================================================================================================================================================================================================================================================================================================================================================================================================================================================================================================================================================================================================================================================================================================================================================================================================================================================================================================================================================================================================================================================================================================================================================================================================================================================================================================================================================================================================================================================================================================================================================================================================================================================================================================================================================================================================================================================================================================================================================================================================================================================================================================================================================================================================================================================================================================================================================================================================================================================================================================================================================================================================================================================================================================================================================================================================================================================================================================================================================================================================================================================================================================================================================================================================================================================================================================================================================================================================================================================================================================================================================================================================================================================================================================================================================================================================================================================================================================================================================================================================================================================================================================================================================================================================================================================================================================================================================================================================================================================================================================================================================================================================================================================================================================================================================================================================================================================================================================================================================================================================================================================================================================================================================================================================================================================================================================================================================================================================================================================================================================================================================================================================================================================================================================================================================================================================================================================================================================================================================================================================================================================================================================================================================================================================================================================================================================================================================================================================================================================================================================================================================] - 0s 21us/sample - loss: 0.1099 - accuracy: 0.9354\n"
     ]
    },
    {
     "data": {
      "text/plain": [
       "[0.1633402742101596, 0.93538463]"
      ]
     },
     "execution_count": 387,
     "metadata": {},
     "output_type": "execute_result"
    }
   ],
   "source": [
    "model.evaluate(x_test,y_test)"
   ]
  },
  {
   "cell_type": "code",
   "execution_count": 388,
   "metadata": {},
   "outputs": [
    {
     "data": {
      "image/png": "[encoded data removed]",
      "text/plain": [
       "<Figure size 432x288 with 1 Axes>"
      ]
     },
     "metadata": {
      "needs_background": "light"
     },
     "output_type": "display_data"
    }
   ],
   "source": [
    "plt.title('Loss')\n",
    "plt.xlabel('epochs')\n",
    "plt.ylabel('loss')\n",
    "plt.grid()\n",
    "\n",
    "plt.plot(hist.history['loss'], label='train loss')\n",
    "plt.plot(hist.history['val_loss'], label='validation loss')\n",
    "\n",
    "plt.legend(loc='best')\n",
    "\n",
    "plt.show()"
   ]
  },
  {
   "cell_type": "code",
   "execution_count": 389,
   "metadata": {},
   "outputs": [
    {
     "data": {
      "image/png": "[encoded data removed]",
      "text/plain": [
       "<Figure size 432x288 with 1 Axes>"
      ]
     },
     "metadata": {
      "needs_background": "light"
     },
     "output_type": "display_data"
    }
   ],
   "source": [
    "plt.title('Accuracy')\n",
    "plt.xlabel('epochs')\n",
    "plt.ylabel('accuracy')\n",
    "plt.grid()\n",
    "\n",
    "plt.plot(hist.history['accuracy'], label='train accuracy')\n",
    "plt.plot(hist.history['val_accuracy'], label='validation accuracy')\n",
    "\n",
    "plt.legend(loc='best')\n",
    "\n",
    "plt.show()"
   ]
  },
  {
   "cell_type": "code",
   "execution_count": 390,
   "metadata": {},
   "outputs": [],
   "source": [
    "from sklearn.neighbors import KNeighborsClassifier\n",
    "from sklearn.tree import DecisionTreeClassifier\n",
    "from sklearn.ensemble import RandomForestClassifier\n",
    "from sklearn.naive_bayes import GaussianNB\n",
    "from sklearn.svm import SVC"
   ]
  },
  {
   "cell_type": "code",
   "execution_count": 391,
   "metadata": {},
   "outputs": [],
   "source": [
    "from sklearn.model_selection import KFold\n",
    "from sklearn.model_selection import cross_val_score\n",
    "k_fold = KFold(n_splits=10, shuffle=True, random_state=0)"
   ]
  },
  {
   "cell_type": "markdown",
   "metadata": {},
   "source": [
    "knn"
   ]
  },
  {
   "cell_type": "code",
   "execution_count": 392,
   "metadata": {},
   "outputs": [
    {
     "name": "stdout",
     "output_type": "stream",
     "text": [
      "[0.99538462 0.99076923 0.99384615 0.99692308 0.99230769 0.99076923\n",
      " 0.99538462 0.99846154 0.99076923 0.99845917]\n"
     ]
    },
    {
     "data": {
      "text/plain": [
       "99.43"
      ]
     },
     "execution_count": 392,
     "metadata": {},
     "output_type": "execute_result"
    }
   ],
   "source": [
    "clf = KNeighborsClassifier(n_neighbors = 13)\n",
    "scoring = 'accuracy'\n",
    "score = cross_val_score(clf, x_train, y_train, cv=k_fold, n_jobs=1, scoring=scoring)\n",
    "print(score)\n",
    "round(np.mean(score)*100, 2)"
   ]
  },
  {
   "cell_type": "markdown",
   "metadata": {},
   "source": [
    "Decision Tree"
   ]
  },
  {
   "cell_type": "code",
   "execution_count": 393,
   "metadata": {},
   "outputs": [
    {
     "name": "stdout",
     "output_type": "stream",
     "text": [
      "[0.99692308 0.99384615 0.99846154 0.99846154 0.99846154 0.99692308\n",
      " 0.99692308 1.         0.99692308 1.        ]\n"
     ]
    },
    {
     "data": {
      "text/plain": [
       "99.77"
      ]
     },
     "execution_count": 393,
     "metadata": {},
     "output_type": "execute_result"
    }
   ],
   "source": [
    "clf = RandomForestClassifier(n_estimators=13)\n",
    "scoring = 'accuracy'\n",
    "score = cross_val_score(clf,x_train, y_train, cv=k_fold, n_jobs=1, scoring=scoring)\n",
    "print(score)\n",
    "round(np.mean(score)*100, 2)"
   ]
  },
  {
   "cell_type": "markdown",
   "metadata": {},
   "source": [
    "Random Forest"
   ]
  },
  {
   "cell_type": "code",
   "execution_count": 394,
   "metadata": {},
   "outputs": [
    {
     "name": "stdout",
     "output_type": "stream",
     "text": [
      "[0.99692308 0.99384615 0.99846154 0.99846154 0.99846154 0.99692308\n",
      " 0.99692308 1.         0.99692308 1.        ]\n"
     ]
    },
    {
     "data": {
      "text/plain": [
       "99.77"
      ]
     },
     "execution_count": 394,
     "metadata": {},
     "output_type": "execute_result"
    }
   ],
   "source": [
    "clf = RandomForestClassifier(n_estimators=13)\n",
    "scoring = 'accuracy'\n",
    "score = cross_val_score(clf,x_train, y_train, cv=k_fold, n_jobs=1, scoring=scoring)\n",
    "print(score)\n",
    "round(np.mean(score)*100, 2)"
   ]
  },
  {
   "cell_type": "markdown",
   "metadata": {},
   "source": [
    "Naive Bayes"
   ]
  },
  {
   "cell_type": "code",
   "execution_count": 395,
   "metadata": {},
   "outputs": [
    {
     "name": "stdout",
     "output_type": "stream",
     "text": [
      "[0.72       0.66769231 0.69846154 0.69692308 0.66       0.69384615\n",
      " 0.68307692 0.68769231 0.68307692 0.70107858]\n"
     ]
    },
    {
     "data": {
      "text/plain": [
       "68.92"
      ]
     },
     "execution_count": 395,
     "metadata": {},
     "output_type": "execute_result"
    }
   ],
   "source": [
    "clf = GaussianNB()\n",
    "scoring = 'accuracy'\n",
    "score = cross_val_score(clf,x_train, y_train, cv=k_fold, n_jobs=1, scoring=scoring)\n",
    "print(score)\n",
    "round(np.mean(score)*100, 2)"
   ]
  },
  {
   "cell_type": "markdown",
   "metadata": {},
   "source": [
    "SVM"
   ]
  },
  {
   "cell_type": "code",
   "execution_count": 396,
   "metadata": {},
   "outputs": [
    {
     "name": "stdout",
     "output_type": "stream",
     "text": [
      "[0.99538462 0.99692308 0.99692308 0.99230769 0.99230769 0.99076923\n",
      " 0.98923077 0.99076923 0.99538462 0.9953775 ]\n"
     ]
    },
    {
     "data": {
      "text/plain": [
       "99.35"
      ]
     },
     "execution_count": 396,
     "metadata": {},
     "output_type": "execute_result"
    }
   ],
   "source": [
    "clf = SVC()\n",
    "scoring = 'accuracy'\n",
    "score = cross_val_score(clf,x_train, y_train, cv=k_fold, n_jobs=1, scoring=scoring)\n",
    "print(score)\n",
    "round(np.mean(score)*100,2)"
   ]
  },
  {
   "cell_type": "code",
   "execution_count": null,
   "metadata": {},
   "outputs": [],
   "source": []
  }
 ],
 "metadata": {
  "kernelspec": {
   "display_name": "Python 3",
   "language": "python",
   "name": "python3"
  },
  "language_info": {
   "codemirror_mode": {
    "name": "ipython",
    "version": 3
   },
   "file_extension": ".py",
   "mimetype": "text/x-python",
   "name": "python",
   "nbconvert_exporter": "python",
   "pygments_lexer": "ipython3",
   "version": "3.7.9"
  }
 },
 "nbformat": 4,
 "nbformat_minor": 4
}
