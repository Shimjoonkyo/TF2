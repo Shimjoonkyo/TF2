{
 "cells": [
  {
   "cell_type": "markdown",
   "metadata": {
    "id": "RNJhTxpRbLJ2"
   },
   "source": [
    "<a href=\"https://colab.research.google.com/github/minsuk-heo/tf2/blob/master/jupyter_notebooks/03.Dense_layer_XOR.ipynb\" target=\"_parent\"><img src=\"https://colab.research.google.com/assets/colab-badge.svg\" alt=\"Open In Colab\"/></a>"
   ]
  },
  {
   "cell_type": "markdown",
   "metadata": {
    "id": "uQpUXVMabLJ3"
   },
   "source": [
    "# XOR logic with two lense layers"
   ]
  },
  {
   "cell_type": "code",
   "execution_count": null,
   "metadata": {
    "id": "PMYAj-cIbLJ4"
   },
   "outputs": [],
   "source": [
    "from __future__ import absolute_import, division, print_function, unicode_literals\n",
    "\n",
    "try:\n",
    "  %tensorflow_version 2.x\n",
    "except Exception:\n",
    "  pass\n",
    "\n",
    "import tensorflow as tf\n",
    "from tensorflow.keras.layers import Dense\n",
    "from tensorflow.keras.models import Sequential\n",
    "# random seed for always same results\n",
    "tf.random.set_seed(678)\n",
    "\n",
    "import numpy as np"
   ]
  },
  {
   "cell_type": "code",
   "execution_count": null,
   "metadata": {
    "id": "iVOAFNfabLJ9",
    "outputId": "bd9cc606-8d52-426d-f58e-69f6e253f219"
   },
   "outputs": [
    {
     "name": "stdout",
     "output_type": "stream",
     "text": [
      "2.0.0\n"
     ]
    }
   ],
   "source": [
    "print(tf.__version__)"
   ]
  },
  {
   "cell_type": "markdown",
   "metadata": {
    "id": "CqzcH78fbLKA"
   },
   "source": [
    "# Inputs and Labels"
   ]
  },
  {
   "cell_type": "code",
   "execution_count": null,
   "metadata": {
    "id": "CaHJvZPabLKB"
   },
   "outputs": [],
   "source": [
    "X = np.array([[0.,0.],[0.,1.],[1.,0.],[1.,1.]])\n",
    "y = np.array([0.,1.,1.,0.])"
   ]
  },
  {
   "cell_type": "markdown",
   "metadata": {
    "id": "IFsfws0FbLKE"
   },
   "source": [
    "# Two dense Layers"
   ]
  },
  {
   "cell_type": "code",
   "execution_count": null,
   "metadata": {
    "id": "duzPgi2JbLKE"
   },
   "outputs": [],
   "source": [
    "model = Sequential()\n",
    "# first dense layer\n",
    "model.add(Dense(units=2,activation='sigmoid',input_dim=2))\n",
    "# second dense layer\n",
    "model.add(Dense(units=1,activation='sigmoid'))"
   ]
  },
  {
   "cell_type": "code",
   "execution_count": null,
   "metadata": {
    "id": "fqfIujTJbLKJ"
   },
   "outputs": [],
   "source": [
    "# loss function and optimization\n",
    "model.compile(loss='binary_crossentropy',optimizer='sgd',metrics=['accuracy'])"
   ]
  },
  {
   "cell_type": "code",
   "execution_count": null,
   "metadata": {
    "id": "RkBCrHWJbLKM",
    "outputId": "4b6ca7be-8aa2-4c4f-fdc9-445b53345395"
   },
   "outputs": [
    {
     "name": "stdout",
     "output_type": "stream",
     "text": [
      "Model: \"sequential\"\n",
      "_________________________________________________________________\n",
      "Layer (type)                 Output Shape              Param #   \n",
      "=================================================================\n",
      "dense (Dense)                (None, 2)                 6         \n",
      "_________________________________________________________________\n",
      "dense_1 (Dense)              (None, 1)                 3         \n",
      "=================================================================\n",
      "Total params: 9\n",
      "Trainable params: 9\n",
      "Non-trainable params: 0\n",
      "_________________________________________________________________\n",
      "None\n"
     ]
    }
   ],
   "source": [
    "# model summary\n",
    "print(model.summary())"
   ]
  },
  {
   "cell_type": "markdown",
   "metadata": {
    "id": "TDJGOaEIbLKP"
   },
   "source": [
    "# Train"
   ]
  },
  {
   "cell_type": "code",
   "execution_count": null,
   "metadata": {
    "id": "Wiiu3x4DbLKP",
    "outputId": "663682c8-77b7-4cc9-d437-8503cb4f47b1"
   },
   "outputs": [
    {
     "data": {
      "text/plain": [
       "<tensorflow.python.keras.callbacks.History at 0x64006f410>"
      ]
     },
     "execution_count": 7,
     "metadata": {
      "tags": []
     },
     "output_type": "execute_result"
    }
   ],
   "source": [
    "# Train (takes about 3 minutes from Colab)\n",
    "model.fit(X,y,epochs=50000,batch_size=4,verbose=0)"
   ]
  },
  {
   "cell_type": "markdown",
   "metadata": {
    "id": "G1Sy6ywhbLKS"
   },
   "source": [
    "# Test\n",
    "[0, 0], [0, 1] outputs are less than 0.5,  \n",
    "[0, 1], [1, 0] outputs are greater than 0.5"
   ]
  },
  {
   "cell_type": "code",
   "execution_count": null,
   "metadata": {
    "id": "hPzl-PULbLKT",
    "outputId": "e0d86242-364d-49be-c804-351c307bce0e"
   },
   "outputs": [
    {
     "name": "stdout",
     "output_type": "stream",
     "text": [
      "[[0.06190902]\n",
      " [0.94067526]\n",
      " [0.9409089 ]\n",
      " [0.07283714]]\n"
     ]
    }
   ],
   "source": [
    "print(model.predict(X,batch_size=4))"
   ]
  },
  {
   "cell_type": "markdown",
   "metadata": {
    "id": "PKxJQx4bbLKV"
   },
   "source": [
    "# Printing First Dense layer's weights and bias\n",
    "first node's weights are 3.5567355, 3.549393, bias is -5.4060693 \n",
    "second node's weights are 5.79164, 5.7427516, bias is -2.3299"
   ]
  },
  {
   "cell_type": "code",
   "execution_count": null,
   "metadata": {
    "id": "l7hoDE2XbLKV",
    "outputId": "419e7915-1cc5-4a16-bb54-3a0ad249123e"
   },
   "outputs": [
    {
     "name": "stdout",
     "output_type": "stream",
     "text": [
      "first layer weights:  [[3.5567362 5.79164  ]\n",
      " [3.5493941 5.742752 ]]\n",
      "first layer bias:  [-5.40607  -2.329901]\n"
     ]
    }
   ],
   "source": [
    "print(\"first layer weights: \",model.layers[0].get_weights()[0])\n",
    "print(\"first layer bias: \",model.layers[0].get_weights()[1])"
   ]
  },
  {
   "cell_type": "markdown",
   "metadata": {
    "id": "roy7SNYnbLKX"
   },
   "source": [
    "# Print Second Dense layer's weights and bias\n",
    "weights are -7.8013854, 7.392064, bias is-3.3388186"
   ]
  },
  {
   "cell_type": "code",
   "execution_count": null,
   "metadata": {
    "id": "9rUCOXXIbLKY",
    "outputId": "2fb1428a-c8a2-4332-93a7-fa3f58dc39d7"
   },
   "outputs": [
    {
     "name": "stdout",
     "output_type": "stream",
     "text": [
      "second layer weights:  [[-7.801387 ]\n",
      " [ 7.3920655]]\n",
      "second layer bias:  [-3.3388188]\n"
     ]
    }
   ],
   "source": [
    "print(\"second layer weights: \",model.layers[1].get_weights()[0])\n",
    "print(\"second layer bias: \",model.layers[1].get_weights()[1])"
   ]
  },
  {
   "cell_type": "markdown",
   "metadata": {
    "id": "W18b-SkybLKa"
   },
   "source": [
    "# calculate yourself and verify same result with TF dense layers"
   ]
  },
  {
   "cell_type": "code",
   "execution_count": null,
   "metadata": {
    "id": "2lKoCFg3bLKa"
   },
   "outputs": [],
   "source": [
    "import math\n",
    "\n",
    "def sigmoid(x):\n",
    "  return 1 / (1 + math.exp(-x))"
   ]
  },
  {
   "cell_type": "code",
   "execution_count": null,
   "metadata": {
    "id": "j4HQnPy3bLKd"
   },
   "outputs": [],
   "source": [
    "def get_output(x):\n",
    "    layer0 = model.layers[0]\n",
    "    # first dense layer, first node output\n",
    "    layer0_weights, layer0_bias = layer0.get_weights()\n",
    "    layer0_node0_weights = np.transpose(layer0_weights)[0]\n",
    "    layer0_node0_bias = layer0_bias[0]\n",
    "    layer0_node0_output = sigmoid( np.dot( x, layer0_node0_weights ) + layer0_node0_bias )\n",
    "    # second dense layer, second node output\n",
    "    layer0_node1_weights = np.transpose(layer0_weights)[1]\n",
    "    layer0_node1_bias = layer0_bias[1]\n",
    "    layer0_node1_output = sigmoid( np.dot( x, layer0_node1_weights ) + layer0_node1_bias )\n",
    "    # second layer output\n",
    "    layer1 = model.layers[1]\n",
    "    layer1_weights, layer1_bias = layer1.get_weights()\n",
    "    layer1_output = sigmoid( np.dot( [layer0_node0_output, layer0_node1_output], layer1_weights ) + layer1_bias )\n",
    "\n",
    "    print(layer1_output)"
   ]
  },
  {
   "cell_type": "code",
   "execution_count": null,
   "metadata": {
    "id": "2zL1Npv3bLKg",
    "outputId": "4649d112-7124-4fd4-9937-a0e39515d7d6"
   },
   "outputs": [
    {
     "name": "stdout",
     "output_type": "stream",
     "text": [
      "0.061909028513168735\n"
     ]
    }
   ],
   "source": [
    "get_output([0,0])"
   ]
  },
  {
   "cell_type": "code",
   "execution_count": null,
   "metadata": {
    "id": "BnqyD1OsbLKi",
    "outputId": "9e077b6f-ebc0-4481-bf22-92d8790c658b"
   },
   "outputs": [
    {
     "name": "stdout",
     "output_type": "stream",
     "text": [
      "0.9406752216593391\n"
     ]
    }
   ],
   "source": [
    "get_output([0,1])"
   ]
  },
  {
   "cell_type": "code",
   "execution_count": null,
   "metadata": {
    "id": "HvtqVLKHbLKl",
    "outputId": "306ce0bc-38c8-4bef-e621-e75315ffa004"
   },
   "outputs": [
    {
     "name": "stdout",
     "output_type": "stream",
     "text": [
      "0.9409089934995193\n"
     ]
    }
   ],
   "source": [
    "get_output([1,0])"
   ]
  },
  {
   "cell_type": "code",
   "execution_count": null,
   "metadata": {
    "id": "PTGJ6VYYbLKn",
    "outputId": "035c1cfb-e1c6-43d1-ba5a-0f4eea78bfe0"
   },
   "outputs": [
    {
     "name": "stdout",
     "output_type": "stream",
     "text": [
      "0.07283725484720817\n"
     ]
    }
   ],
   "source": [
    "get_output([1,1])"
   ]
  },
  {
   "cell_type": "code",
   "execution_count": null,
   "metadata": {
    "id": "thnGONcObLKp"
   },
   "outputs": [],
   "source": []
  }
 ],
 "metadata": {
  "colab": {
   "name": "03.Dense_layer_XOR.ipynb",
   "provenance": []
  },
  "kernelspec": {
   "display_name": "Python 3",
   "language": "python",
   "name": "python3"
  },
  "language_info": {
   "codemirror_mode": {
    "name": "ipython",
    "version": 3
   },
   "file_extension": ".py",
   "mimetype": "text/x-python",
   "name": "python",
   "nbconvert_exporter": "python",
   "pygments_lexer": "ipython3",
   "version": "3.7.9"
  }
 },
 "nbformat": 4,
 "nbformat_minor": 1
}
