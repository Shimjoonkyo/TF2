{
  "nbformat": 4,
  "nbformat_minor": 0,
  "metadata": {
    "kernelspec": {
      "display_name": "Python 3",
      "language": "python",
      "name": "python3"
    },
    "language_info": {
      "codemirror_mode": {
        "name": "ipython",
        "version": 3
      },
      "file_extension": ".py",
      "mimetype": "text/x-python",
      "name": "python",
      "nbconvert_exporter": "python",
      "pygments_lexer": "ipython3",
      "version": "3.7.5"
    },
    "colab": {
      "name": "01.Node.ipynb",
      "provenance": []
    }
  },
  "cells": [
    {
      "cell_type": "markdown",
      "metadata": {
        "id": "ibfbyVzchk2f"
      },
      "source": [
        "<a href=\"https://colab.research.google.com/github/minsuk-heo/tf2/blob/master/jupyter_notebooks/01.Node.ipynb\" target=\"_parent\"><img src=\"https://colab.research.google.com/assets/colab-badge.svg\" alt=\"Open In Colab\"/></a>"
      ]
    },
    {
      "cell_type": "code",
      "metadata": {
        "id": "wPDEwTsWhlqE"
      },
      "source": [
        ""
      ],
      "execution_count": null,
      "outputs": []
    },
    {
      "cell_type": "code",
      "metadata": {
        "id": "Ax88zZIihk2h"
      },
      "source": [
        "# For Colab to use Tensorflow 2.X\n",
        "from __future__ import absolute_import, division, print_function, unicode_literals\n",
        "\n",
        "try:\n",
        "  %tensorflow_version 2.x\n",
        "except Exception:\n",
        "  pass"
      ],
      "execution_count": null,
      "outputs": []
    },
    {
      "cell_type": "code",
      "metadata": {
        "id": "UVHRl_H8hk2l"
      },
      "source": [
        "import tensorflow as tf"
      ],
      "execution_count": null,
      "outputs": []
    },
    {
      "cell_type": "markdown",
      "metadata": {
        "id": "Fyc-vvyXhk2o"
      },
      "source": [
        "# One Feature Node"
      ]
    },
    {
      "cell_type": "code",
      "metadata": {
        "id": "CGj1-L1thk2o"
      },
      "source": [
        "class One_Feature_Node:\n",
        "    def __init__(self):\n",
        "        self.w = tf.Variable([[0.1]])\n",
        "        self.b = tf.Variable([[0.5]])\n",
        "        \n",
        "    def __call__(self, x):\n",
        "        return self.get_output(x)\n",
        "    \n",
        "    def get_output(self,x):\n",
        "        out = tf.matmul(x,self.w)\n",
        "        print(\"matmul result: \", out.numpy())\n",
        "        out = tf.add(out, self.b)\n",
        "        print(\"adding bias result: \", out.numpy())\n",
        "        out = tf.math.sigmoid(out)\n",
        "        print(\"sigmoid result:\", out.numpy())\n",
        "        return out"
      ],
      "execution_count": null,
      "outputs": []
    },
    {
      "cell_type": "code",
      "metadata": {
        "id": "ALqymx9bhk2r",
        "outputId": "318396cb-f040-4179-debd-3e3c2aeab110"
      },
      "source": [
        "# Single Input\n",
        "x = tf.constant([[1.0]])\n",
        "\n",
        "one_feature_node = One_Feature_Node()\n",
        "one_feature_node(x)"
      ],
      "execution_count": null,
      "outputs": [
        {
          "output_type": "stream",
          "text": [
            "matmul result:  [[0.1]]\n",
            "adding bias result:  [[0.6]]\n",
            "sigmoid result: [[0.6456563]]\n"
          ],
          "name": "stdout"
        },
        {
          "output_type": "execute_result",
          "data": {
            "text/plain": [
              "<tf.Tensor: id=20, shape=(1, 1), dtype=float32, numpy=array([[0.6456563]], dtype=float32)>"
            ]
          },
          "metadata": {
            "tags": []
          },
          "execution_count": 4
        }
      ]
    },
    {
      "cell_type": "markdown",
      "metadata": {
        "id": "p4mFAbpLhk2w"
      },
      "source": [
        "# Two Features Node"
      ]
    },
    {
      "cell_type": "code",
      "metadata": {
        "id": "_1t9KWfXhk2x"
      },
      "source": [
        "class Two_Features_Node:\n",
        "    def __init__(self):\n",
        "        self.w = tf.Variable([[0.1], [0.2]])\n",
        "        self.b = tf.Variable([[0.5]])\n",
        "        \n",
        "    def __call__(self, x):\n",
        "        return self.get_output(x)\n",
        "    \n",
        "    def get_output(self,x):\n",
        "        out = tf.matmul(x,self.w)\n",
        "        print(\"matmul result: \", out.numpy())\n",
        "        out = tf.add(out, self.b)\n",
        "        print(\"adding bias result: \", out.numpy())\n",
        "        out = tf.math.sigmoid(out)\n",
        "        print(\"sigmoid result:\", out.numpy())\n",
        "        return out"
      ],
      "execution_count": null,
      "outputs": []
    },
    {
      "cell_type": "code",
      "metadata": {
        "id": "RpyoGOErhk21",
        "outputId": "1dd0918e-067d-467b-85be-94784239efc8"
      },
      "source": [
        "# Multi Features Single Input (Two features for one data)\n",
        "x = tf.constant([[1.0,2.0]])\n",
        "\n",
        "two_features_node = Two_Features_Node()\n",
        "two_features_node(x)"
      ],
      "execution_count": null,
      "outputs": [
        {
          "output_type": "stream",
          "text": [
            "matmul result:  [[0.5]]\n",
            "adding bias result:  [[1.]]\n",
            "sigmoid result: [[0.7310586]]\n"
          ],
          "name": "stdout"
        },
        {
          "output_type": "execute_result",
          "data": {
            "text/plain": [
              "<tf.Tensor: id=40, shape=(1, 1), dtype=float32, numpy=array([[0.7310586]], dtype=float32)>"
            ]
          },
          "metadata": {
            "tags": []
          },
          "execution_count": 6
        }
      ]
    },
    {
      "cell_type": "markdown",
      "metadata": {
        "id": "g2HuYRylhk25"
      },
      "source": [
        "# N inputs for Two Features Node"
      ]
    },
    {
      "cell_type": "code",
      "metadata": {
        "id": "MgtrsTfehk26",
        "outputId": "18ede7a2-87ee-4b6a-cd1c-493657f8f417"
      },
      "source": [
        "# Multi Input Data (3 samples)\n",
        "x = tf.constant([[1.0,2.0],[2.0,3.0],[4.0,5.0]])\n",
        "\n",
        "two_features_node = Two_Features_Node()\n",
        "two_features_node(x)"
      ],
      "execution_count": null,
      "outputs": [
        {
          "output_type": "stream",
          "text": [
            "matmul result:  [[0.5]\n",
            " [0.8]\n",
            " [1.4]]\n",
            "adding bias result:  [[1. ]\n",
            " [1.3]\n",
            " [1.9]]\n",
            "sigmoid result: [[0.7310586]\n",
            " [0.785835 ]\n",
            " [0.8698916]]\n"
          ],
          "name": "stdout"
        },
        {
          "output_type": "execute_result",
          "data": {
            "text/plain": [
              "<tf.Tensor: id=60, shape=(3, 1), dtype=float32, numpy=\n",
              "array([[0.7310586],\n",
              "       [0.785835 ],\n",
              "       [0.8698916]], dtype=float32)>"
            ]
          },
          "metadata": {
            "tags": []
          },
          "execution_count": 7
        }
      ]
    },
    {
      "cell_type": "markdown",
      "metadata": {
        "id": "fDOXY4R_hk29"
      },
      "source": [
        "# tf.function speed check\n",
        "tf.function decoration put your python onto autograph.  \n",
        "This enables faster execution, running on GPU or TPU, or exporting to SavedModel."
      ]
    },
    {
      "cell_type": "code",
      "metadata": {
        "id": "abHndndBhk2-"
      },
      "source": [
        "import timeit"
      ],
      "execution_count": null,
      "outputs": []
    },
    {
      "cell_type": "code",
      "metadata": {
        "id": "doWwcG8jhk3B"
      },
      "source": [
        "class Two_Features_Node2:\n",
        "    def __init__(self):\n",
        "        self.w = tf.Variable([[0.1], [0.2]])\n",
        "        self.b = tf.Variable([[0.5]])\n",
        "        \n",
        "    def __call__(self, x):\n",
        "        return self.get_output(x)\n",
        "    \n",
        "    def get_output(self,x):\n",
        "        for i in range(50):\n",
        "            out = tf.matmul(x,self.w)\n",
        "            out = tf.add(out, self.b)\n",
        "            out = tf.math.sigmoid(out)\n",
        "        return out\n",
        "    \n",
        "    @tf.function\n",
        "    def get_output_faster(self,x):\n",
        "        for i in range(50):\n",
        "            out = tf.matmul(x,self.w)\n",
        "            out = tf.add(out, self.b)\n",
        "            out = tf.math.sigmoid(out)\n",
        "        return out"
      ],
      "execution_count": null,
      "outputs": []
    },
    {
      "cell_type": "code",
      "metadata": {
        "id": "g8EJegVjhk3D"
      },
      "source": [
        "two_features_node2 = Two_Features_Node2()\n",
        "get_output_without_tf_function_timeit = timeit.timeit(lambda: two_features_node2.get_output(x), number=300)\n",
        "get_output_faster_with_tf_function_timeit = timeit.timeit(lambda: two_features_node2.get_output_faster(x), number=300)\n",
        "time_diff = round(get_output_without_tf_function_timeit / get_output_faster_with_tf_function_timeit, 1)"
      ],
      "execution_count": null,
      "outputs": []
    },
    {
      "cell_type": "code",
      "metadata": {
        "id": "m3sTpEkghk3G",
        "outputId": "83acab21-eacb-4de7-9df6-ca40bf1b2572"
      },
      "source": [
        "print(\"get_output_faster(@tf.function) is \" + str(time_diff) + \" times faster than get_output_without_tf_function!\")"
      ],
      "execution_count": null,
      "outputs": [
        {
          "output_type": "stream",
          "text": [
            "get_output_faster(@tf.function) is 58.4 times faster than get_output_without_tf_function!\n"
          ],
          "name": "stdout"
        }
      ]
    },
    {
      "cell_type": "code",
      "metadata": {
        "id": "QCaK6lplhk3J"
      },
      "source": [
        ""
      ],
      "execution_count": null,
      "outputs": []
    }
  ]
}