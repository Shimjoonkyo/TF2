{
 "cells": [
  {
   "cell_type": "markdown",
   "metadata": {
    "id": "j-6axt7qkkY-"
   },
   "source": [
    "<a href=\"https://colab.research.google.com/github/minsuk-heo/tf2/blob/master/jupyter_notebooks/05.MLP.ipynb\" target=\"_parent\"><img src=\"https://colab.research.google.com/assets/colab-badge.svg\" alt=\"Open In Colab\"/></a>"
   ]
  },
  {
   "cell_type": "code",
   "execution_count": 2,
   "metadata": {
    "id": "FbT4R5whkkY_"
   },
   "outputs": [],
   "source": [
    "import numpy as np"
   ]
  },
  {
   "cell_type": "code",
   "execution_count": 3,
   "metadata": {
    "id": "ataZKTa_kkZF",
    "outputId": "de106f80-8703-4364-a9b0-066dafaafe09"
   },
   "outputs": [
    {
     "name": "stdout",
     "output_type": "stream",
     "text": [
      "[0.00237792 0.95932017 0.00646385 0.00237792 0.00237792 0.00237792\n",
      " 0.00237792 0.01757056 0.00237792 0.00237792]\n"
     ]
    }
   ],
   "source": [
    "# softmax practice\n",
    "def softmax(x):\n",
    "    return np.exp(x) / np.sum(np.exp(x), axis=0)\n",
    "scores = [1, 7, 2, 1, 1, 1, 1, 3, 1, 1]\n",
    "print(softmax(scores))"
   ]
  },
  {
   "cell_type": "code",
   "execution_count": 4,
   "metadata": {
    "id": "1YwXX3qNkkZJ"
   },
   "outputs": [],
   "source": [
    "from __future__ import absolute_import, division, print_function, unicode_literals\n",
    "\n",
    "try:\n",
    "  %tensorflow_version 2.x\n",
    "except Exception:\n",
    "  pass\n",
    "\n",
    "import tensorflow as tf\n",
    "tf.random.set_seed(1)"
   ]
  },
  {
   "cell_type": "code",
   "execution_count": 5,
   "metadata": {
    "id": "Bj6QhlVrkkZM"
   },
   "outputs": [],
   "source": [
    "import tensorflow as tf\n",
    "from tensorflow.keras.models import Sequential\n",
    "from tensorflow.keras.layers import Flatten\n",
    "from tensorflow.keras.layers import Dense\n",
    "from tensorflow.keras.layers import Activation"
   ]
  },
  {
   "cell_type": "markdown",
   "metadata": {
    "id": "YYQjvYK6kkZP"
   },
   "source": [
    "# Get MNIST Data"
   ]
  },
  {
   "cell_type": "code",
   "execution_count": 72,
   "metadata": {
    "id": "uRjNPSbdkkZP"
   },
   "outputs": [],
   "source": [
    "(x_train, y_train), (x_test, y_test) = tf.keras.datasets.mnist.load_data()\n",
    "x_train = x_train.astype('float32')\n",
    "x_test = x_test.astype('float32')\n",
    "\n",
    "gray_scale = 255\n",
    "x_train /= gray_scale\n",
    "x_test /= gray_scale"
   ]
  },
  {
   "cell_type": "code",
   "execution_count": 73,
   "metadata": {},
   "outputs": [
    {
     "name": "stdout",
     "output_type": "stream",
     "text": [
      "(60000, 28, 28)\n"
     ]
    }
   ],
   "source": [
    "print(x_train.shape)"
   ]
  },
  {
   "cell_type": "code",
   "execution_count": 74,
   "metadata": {},
   "outputs": [
    {
     "name": "stdout",
     "output_type": "stream",
     "text": [
      "(10000,)\n"
     ]
    }
   ],
   "source": [
    "print(y_test.shape)"
   ]
  },
  {
   "cell_type": "code",
   "execution_count": 75,
   "metadata": {},
   "outputs": [
    {
     "name": "stdout",
     "output_type": "stream",
     "text": [
      "0.33333334\n"
     ]
    }
   ],
   "source": [
    "print(x_train[1][20][6])"
   ]
  },
  {
   "cell_type": "markdown",
   "metadata": {
    "id": "CkJ_pE-xkkZS"
   },
   "source": [
    "# MLP Model for classifiation"
   ]
  },
  {
   "cell_type": "code",
   "execution_count": 76,
   "metadata": {
    "id": "eTOGIDkgkkZS"
   },
   "outputs": [],
   "source": [
    "model = Sequential()\n",
    "model.add(Flatten(input_shape=(28,28))) # reshape 28 row * 28 column data to 28*28 rows\n",
    "model.add(Dense(256, activation='sigmoid'))    \n",
    "model.add(Dense(128, activation='sigmoid')) # dense layer 2\n",
    "model.add(Dense(10, activation='softmax'))  # dense layer 3\n"
   ]
  },
  {
   "cell_type": "code",
   "execution_count": 80,
   "metadata": {
    "id": "2iqPdqg4kkZU"
   },
   "outputs": [
    {
     "name": "stdout",
     "output_type": "stream",
     "text": [
      "Model: \"sequential_1\"\n",
      "_________________________________________________________________\n",
      "Layer (type)                 Output Shape              Param #   \n",
      "=================================================================\n",
      "flatten_1 (Flatten)          (None, 784)               0         \n",
      "_________________________________________________________________\n",
      "dense_3 (Dense)              (None, 256)               200960    \n",
      "_________________________________________________________________\n",
      "dense_4 (Dense)              (None, 128)               32896     \n",
      "_________________________________________________________________\n",
      "dense_5 (Dense)              (None, 10)                1290      \n",
      "=================================================================\n",
      "Total params: 235,146\n",
      "Trainable params: 235,146\n",
      "Non-trainable params: 0\n",
      "_________________________________________________________________\n"
     ]
    }
   ],
   "source": [
    "model.compile(optimizer='adam',\n",
    "              loss='sparse_categorical_crossentropy',\n",
    "              metrics=['accuracy'])\n",
    "model.summary()"
   ]
  },
  {
   "cell_type": "markdown",
   "metadata": {
    "id": "fYKH-UCVkkZX"
   },
   "source": [
    "# Train"
   ]
  },
  {
   "cell_type": "code",
   "execution_count": 81,
   "metadata": {
    "id": "qF75qM3SkkZX",
    "outputId": "c75a2310-ac1b-4832-9768-95b47ab914eb"
   },
   "outputs": [
    {
     "name": "stdout",
     "output_type": "stream",
     "text": [
      "Train on 48000 samples, validate on 12000 samples\n",
      "Epoch 1/10\n",
      "48000/48000 [==============================] - 1s 17us/sample - loss: 2.0674 - accuracy: 0.3967 - val_loss: 1.7127 - val_accuracy: 0.6821\n",
      "Epoch 2/10\n",
      "48000/48000 [==============================] - 0s 8us/sample - loss: 1.3867 - accuracy: 0.7040 - val_loss: 1.0389 - val_accuracy: 0.7797\n",
      "Epoch 3/10\n",
      "48000/48000 [==============================] - 0s 8us/sample - loss: 0.8748 - accuracy: 0.8023 - val_loss: 0.6824 - val_accuracy: 0.8586\n",
      "Epoch 4/10\n",
      "48000/48000 [==============================] - 0s 9us/sample - loss: 0.6164 - accuracy: 0.8600 - val_loss: 0.5023 - val_accuracy: 0.8883\n",
      "Epoch 5/10\n",
      "48000/48000 [==============================] - 0s 8us/sample - loss: 0.4780 - accuracy: 0.8860 - val_loss: 0.4047 - val_accuracy: 0.9024\n",
      "Epoch 6/10\n",
      "48000/48000 [==============================] - 0s 8us/sample - loss: 0.4004 - accuracy: 0.8983 - val_loss: 0.3517 - val_accuracy: 0.9091\n",
      "Epoch 7/10\n",
      "48000/48000 [==============================] - 0s 8us/sample - loss: 0.3540 - accuracy: 0.9057 - val_loss: 0.3168 - val_accuracy: 0.9160\n",
      "Epoch 8/10\n",
      "48000/48000 [==============================] - 0s 8us/sample - loss: 0.3219 - accuracy: 0.9124 - val_loss: 0.2926 - val_accuracy: 0.9204\n",
      "Epoch 9/10\n",
      "48000/48000 [==============================] - 0s 8us/sample - loss: 0.2984 - accuracy: 0.9171 - val_loss: 0.2747 - val_accuracy: 0.9247\n",
      "Epoch 10/10\n",
      "48000/48000 [==============================] - 0s 8us/sample - loss: 0.2802 - accuracy: 0.9214 - val_loss: 0.2608 - val_accuracy: 0.9275\n"
     ]
    }
   ],
   "source": [
    "hist=model.fit(x_train, y_train, epochs=10, batch_size=2000, validation_split = 0.2)"
   ]
  },
  {
   "cell_type": "markdown",
   "metadata": {
    "id": "JnI_YR3NkkZa"
   },
   "source": [
    "# Test"
   ]
  },
  {
   "cell_type": "code",
   "execution_count": 82,
   "metadata": {
    "id": "9Dfn4Ef9kkZa"
   },
   "outputs": [],
   "source": [
    "results = model.evaluate(x_test,  y_test,verbose = 0)"
   ]
  },
  {
   "cell_type": "code",
   "execution_count": 83,
   "metadata": {
    "id": "SrL5IdfXkkZd",
    "outputId": "1e77b704-46bf-49b0-8d8c-75882c842c21"
   },
   "outputs": [
    {
     "name": "stdout",
     "output_type": "stream",
     "text": [
      "test loss, test acc: [0.2665602934896946, 0.9255]\n"
     ]
    }
   ],
   "source": [
    "print('test loss, test acc:', results)"
   ]
  },
  {
   "cell_type": "code",
   "execution_count": 84,
   "metadata": {},
   "outputs": [
    {
     "data": {
      "text/plain": [
       "array([[6.1090372e-04, 2.7607082e-04, 9.9241908e-04, ..., 9.9016917e-01,\n",
       "        1.7622203e-04, 4.3116347e-03],\n",
       "       [4.6748216e-03, 5.8838371e-03, 9.5180643e-01, ..., 3.8166461e-05,\n",
       "        4.3326290e-03, 8.6776919e-05],\n",
       "       [8.0823738e-05, 9.7484517e-01, 7.6867719e-03, ..., 5.1916349e-03,\n",
       "        2.6341886e-03, 1.1230874e-03],\n",
       "       ...,\n",
       "       [6.7888803e-05, 1.2027514e-03, 6.6704955e-04, ..., 4.2349976e-03,\n",
       "        9.8447632e-03, 7.3631071e-02],\n",
       "       [1.8848387e-03, 2.1653238e-03, 7.8243727e-04, ..., 3.6682939e-04,\n",
       "        1.1480191e-01, 3.3474495e-04],\n",
       "       [1.2036589e-03, 3.1587301e-04, 1.8051922e-03, ..., 3.0708612e-05,\n",
       "        7.9334961e-05, 6.3913125e-05]], dtype=float32)"
      ]
     },
     "execution_count": 84,
     "metadata": {},
     "output_type": "execute_result"
    }
   ],
   "source": [
    "model.predict(x_test)"
   ]
  },
  {
   "cell_type": "code",
   "execution_count": 64,
   "metadata": {},
   "outputs": [
    {
     "name": "stdout",
     "output_type": "stream",
     "text": [
      "[<tf.Variable 'dense/kernel:0' shape=(784, 256) dtype=float32, numpy=\n",
      "array([[-0.05087027,  0.06098938,  0.0198964 , ...,  0.00188395,\n",
      "         0.02735402, -0.05244568],\n",
      "       [-0.03088946,  0.03645992,  0.05406313, ...,  0.01317755,\n",
      "        -0.04286024, -0.06785275],\n",
      "       [-0.05742106, -0.04684889, -0.0629202 , ...,  0.02300072,\n",
      "        -0.00512099, -0.0274822 ],\n",
      "       ...,\n",
      "       [ 0.04123557,  0.02135414,  0.04907781, ..., -0.04102425,\n",
      "        -0.00077882,  0.05305274],\n",
      "       [-0.00531389, -0.05305535,  0.06963596, ...,  0.00513488,\n",
      "         0.01560087,  0.04582444],\n",
      "       [-0.00873969, -0.06721476,  0.04295109, ..., -0.04448083,\n",
      "         0.02010446,  0.03320529]], dtype=float32)>, <tf.Variable 'dense/bias:0' shape=(256,) dtype=float32, numpy=\n",
      "array([ 3.43957953e-02,  1.30763113e-01, -1.32910892e-01, -4.82071750e-02,\n",
      "        2.24118046e-02,  2.64114570e-02,  1.68026716e-01, -6.25939444e-02,\n",
      "       -1.38794303e-01,  1.03710899e-02,  8.37708935e-02,  9.37621370e-02,\n",
      "       -1.25992559e-02, -6.30397350e-02, -2.05525920e-01,  1.36630267e-01,\n",
      "        2.10219696e-02, -4.71669473e-02,  1.35981008e-01,  2.08434999e-01,\n",
      "        3.88249196e-02,  1.88244078e-02, -5.22188805e-02, -4.31047566e-02,\n",
      "        1.95047095e-01,  1.82007961e-02,  5.60118780e-02,  1.66063428e-01,\n",
      "       -9.14539304e-03,  1.04771949e-01,  1.66552942e-02, -1.75075755e-01,\n",
      "        6.95541725e-02, -4.02177306e-04,  1.51957914e-01,  1.76826954e-01,\n",
      "       -2.03713268e-01,  6.14709482e-02,  8.63072127e-02,  3.33950557e-02,\n",
      "       -4.32434082e-02, -2.45439485e-02, -1.57970354e-01,  2.64931843e-02,\n",
      "       -4.54369672e-02, -2.52831250e-01, -2.83363443e-02, -4.65126038e-02,\n",
      "       -1.66018829e-01, -5.04768789e-02, -8.43457319e-03,  3.72317247e-02,\n",
      "       -4.38594259e-02, -2.82844901e-01,  7.05366358e-02,  2.28676945e-02,\n",
      "       -8.66424814e-02, -1.49397671e-01, -1.35467201e-01, -1.12565860e-01,\n",
      "       -1.36345372e-01,  3.65443304e-02,  1.78218290e-01,  9.03521031e-02,\n",
      "        5.69477417e-02, -6.89423010e-02, -4.12148936e-03, -3.87269109e-02,\n",
      "       -7.09930956e-02, -8.91347378e-02,  1.11979648e-01,  2.50100017e-01,\n",
      "        1.98650267e-02, -8.04749131e-02, -1.44487828e-01, -1.46085888e-01,\n",
      "       -3.59614864e-02, -9.32718143e-02,  2.74655949e-02,  2.02666014e-01,\n",
      "       -1.23825908e-01, -7.94808492e-02,  8.20671320e-02,  4.38334942e-02,\n",
      "        1.38795003e-01, -9.54955295e-02,  5.97522967e-02, -1.04021773e-01,\n",
      "       -3.80967855e-02, -2.07400993e-01, -2.49600410e-02, -9.21746045e-02,\n",
      "        8.73543881e-03,  3.45918350e-02,  1.74752846e-02, -1.68572798e-01,\n",
      "       -2.56340634e-02,  2.15135187e-01,  1.27532512e-01,  1.23059846e-01,\n",
      "       -1.60044119e-01,  1.01668453e-02, -1.11032583e-01, -9.37473178e-02,\n",
      "       -5.59033779e-03, -1.20892830e-01,  8.33674073e-02,  9.44763646e-02,\n",
      "       -1.59660593e-01,  6.95352554e-02,  6.01695701e-02,  1.24913808e-02,\n",
      "       -2.02239513e-01, -8.48953612e-03, -1.76545847e-02, -1.50655389e-01,\n",
      "       -1.14875905e-01, -1.07361721e-02,  1.14395365e-01, -2.18491610e-02,\n",
      "       -7.25709787e-03, -1.31706044e-01, -1.28597632e-01, -1.16538383e-01,\n",
      "       -1.99131481e-02,  2.38325998e-01, -1.37959644e-01, -1.67351644e-02,\n",
      "        3.75610106e-02,  1.12253107e-01, -1.54293105e-01, -1.04935698e-01,\n",
      "        1.21432453e-01, -3.01369522e-02,  1.00887507e-01, -1.66199908e-01,\n",
      "       -1.14613764e-01,  5.56610487e-02, -8.91321674e-02, -1.55323014e-01,\n",
      "        1.35569185e-01, -9.40627009e-02,  8.26860517e-02,  9.32992175e-02,\n",
      "       -1.11722335e-01, -7.28743374e-02,  4.33518365e-02,  6.37845099e-02,\n",
      "       -5.82077876e-02,  3.99486609e-02,  1.09992959e-01,  3.88029777e-02,\n",
      "       -1.15124173e-01, -3.38272750e-02, -9.90560725e-02, -9.97291282e-02,\n",
      "       -6.16463870e-02,  3.15267183e-02, -9.03486684e-02, -1.04917232e-02,\n",
      "        9.63006169e-02, -5.50577492e-02,  1.72892958e-01, -7.40559101e-02,\n",
      "       -3.95428203e-02, -3.49442416e-05,  1.60483569e-02, -1.96560174e-01,\n",
      "       -1.45321384e-01, -7.10987076e-02,  1.15750376e-02,  1.13976328e-02,\n",
      "       -3.21360826e-02,  7.67906010e-02, -1.26055494e-01, -1.39526442e-01,\n",
      "       -4.76883352e-02,  1.45812333e-01, -3.10809672e-01,  2.43108626e-02,\n",
      "        4.04222980e-02, -3.19708884e-02, -5.12826182e-02, -1.14154637e-01,\n",
      "        7.21398443e-02, -9.58745331e-02,  1.23864055e-01,  1.31494477e-01,\n",
      "        8.51987824e-02, -1.42850325e-01,  5.82883060e-02, -5.76049872e-02,\n",
      "       -1.49981469e-01, -8.31407607e-02,  1.01581492e-01,  5.91035709e-02,\n",
      "       -1.36919454e-01,  8.80497023e-02, -4.08197194e-02, -3.60152386e-02,\n",
      "        1.87004536e-01,  2.05113083e-01,  1.44948326e-02, -3.01061541e-01,\n",
      "       -8.65948051e-02,  3.52834873e-02,  6.33574352e-02, -2.31644474e-02,\n",
      "       -1.47943586e-01, -4.61003445e-02, -7.88842291e-02,  1.74462602e-01,\n",
      "        1.31814823e-01,  8.12367722e-02, -6.64354116e-02,  3.91048752e-02,\n",
      "       -1.09008543e-01, -8.69053006e-02,  5.12387715e-02,  5.11529818e-02,\n",
      "       -7.61565343e-02,  1.10744938e-01, -1.08383909e-01, -1.56388983e-01,\n",
      "       -2.58866907e-03, -2.73308367e-01, -5.45100644e-02,  4.42794785e-02,\n",
      "       -9.69813988e-02, -5.27629443e-02,  9.49140862e-02,  5.74382059e-02,\n",
      "        1.40286788e-01, -1.37336090e-01,  8.77986699e-02,  3.00848305e-01,\n",
      "        1.28222629e-03,  1.36070773e-01, -2.64676809e-02, -1.63740873e-01,\n",
      "       -3.07239503e-01,  2.17665266e-02, -1.38824940e-01, -1.30461425e-01,\n",
      "       -2.61073001e-03, -1.12397522e-02, -4.82881628e-02,  8.72345194e-02,\n",
      "       -3.47238183e-02, -2.18609452e-01,  4.25197333e-02,  6.82548136e-02,\n",
      "       -3.08712721e-02, -4.15582545e-02, -9.80567858e-02, -2.31971201e-02],\n",
      "      dtype=float32)>, <tf.Variable 'dense_1/kernel:0' shape=(256, 128) dtype=float32, numpy=\n",
      "array([[-0.09500688,  0.09735786, -0.22257243, ...,  0.18774405,\n",
      "         0.05904761, -0.07665002],\n",
      "       [ 0.06545788,  0.06423002,  0.04238573, ...,  0.00824178,\n",
      "        -0.0524026 , -0.11055361],\n",
      "       [-0.08186524,  0.1454261 ,  0.13089904, ...,  0.45582208,\n",
      "         0.39983657, -0.3933563 ],\n",
      "       ...,\n",
      "       [ 0.01788495,  0.14743148,  0.05419025, ..., -0.04964423,\n",
      "        -0.03058991, -0.09740649],\n",
      "       [-0.0256172 , -0.39504588, -0.18484029, ..., -0.20551737,\n",
      "        -0.0746972 ,  0.44610068],\n",
      "       [ 0.1837605 , -0.00955058,  0.08626596, ..., -0.06864722,\n",
      "         0.05784491, -0.04056192]], dtype=float32)>, <tf.Variable 'dense_1/bias:0' shape=(128,) dtype=float32, numpy=\n",
      "array([-0.00793303,  0.01259697, -0.01194002,  0.01715434,  0.01361827,\n",
      "       -0.01852425, -0.01974411, -0.02480684, -0.0143385 ,  0.00010225,\n",
      "        0.01542272,  0.00820571, -0.0240982 ,  0.00612921,  0.01034709,\n",
      "        0.01234615, -0.0046523 ,  0.00335436, -0.00836074, -0.00439403,\n",
      "        0.01797971,  0.0196906 , -0.01880131,  0.01136788,  0.0192934 ,\n",
      "       -0.00342503, -0.00921862, -0.01934312,  0.00150174, -0.0045143 ,\n",
      "       -0.00797031, -0.01370286,  0.00522441, -0.01218945,  0.01246158,\n",
      "       -0.01318523,  0.01313326, -0.00325303, -0.00412475,  0.00034551,\n",
      "       -0.01577614, -0.00141295, -0.00644022,  0.0083534 , -0.01808815,\n",
      "        0.0102676 , -0.00508642,  0.00290969,  0.0046803 ,  0.00269317,\n",
      "        0.00669715,  0.00641688, -0.00341633, -0.02012874, -0.01634797,\n",
      "        0.00719187,  0.02014013,  0.00265722, -0.00307123, -0.00971623,\n",
      "       -0.00819035,  0.02085119, -0.03265491, -0.01398386,  0.01269753,\n",
      "       -0.00067224,  0.01185431, -0.01378922,  0.00741671,  0.00128675,\n",
      "       -0.01294659,  0.00645676, -0.01357368,  0.00923474, -0.00654676,\n",
      "       -0.01582787,  0.01606162,  0.00852703, -0.01709651, -0.02738684,\n",
      "        0.00432128,  0.00650103, -0.01024878,  0.0143909 , -0.00645711,\n",
      "        0.02332601,  0.01101097,  0.02132631,  0.00143449, -0.00682001,\n",
      "       -0.00342829,  0.00472282,  0.01160717,  0.00191523, -0.02359122,\n",
      "       -0.01012904,  0.02819115, -0.00290208, -0.00162943, -0.00483955,\n",
      "       -0.00652065, -0.00853746,  0.00818096, -0.01268483,  0.01239653,\n",
      "        0.01986833,  0.00381478,  0.00071246,  0.0040114 , -0.01012724,\n",
      "       -0.03156327,  0.00436913, -0.01808923,  0.02351292,  0.00480971,\n",
      "        0.02048407, -0.01279261, -0.00343411,  0.00191341, -0.00564559,\n",
      "       -0.00793384,  0.01493504,  0.01082289, -0.01283959, -0.00512519,\n",
      "        0.012073  , -0.00659838, -0.00182447], dtype=float32)>, <tf.Variable 'dense_2/kernel:0' shape=(128, 10) dtype=float32, numpy=\n",
      "array([[ 0.658142  ,  0.31970295,  0.36653847, ...,  0.66910046,\n",
      "        -0.38071924, -0.476707  ],\n",
      "       [ 0.0888063 , -0.40404704,  0.54125905, ..., -0.67357993,\n",
      "        -0.03154991, -0.5191944 ],\n",
      "       [ 0.5565619 ,  0.4730091 ,  0.31714264, ...,  0.4594815 ,\n",
      "        -0.6516714 , -0.06227339],\n",
      "       ...,\n",
      "       [-0.6832205 , -0.41625947,  0.27097577, ..., -0.47847936,\n",
      "         0.3598012 , -0.374607  ],\n",
      "       [-0.7120586 , -0.26493567,  0.55227274, ...,  0.26493758,\n",
      "        -0.51144254, -0.45722002],\n",
      "       [ 0.5000907 ,  0.5516342 , -0.60314435, ..., -0.5533287 ,\n",
      "        -0.63930553,  0.439007  ]], dtype=float32)>, <tf.Variable 'dense_2/bias:0' shape=(10,) dtype=float32, numpy=\n",
      "array([ 0.01322362, -0.001408  ,  0.00654167,  0.01445623, -0.02263814,\n",
      "       -0.00655772,  0.04882745,  0.00263904, -0.02728632, -0.00932338],\n",
      "      dtype=float32)>]\n"
     ]
    }
   ],
   "source": [
    "print(model.weights)"
   ]
  },
  {
   "cell_type": "code",
   "execution_count": 85,
   "metadata": {},
   "outputs": [],
   "source": [
    "import matplotlib.pyplot as plt\n",
    "from IPython.display import Image\n",
    "from tensorflow.keras.losses import binary_crossentropy\n",
    "from tensorflow.keras.utils import normalize"
   ]
  },
  {
   "cell_type": "code",
   "execution_count": 86,
   "metadata": {},
   "outputs": [
    {
     "data": {
      "image/png": "[encoded data removed]",
      "text/plain": [
       "<Figure size 432x288 with 1 Axes>"
      ]
     },
     "metadata": {
      "needs_background": "light"
     },
     "output_type": "display_data"
    }
   ],
   "source": [
    "plt.title('Loss')\n",
    "plt.xlabel('epochs')\n",
    "plt.ylabel('loss')\n",
    "plt.grid()\n",
    "\n",
    "plt.plot(hist.history['loss'], label='train loss')\n",
    "plt.plot(hist.history['val_loss'], label='validation loss')\n",
    "\n",
    "plt.legend(loc='best')\n",
    "\n",
    "plt.show()"
   ]
  },
  {
   "cell_type": "code",
   "execution_count": 87,
   "metadata": {},
   "outputs": [
    {
     "data": {
      "image/png": "[encoded data removed]",
      "text/plain": [
       "<Figure size 432x288 with 1 Axes>"
      ]
     },
     "metadata": {
      "needs_background": "light"
     },
     "output_type": "display_data"
    }
   ],
   "source": [
    "plt.title('Accuracy')\n",
    "plt.xlabel('epochs')\n",
    "plt.ylabel('accuracy')\n",
    "plt.grid()\n",
    "\n",
    "plt.plot(hist.history['accuracy'], label='train accuracy')\n",
    "plt.plot(hist.history['val_accuracy'], label='validation accuracy')\n",
    "\n",
    "plt.legend(loc='best')\n",
    "\n",
    "plt.show()"
   ]
  }
 ],
 "metadata": {
  "colab": {
   "name": "05.MLP.ipynb",
   "provenance": []
  },
  "kernelspec": {
   "display_name": "Python 3",
   "language": "python",
   "name": "python3"
  },
  "language_info": {
   "codemirror_mode": {
    "name": "ipython",
    "version": 3
   },
   "file_extension": ".py",
   "mimetype": "text/x-python",
   "name": "python",
   "nbconvert_exporter": "python",
   "pygments_lexer": "ipython3",
   "version": "3.7.9"
  }
 },
 "nbformat": 4,
 "nbformat_minor": 1
}
