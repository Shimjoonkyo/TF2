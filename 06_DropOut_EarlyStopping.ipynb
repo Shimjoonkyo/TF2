{
 "cells": [
  {
   "cell_type": "markdown",
   "metadata": {
    "id": "cgxBjzrn7Cb8"
   },
   "source": [
    "<a href=\"https://colab.research.google.com/github/minsuk-heo/tf2/blob/master/jupyter_notebooks/06.DropOut_EarlyStopping.ipynb\" target=\"_parent\"><img src=\"https://colab.research.google.com/assets/colab-badge.svg\" alt=\"Open In Colab\"/></a>"
   ]
  },
  {
   "cell_type": "code",
   "execution_count": 3,
   "metadata": {
    "id": "lv6Gj_c97CcA"
   },
   "outputs": [],
   "source": [
    "from __future__ import absolute_import, division, print_function, unicode_literals\n",
    "\n",
    "try:\n",
    "  %tensorflow_version 2.x\n",
    "except Exception:\n",
    "  pass\n",
    "\n",
    "import tensorflow as tf\n",
    "tf.random.set_seed(1)"
   ]
  },
  {
   "cell_type": "code",
   "execution_count": 4,
   "metadata": {
    "id": "tPSczuIU7CcE"
   },
   "outputs": [],
   "source": [
    "import tensorflow as tf\n",
    "from tensorflow.keras.models import Sequential\n",
    "from tensorflow.keras.layers import Flatten\n",
    "from tensorflow.keras.layers import Dense\n",
    "from tensorflow.keras.layers import Activation\n",
    "from tensorflow.keras.layers import Dropout\n",
    "from tensorflow.keras.callbacks import EarlyStopping, ModelCheckpoint"
   ]
  },
  {
   "cell_type": "markdown",
   "metadata": {
    "id": "Kt7yYe317CcH"
   },
   "source": [
    "# Get MNIST Data"
   ]
  },
  {
   "cell_type": "code",
   "execution_count": 15,
   "metadata": {
    "id": "hRVSRbx37CcI"
   },
   "outputs": [],
   "source": [
    "(x_train, y_train), (x_test, y_test) = tf.keras.datasets.mnist.load_data()\n",
    "x_train = x_train.astype('float32')\n",
    "x_test = x_test.astype('float32')\n",
    "\n",
    "gray_scale = 255\n",
    "x_train /= gray_scale\n",
    "x_test /= gray_scale"
   ]
  },
  {
   "cell_type": "markdown",
   "metadata": {
    "id": "Pe_HcA2a7CcK"
   },
   "source": [
    "# MLP Model for classifiation"
   ]
  },
  {
   "cell_type": "code",
   "execution_count": 24,
   "metadata": {
    "id": "6XHNjyZw7CcK"
   },
   "outputs": [],
   "source": [
    "model = Sequential([\n",
    "    Flatten(input_shape=(28, 28)),    # reshape 28 row * 28 column data to 28*28 rows\n",
    "    Dense(256, activation='sigmoid'), # dense layer 1\n",
    "    Dropout(0.2), # DropOut 20% on dense layer 1\n",
    "    Dense(128, activation='sigmoid'), # dense layer 2\n",
    "    Dropout(0.1), # DropOut 10% on dense layer 2\n",
    "    Dense(10, activation='softmax'),  # dense layer 3\n",
    "])"
   ]
  },
  {
   "cell_type": "code",
   "execution_count": 25,
   "metadata": {
    "id": "MYj77OEt7CcN"
   },
   "outputs": [],
   "source": [
    "model.compile(optimizer='adam',\n",
    "              loss='sparse_categorical_crossentropy',\n",
    "              metrics=['accuracy'])"
   ]
  },
  {
   "cell_type": "markdown",
   "metadata": {
    "id": "-EIW9RE07CcP"
   },
   "source": [
    "# Train"
   ]
  },
  {
   "cell_type": "code",
   "execution_count": 26,
   "metadata": {
    "id": "YDebRcbJ7CcP",
    "outputId": "1c3e3836-ba9a-4430-d8c0-64d8c5b83c11"
   },
   "outputs": [
    {
     "name": "stdout",
     "output_type": "stream",
     "text": [
      "Train on 48000 samples, validate on 12000 samples\n",
      "Epoch 1/100\n",
      "48000/48000 [==============================] - 1s 23us/sample - loss: 2.1286 - accuracy: 0.2860 - val_loss: 1.7597 - val_accuracy: 0.6217\n",
      "Epoch 2/100\n",
      "48000/48000 [==============================] - 1s 11us/sample - loss: 1.4714 - accuracy: 0.6413 - val_loss: 1.0760 - val_accuracy: 0.7922\n",
      "Epoch 3/100\n",
      "48000/48000 [==============================] - 1s 11us/sample - loss: 0.9467 - accuracy: 0.7662 - val_loss: 0.7011 - val_accuracy: 0.8523\n",
      "Epoch 4/100\n",
      "48000/48000 [==============================] - 1s 10us/sample - loss: 0.6808 - accuracy: 0.8279 - val_loss: 0.5238 - val_accuracy: 0.8785\n",
      "Epoch 5/100\n",
      "48000/48000 [==============================] - 1s 11us/sample - loss: 0.5416 - accuracy: 0.8574 - val_loss: 0.4270 - val_accuracy: 0.8944\n",
      "Epoch 6/100\n",
      "48000/48000 [==============================] - 1s 11us/sample - loss: 0.4616 - accuracy: 0.8765 - val_loss: 0.3693 - val_accuracy: 0.9051\n",
      "Epoch 7/100\n",
      "48000/48000 [==============================] - 1s 10us/sample - loss: 0.4075 - accuracy: 0.8893 - val_loss: 0.3305 - val_accuracy: 0.9122\n",
      "Epoch 8/100\n",
      "48000/48000 [==============================] - 1s 12us/sample - loss: 0.3707 - accuracy: 0.8976 - val_loss: 0.3042 - val_accuracy: 0.9168\n",
      "Epoch 9/100\n",
      "48000/48000 [==============================] - 1s 11us/sample - loss: 0.3447 - accuracy: 0.9034 - val_loss: 0.2844 - val_accuracy: 0.9224\n",
      "Epoch 10/100\n",
      "48000/48000 [==============================] - 1s 11us/sample - loss: 0.3243 - accuracy: 0.9076 - val_loss: 0.2687 - val_accuracy: 0.9247\n",
      "Epoch 11/100\n",
      "48000/48000 [==============================] - 1s 10us/sample - loss: 0.3078 - accuracy: 0.9108 - val_loss: 0.2566 - val_accuracy: 0.9273\n",
      "Epoch 12/100\n",
      "48000/48000 [==============================] - 1s 11us/sample - loss: 0.2912 - accuracy: 0.9165 - val_loss: 0.2456 - val_accuracy: 0.9305\n",
      "Epoch 13/100\n",
      "48000/48000 [==============================] - 0s 10us/sample - loss: 0.2808 - accuracy: 0.9182 - val_loss: 0.2356 - val_accuracy: 0.9327\n",
      "Epoch 14/100\n",
      "48000/48000 [==============================] - 1s 11us/sample - loss: 0.2690 - accuracy: 0.9221 - val_loss: 0.2280 - val_accuracy: 0.9350\n",
      "Epoch 15/100\n",
      "48000/48000 [==============================] - 0s 10us/sample - loss: 0.2588 - accuracy: 0.9239 - val_loss: 0.2201 - val_accuracy: 0.9359\n",
      "Epoch 16/100\n",
      "48000/48000 [==============================] - 1s 11us/sample - loss: 0.2478 - accuracy: 0.9280 - val_loss: 0.2130 - val_accuracy: 0.9388\n",
      "Epoch 17/100\n",
      "48000/48000 [==============================] - 1s 10us/sample - loss: 0.2387 - accuracy: 0.9305 - val_loss: 0.2065 - val_accuracy: 0.9413\n",
      "Epoch 18/100\n",
      "48000/48000 [==============================] - 1s 11us/sample - loss: 0.2319 - accuracy: 0.9325 - val_loss: 0.2000 - val_accuracy: 0.9427\n",
      "Epoch 19/100\n",
      "48000/48000 [==============================] - 1s 11us/sample - loss: 0.2244 - accuracy: 0.9336 - val_loss: 0.1943 - val_accuracy: 0.9448\n",
      "Epoch 20/100\n",
      "48000/48000 [==============================] - 1s 11us/sample - loss: 0.2143 - accuracy: 0.9387 - val_loss: 0.1886 - val_accuracy: 0.9462\n",
      "Epoch 21/100\n",
      "48000/48000 [==============================] - 1s 11us/sample - loss: 0.2109 - accuracy: 0.9376 - val_loss: 0.1845 - val_accuracy: 0.9487\n",
      "Epoch 22/100\n",
      "48000/48000 [==============================] - 1s 11us/sample - loss: 0.2045 - accuracy: 0.9386 - val_loss: 0.1794 - val_accuracy: 0.9492\n",
      "Epoch 23/100\n",
      "48000/48000 [==============================] - 1s 12us/sample - loss: 0.1963 - accuracy: 0.9429 - val_loss: 0.1751 - val_accuracy: 0.9504\n",
      "Epoch 24/100\n",
      "48000/48000 [==============================] - 1s 11us/sample - loss: 0.1902 - accuracy: 0.9438 - val_loss: 0.1703 - val_accuracy: 0.9517\n",
      "Epoch 25/100\n",
      "48000/48000 [==============================] - 1s 11us/sample - loss: 0.1847 - accuracy: 0.9461 - val_loss: 0.1658 - val_accuracy: 0.9527\n",
      "Epoch 26/100\n",
      "48000/48000 [==============================] - 1s 11us/sample - loss: 0.1800 - accuracy: 0.9465 - val_loss: 0.1621 - val_accuracy: 0.9541\n",
      "Epoch 27/100\n",
      "48000/48000 [==============================] - 1s 11us/sample - loss: 0.1754 - accuracy: 0.9485 - val_loss: 0.1580 - val_accuracy: 0.9556\n",
      "Epoch 28/100\n",
      "48000/48000 [==============================] - 1s 11us/sample - loss: 0.1695 - accuracy: 0.9500 - val_loss: 0.1556 - val_accuracy: 0.9549\n",
      "Epoch 29/100\n",
      "48000/48000 [==============================] - 1s 12us/sample - loss: 0.1646 - accuracy: 0.9522 - val_loss: 0.1520 - val_accuracy: 0.9557\n",
      "Epoch 30/100\n",
      "48000/48000 [==============================] - 1s 11us/sample - loss: 0.1599 - accuracy: 0.9528 - val_loss: 0.1488 - val_accuracy: 0.9570\n",
      "Epoch 31/100\n",
      "48000/48000 [==============================] - 1s 11us/sample - loss: 0.1571 - accuracy: 0.9540 - val_loss: 0.1439 - val_accuracy: 0.9588\n",
      "Epoch 32/100\n",
      "48000/48000 [==============================] - 1s 12us/sample - loss: 0.1515 - accuracy: 0.9546 - val_loss: 0.1416 - val_accuracy: 0.9589\n",
      "Epoch 33/100\n",
      "48000/48000 [==============================] - 1s 11us/sample - loss: 0.1474 - accuracy: 0.9563 - val_loss: 0.1387 - val_accuracy: 0.9592\n",
      "Epoch 34/100\n",
      "48000/48000 [==============================] - ETA: 0s - loss: 0.1418 - accuracy: 0.95 - 1s 12us/sample - loss: 0.1429 - accuracy: 0.9569 - val_loss: 0.1370 - val_accuracy: 0.9598\n",
      "Epoch 35/100\n",
      "48000/48000 [==============================] - 1s 11us/sample - loss: 0.1405 - accuracy: 0.9590 - val_loss: 0.1330 - val_accuracy: 0.9610\n",
      "Epoch 36/100\n",
      "48000/48000 [==============================] - 1s 11us/sample - loss: 0.1362 - accuracy: 0.9593 - val_loss: 0.1302 - val_accuracy: 0.9621\n",
      "Epoch 37/100\n",
      "48000/48000 [==============================] - 1s 11us/sample - loss: 0.1352 - accuracy: 0.9600 - val_loss: 0.1279 - val_accuracy: 0.9628\n",
      "Epoch 38/100\n",
      "48000/48000 [==============================] - 1s 11us/sample - loss: 0.1305 - accuracy: 0.9615 - val_loss: 0.1260 - val_accuracy: 0.9629\n",
      "Epoch 39/100\n",
      "48000/48000 [==============================] - 1s 11us/sample - loss: 0.1257 - accuracy: 0.9638 - val_loss: 0.1233 - val_accuracy: 0.9634\n",
      "Epoch 40/100\n",
      "48000/48000 [==============================] - 1s 11us/sample - loss: 0.1218 - accuracy: 0.9636 - val_loss: 0.1217 - val_accuracy: 0.9640\n",
      "Epoch 41/100\n",
      "48000/48000 [==============================] - 1s 11us/sample - loss: 0.1203 - accuracy: 0.9637 - val_loss: 0.1196 - val_accuracy: 0.9643\n",
      "Epoch 42/100\n",
      "48000/48000 [==============================] - 1s 11us/sample - loss: 0.1174 - accuracy: 0.9652 - val_loss: 0.1174 - val_accuracy: 0.9653\n",
      "Epoch 43/100\n",
      "48000/48000 [==============================] - 1s 11us/sample - loss: 0.1152 - accuracy: 0.9662 - val_loss: 0.1148 - val_accuracy: 0.9654\n",
      "Epoch 44/100\n",
      "48000/48000 [==============================] - 1s 11us/sample - loss: 0.1096 - accuracy: 0.9673 - val_loss: 0.1131 - val_accuracy: 0.9666\n",
      "Epoch 45/100\n",
      "48000/48000 [==============================] - 1s 11us/sample - loss: 0.1084 - accuracy: 0.9673 - val_loss: 0.1116 - val_accuracy: 0.9663\n",
      "Epoch 46/100\n",
      "48000/48000 [==============================] - 1s 12us/sample - loss: 0.1055 - accuracy: 0.9690 - val_loss: 0.1103 - val_accuracy: 0.9669\n",
      "Epoch 47/100\n",
      "48000/48000 [==============================] - 1s 11us/sample - loss: 0.1034 - accuracy: 0.9692 - val_loss: 0.1081 - val_accuracy: 0.9671\n",
      "Epoch 48/100\n",
      "48000/48000 [==============================] - 1s 11us/sample - loss: 0.1012 - accuracy: 0.9701 - val_loss: 0.1072 - val_accuracy: 0.9678\n",
      "Epoch 49/100\n",
      "48000/48000 [==============================] - 1s 11us/sample - loss: 0.0980 - accuracy: 0.9706 - val_loss: 0.1064 - val_accuracy: 0.9682\n",
      "Epoch 50/100\n",
      "48000/48000 [==============================] - 1s 11us/sample - loss: 0.0956 - accuracy: 0.9716 - val_loss: 0.1037 - val_accuracy: 0.9686\n",
      "Epoch 51/100\n",
      "48000/48000 [==============================] - 1s 11us/sample - loss: 0.0933 - accuracy: 0.9716 - val_loss: 0.1029 - val_accuracy: 0.9678\n",
      "Epoch 52/100\n",
      "48000/48000 [==============================] - 1s 12us/sample - loss: 0.0926 - accuracy: 0.9720 - val_loss: 0.1015 - val_accuracy: 0.9700\n",
      "Epoch 53/100\n",
      "48000/48000 [==============================] - 1s 11us/sample - loss: 0.0883 - accuracy: 0.9742 - val_loss: 0.1003 - val_accuracy: 0.9702\n",
      "Epoch 54/100\n",
      "48000/48000 [==============================] - 1s 11us/sample - loss: 0.0880 - accuracy: 0.9738 - val_loss: 0.0986 - val_accuracy: 0.9697\n"
     ]
    },
    {
     "name": "stdout",
     "output_type": "stream",
     "text": [
      "Epoch 55/100\n",
      "48000/48000 [==============================] - 1s 11us/sample - loss: 0.0863 - accuracy: 0.9735 - val_loss: 0.0974 - val_accuracy: 0.9707\n",
      "Epoch 56/100\n",
      "48000/48000 [==============================] - 1s 11us/sample - loss: 0.0845 - accuracy: 0.9746 - val_loss: 0.0971 - val_accuracy: 0.9707\n",
      "Epoch 57/100\n",
      "48000/48000 [==============================] - 1s 11us/sample - loss: 0.0820 - accuracy: 0.9755 - val_loss: 0.0962 - val_accuracy: 0.9714\n",
      "Epoch 58/100\n",
      "48000/48000 [==============================] - 1s 11us/sample - loss: 0.0803 - accuracy: 0.9762 - val_loss: 0.0945 - val_accuracy: 0.9712\n",
      "Epoch 59/100\n",
      "48000/48000 [==============================] - 1s 11us/sample - loss: 0.0782 - accuracy: 0.9764 - val_loss: 0.0942 - val_accuracy: 0.9721\n",
      "Epoch 60/100\n",
      "48000/48000 [==============================] - 1s 12us/sample - loss: 0.0762 - accuracy: 0.9775 - val_loss: 0.0923 - val_accuracy: 0.9722\n",
      "Epoch 61/100\n",
      "48000/48000 [==============================] - 1s 13us/sample - loss: 0.0754 - accuracy: 0.9771 - val_loss: 0.0918 - val_accuracy: 0.9719\n",
      "Epoch 62/100\n",
      "48000/48000 [==============================] - 1s 13us/sample - loss: 0.0721 - accuracy: 0.9788 - val_loss: 0.0903 - val_accuracy: 0.9728\n",
      "Epoch 63/100\n",
      "48000/48000 [==============================] - 1s 13us/sample - loss: 0.0723 - accuracy: 0.9786 - val_loss: 0.0900 - val_accuracy: 0.9725\n",
      "Epoch 64/100\n",
      "48000/48000 [==============================] - 1s 13us/sample - loss: 0.0706 - accuracy: 0.9793 - val_loss: 0.0882 - val_accuracy: 0.9732\n",
      "Epoch 65/100\n",
      "48000/48000 [==============================] - 1s 13us/sample - loss: 0.0680 - accuracy: 0.9794 - val_loss: 0.0873 - val_accuracy: 0.9735\n",
      "Epoch 66/100\n",
      "48000/48000 [==============================] - 1s 13us/sample - loss: 0.0669 - accuracy: 0.9798 - val_loss: 0.0869 - val_accuracy: 0.9735\n",
      "Epoch 67/100\n",
      "48000/48000 [==============================] - 1s 13us/sample - loss: 0.0660 - accuracy: 0.9807 - val_loss: 0.0869 - val_accuracy: 0.9730\n",
      "Epoch 68/100\n",
      "48000/48000 [==============================] - 1s 13us/sample - loss: 0.0654 - accuracy: 0.9804 - val_loss: 0.0866 - val_accuracy: 0.9737\n",
      "Epoch 69/100\n",
      "48000/48000 [==============================] - 1s 13us/sample - loss: 0.0638 - accuracy: 0.9810 - val_loss: 0.0860 - val_accuracy: 0.9736\n",
      "Epoch 70/100\n",
      "48000/48000 [==============================] - 1s 13us/sample - loss: 0.0608 - accuracy: 0.9813 - val_loss: 0.0855 - val_accuracy: 0.9746\n",
      "Epoch 71/100\n",
      "48000/48000 [==============================] - 1s 13us/sample - loss: 0.0613 - accuracy: 0.9818 - val_loss: 0.0836 - val_accuracy: 0.9750\n",
      "Epoch 72/100\n",
      "48000/48000 [==============================] - 1s 13us/sample - loss: 0.0591 - accuracy: 0.9824 - val_loss: 0.0832 - val_accuracy: 0.9751\n",
      "Epoch 73/100\n",
      "48000/48000 [==============================] - 1s 13us/sample - loss: 0.0588 - accuracy: 0.9824 - val_loss: 0.0824 - val_accuracy: 0.9755\n",
      "Epoch 74/100\n",
      "48000/48000 [==============================] - 1s 13us/sample - loss: 0.0566 - accuracy: 0.9827 - val_loss: 0.0830 - val_accuracy: 0.9745\n",
      "Epoch 75/100\n",
      "48000/48000 [==============================] - 1s 13us/sample - loss: 0.0562 - accuracy: 0.9831 - val_loss: 0.0828 - val_accuracy: 0.9757\n",
      "Epoch 76/100\n",
      "48000/48000 [==============================] - 1s 13us/sample - loss: 0.0552 - accuracy: 0.9831 - val_loss: 0.0817 - val_accuracy: 0.9753\n",
      "Epoch 77/100\n",
      "48000/48000 [==============================] - 1s 13us/sample - loss: 0.0538 - accuracy: 0.9836 - val_loss: 0.0803 - val_accuracy: 0.9758\n",
      "Epoch 78/100\n",
      "48000/48000 [==============================] - 1s 13us/sample - loss: 0.0525 - accuracy: 0.9840 - val_loss: 0.0801 - val_accuracy: 0.9753\n",
      "Epoch 79/100\n",
      "48000/48000 [==============================] - 1s 13us/sample - loss: 0.0522 - accuracy: 0.9845 - val_loss: 0.0799 - val_accuracy: 0.9758\n",
      "Epoch 80/100\n",
      "48000/48000 [==============================] - 1s 13us/sample - loss: 0.0518 - accuracy: 0.9844 - val_loss: 0.0794 - val_accuracy: 0.9758\n",
      "Epoch 81/100\n",
      "48000/48000 [==============================] - 1s 14us/sample - loss: 0.0496 - accuracy: 0.9852 - val_loss: 0.0795 - val_accuracy: 0.9754\n",
      "Epoch 82/100\n",
      "48000/48000 [==============================] - 1s 14us/sample - loss: 0.0494 - accuracy: 0.9849 - val_loss: 0.0803 - val_accuracy: 0.9758\n"
     ]
    }
   ],
   "source": [
    "callbacks = [EarlyStopping(monitor='val_accuracy', patience=3)] # Early Stopping\n",
    "hist=model.fit(x_train, y_train, epochs=100, \n",
    "          batch_size=2000, validation_split = 0.2, callbacks=callbacks)"
   ]
  },
  {
   "cell_type": "markdown",
   "metadata": {
    "id": "N4IK_k4d7CcT"
   },
   "source": [
    "# Test"
   ]
  },
  {
   "cell_type": "code",
   "execution_count": 27,
   "metadata": {
    "id": "chQQXcko7CcT"
   },
   "outputs": [],
   "source": [
    "results = model.evaluate(x_test,  y_test, verbose = 0)"
   ]
  },
  {
   "cell_type": "code",
   "execution_count": 28,
   "metadata": {
    "id": "8cRg4UbT7CcW",
    "outputId": "6c82095c-cf38-4d0a-c517-83192df41f96"
   },
   "outputs": [
    {
     "name": "stdout",
     "output_type": "stream",
     "text": [
      "test loss, test acc: [0.07277600814383477, 0.9783]\n"
     ]
    }
   ],
   "source": [
    "print('test loss, test acc:', results)"
   ]
  },
  {
   "cell_type": "code",
   "execution_count": 29,
   "metadata": {
    "id": "rWYSG4S87CcY"
   },
   "outputs": [],
   "source": [
    "import matplotlib.pyplot as plt\n",
    "from IPython.display import Image\n",
    "from tensorflow.keras.losses import binary_crossentropy\n",
    "from tensorflow.keras.utils import normalize"
   ]
  },
  {
   "cell_type": "code",
   "execution_count": 30,
   "metadata": {},
   "outputs": [
    {
     "data": {
      "image/png": "[encoded data removed]",
      "text/plain": [
       "<Figure size 432x288 with 1 Axes>"
      ]
     },
     "metadata": {
      "needs_background": "light"
     },
     "output_type": "display_data"
    }
   ],
   "source": [
    "plt.title('Loss')\n",
    "plt.xlabel('epochs')\n",
    "plt.ylabel('loss')\n",
    "plt.grid()\n",
    "\n",
    "plt.plot(hist.history['loss'], label='train loss')\n",
    "plt.plot(hist.history['val_loss'], label='validation loss')\n",
    "\n",
    "plt.legend(loc='best')\n",
    "\n",
    "plt.show()"
   ]
  },
  {
   "cell_type": "code",
   "execution_count": 31,
   "metadata": {},
   "outputs": [
    {
     "data": {
      "image/png": "[encoded data removed]",
      "text/plain": [
       "<Figure size 432x288 with 1 Axes>"
      ]
     },
     "metadata": {
      "needs_background": "light"
     },
     "output_type": "display_data"
    }
   ],
   "source": [
    "plt.title('Accuracy')\n",
    "plt.xlabel('epochs')\n",
    "plt.ylabel('accuracy')\n",
    "plt.grid()\n",
    "\n",
    "plt.plot(hist.history['accuracy'], label='train accuracy')\n",
    "plt.plot(hist.history['val_accuracy'], label='validation accuracy')\n",
    "\n",
    "plt.legend(loc='best')\n",
    "\n",
    "plt.show()"
   ]
  },
  {
   "cell_type": "code",
   "execution_count": null,
   "metadata": {},
   "outputs": [],
   "source": []
  }
 ],
 "metadata": {
  "colab": {
   "name": "06.DropOut_EarlyStopping.ipynb",
   "provenance": []
  },
  "kernelspec": {
   "display_name": "Python 3",
   "language": "python",
   "name": "python3"
  },
  "language_info": {
   "codemirror_mode": {
    "name": "ipython",
    "version": 3
   },
   "file_extension": ".py",
   "mimetype": "text/x-python",
   "name": "python",
   "nbconvert_exporter": "python",
   "pygments_lexer": "ipython3",
   "version": "3.7.9"
  }
 },
 "nbformat": 4,
 "nbformat_minor": 1
}
